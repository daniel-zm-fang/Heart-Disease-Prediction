{
 "cells": [
  {
   "cell_type": "code",
   "execution_count": 1,
   "metadata": {},
   "outputs": [],
   "source": [
    "import pandas as pd\n",
    "import torch\n",
    "import numpy as np\n",
    "import torch.nn as nn\n",
    "from torch.utils.data import Dataset, DataLoader\n",
    "import pytorch_lightning as pl\n",
    "from sklearn.metrics import classification_report\n",
    "from imblearn.over_sampling import SMOTE\n",
    "from sklearn.preprocessing import StandardScaler, OrdinalEncoder\n",
    "from sklearn.model_selection import train_test_split"
   ]
  },
  {
   "cell_type": "code",
   "execution_count": 2,
   "metadata": {},
   "outputs": [],
   "source": [
    "class TestDataset(Dataset):\n",
    "    def __init__(self, X: torch.Tensor, y: torch.Tensor):\n",
    "        self.X = X\n",
    "        self.y = y\n",
    "        self.n_samples = len(self.X)\n",
    "\n",
    "    def __len__(self) -> int:\n",
    "        return self.n_samples\n",
    "\n",
    "    def __getitem__(self, idx) -> tuple:\n",
    "        return self.X[idx], self.y[idx]\n",
    "\n",
    "\n",
    "class Model(pl.LightningModule):\n",
    "    def __init__(self, path: str, train_size: float = 0.8):\n",
    "        super().__init__()\n",
    "        data = pd.read_csv(path)\n",
    "\n",
    "        # ordinal encode AgeCategory and GenHealth\n",
    "        data['AgeCategory'] = OrdinalEncoder().fit_transform(data['AgeCategory'].values.reshape(-1, 1))\n",
    "        data['GenHealth'] = data['GenHealth'].map({'Excellent': 0, 'Very good': 1, 'Good': 2, 'Fair': 3, 'Poor': 4})\n",
    "        data['Diabetic'] = data['Diabetic'].replace({'Yes':2, 'No, borderline diabetes':1, 'Yes (during pregnancy)':0, 'No':0})\n",
    "        # one-hot encode the other categorical variables\n",
    "        cat_cols = [col for col in data.columns if data[col].dtype == 'object']\n",
    "        self.data = pd.get_dummies(data, columns=cat_cols, drop_first=True)\n",
    "        X = self.data.drop('HeartDisease_Yes', axis=1).values\n",
    "        y = self.data['HeartDisease_Yes'].values\n",
    "        # standardize the data\n",
    "        scaler = StandardScaler()\n",
    "        X = scaler.fit_transform(X)\n",
    "        # split the data into train and test sets\n",
    "        self.train_X, self.val_X, self.train_y, self.val_y = train_test_split(X, y, train_size=train_size)\n",
    "        # oversample the minority class\n",
    "        smote = SMOTE(sampling_strategy='minority')\n",
    "        self.train_X, self.train_y = smote.fit_resample(self.train_X, self.train_y)\n",
    "        \n",
    "        # to tensor\n",
    "        self.train_X = torch.from_numpy(self.train_X).float()\n",
    "        self.train_y = torch.from_numpy(self.train_y).float().reshape(-1, 1)\n",
    "        self.val_X = torch.from_numpy(self.val_X).float()\n",
    "        self.val_y = torch.from_numpy(self.val_y).float().reshape(-1, 1)\n",
    "        self.model = nn.Sequential(\n",
    "            nn.LazyLinear(32),\n",
    "            nn.ReLU(),\n",
    "            nn.Dropout(0.4),\n",
    "            nn.LazyLinear(16),\n",
    "            nn.ReLU(),\n",
    "            nn.Dropout(0.2),\n",
    "            nn.LazyLinear(1),\n",
    "            nn.Sigmoid()\n",
    "        )\n",
    "\n",
    "    def configure_optimizers(self):\n",
    "        return torch.optim.Adam(self.parameters(), lr=0.01)\n",
    "\n",
    "    def forward(self, x):\n",
    "        return self.model(x)\n",
    "\n",
    "    def train_dataloader(self):\n",
    "        return DataLoader(TestDataset(self.train_X, self.train_y), batch_size=16)\n",
    "\n",
    "    def training_step(self, batch, batch_idx):\n",
    "        X, y = batch\n",
    "        y_hat = self.forward(X)\n",
    "        loss = nn.BCELoss()(y_hat, y)\n",
    "        return loss\n",
    "    \n",
    "    def dry_run(self):\n",
    "        # passes a dummy input through the model to infer parameter shapes\n",
    "        self.forward(self.train_X[0].reshape(1, -1))"
   ]
  },
  {
   "cell_type": "code",
   "execution_count": 3,
   "metadata": {},
   "outputs": [
    {
     "name": "stderr",
     "output_type": "stream",
     "text": [
      "/Library/Frameworks/Python.framework/Versions/3.10/lib/python3.10/site-packages/torch/nn/modules/lazy.py:178: UserWarning: Lazy modules are a new feature under heavy development so changes to the API or functionality can happen at any moment.\n",
      "  warnings.warn('Lazy modules are a new feature under heavy development '\n",
      "GPU available: True (mps), used: False\n",
      "TPU available: False, using: 0 TPU cores\n",
      "IPU available: False, using: 0 IPUs\n",
      "HPU available: False, using: 0 HPUs\n",
      "/Library/Frameworks/Python.framework/Versions/3.10/lib/python3.10/site-packages/pytorch_lightning/trainer/trainer.py:1789: UserWarning: MPS available but not used. Set `accelerator` and `devices` using `Trainer(accelerator='mps', devices=1)`.\n",
      "  rank_zero_warn(\n",
      "\n",
      "  | Name  | Type       | Params\n",
      "-------------------------------------\n",
      "0 | model | Sequential | 1.2 K \n",
      "-------------------------------------\n",
      "1.2 K     Trainable params\n",
      "0         Non-trainable params\n",
      "1.2 K     Total params\n",
      "0.005     Total estimated model params size (MB)\n",
      "/Library/Frameworks/Python.framework/Versions/3.10/lib/python3.10/site-packages/pytorch_lightning/trainer/connectors/data_connector.py:236: PossibleUserWarning: The dataloader, train_dataloader, does not have many workers which may be a bottleneck. Consider increasing the value of the `num_workers` argument` (try 8 which is the number of cpus on this machine) in the `DataLoader` init to improve performance.\n",
      "  rank_zero_warn(\n"
     ]
    },
    {
     "name": "stdout",
     "output_type": "stream",
     "text": [
      "Epoch 0: 100%|██████████| 29236/29236 [03:01<00:00, 160.77it/s, loss=1.75e-08, v_num=12]"
     ]
    },
    {
     "name": "stderr",
     "output_type": "stream",
     "text": [
      "`Trainer.fit` stopped: `max_epochs=1` reached.\n"
     ]
    },
    {
     "name": "stdout",
     "output_type": "stream",
     "text": [
      "Epoch 0: 100%|██████████| 29236/29236 [03:01<00:00, 160.76it/s, loss=1.75e-08, v_num=12]\n"
     ]
    }
   ],
   "source": [
    "model = Model('../data/heart_2020_cleaned.csv')\n",
    "trainer = pl.Trainer(max_epochs=1, fast_dev_run=False)\n",
    "model.dry_run()\n",
    "trainer.fit(model)"
   ]
  },
  {
   "cell_type": "code",
   "execution_count": 4,
   "metadata": {},
   "outputs": [
    {
     "name": "stdout",
     "output_type": "stream",
     "text": [
      "              precision    recall  f1-score   support\n",
      "\n",
      "         0.0       0.00      0.00      0.00     58536\n",
      "         1.0       0.08      1.00      0.16      5423\n",
      "\n",
      "    accuracy                           0.08     63959\n",
      "   macro avg       0.04      0.50      0.08     63959\n",
      "weighted avg       0.01      0.08      0.01     63959\n",
      "\n"
     ]
    },
    {
     "name": "stderr",
     "output_type": "stream",
     "text": [
      "/var/folders/_4/_jdhh0l55554y_ybr3_s_j9h0000gn/T/ipykernel_12579/1945470421.py:2: UserWarning: To copy construct from a tensor, it is recommended to use sourceTensor.clone().detach() or sourceTensor.clone().detach().requires_grad_(True), rather than torch.tensor(sourceTensor).\n",
      "  test_data = torch.tensor(td.X, dtype=torch.float)\n",
      "/var/folders/_4/_jdhh0l55554y_ybr3_s_j9h0000gn/T/ipykernel_12579/1945470421.py:7: UserWarning: To copy construct from a tensor, it is recommended to use sourceTensor.clone().detach() or sourceTensor.clone().detach().requires_grad_(True), rather than torch.tensor(sourceTensor).\n",
      "  true_labels = torch.tensor(td.y, dtype=torch.float).reshape(-1, 1)\n",
      "/Library/Frameworks/Python.framework/Versions/3.10/lib/python3.10/site-packages/sklearn/metrics/_classification.py:1334: UndefinedMetricWarning: Precision and F-score are ill-defined and being set to 0.0 in labels with no predicted samples. Use `zero_division` parameter to control this behavior.\n",
      "  _warn_prf(average, modifier, msg_start, len(result))\n",
      "/Library/Frameworks/Python.framework/Versions/3.10/lib/python3.10/site-packages/sklearn/metrics/_classification.py:1334: UndefinedMetricWarning: Precision and F-score are ill-defined and being set to 0.0 in labels with no predicted samples. Use `zero_division` parameter to control this behavior.\n",
      "  _warn_prf(average, modifier, msg_start, len(result))\n",
      "/Library/Frameworks/Python.framework/Versions/3.10/lib/python3.10/site-packages/sklearn/metrics/_classification.py:1334: UndefinedMetricWarning: Precision and F-score are ill-defined and being set to 0.0 in labels with no predicted samples. Use `zero_division` parameter to control this behavior.\n",
      "  _warn_prf(average, modifier, msg_start, len(result))\n"
     ]
    }
   ],
   "source": [
    "td = TestDataset(model.val_X, model.val_y)\n",
    "test_data = torch.tensor(td.X, dtype=torch.float)\n",
    "preds = model(test_data)\n",
    "# replace > 0.5 with 1 and < 0.5 with 0\n",
    "preds = np.where(preds > 0.5, 1, 0)\n",
    "\n",
    "true_labels = torch.tensor(td.y, dtype=torch.float).reshape(-1, 1)\n",
    "\n",
    "\n",
    "print(classification_report(true_labels, preds))"
   ]
  },
  {
   "cell_type": "code",
   "execution_count": 6,
   "metadata": {},
   "outputs": [],
   "source": [
    "torch.save(model.state_dict(), '../models/model.pth')"
   ]
  }
 ],
 "metadata": {
  "kernelspec": {
   "display_name": "Python 3.10.6 64-bit",
   "language": "python",
   "name": "python3"
  },
  "language_info": {
   "codemirror_mode": {
    "name": "ipython",
    "version": 3
   },
   "file_extension": ".py",
   "mimetype": "text/x-python",
   "name": "python",
   "nbconvert_exporter": "python",
   "pygments_lexer": "ipython3",
   "version": "3.10.6"
  },
  "orig_nbformat": 4,
  "vscode": {
   "interpreter": {
    "hash": "aee8b7b246df8f9039afb4144a1f6fd8d2ca17a180786b69acc140d282b71a49"
   }
  }
 },
 "nbformat": 4,
 "nbformat_minor": 2
}
