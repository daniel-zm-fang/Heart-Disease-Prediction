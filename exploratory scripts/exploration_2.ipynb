{
 "cells": [
  {
   "cell_type": "markdown",
   "metadata": {},
   "source": [
    "This is an continuation of the 1st attempt at creating a reasonably good model for the Heart Disease dataset. I will try to address the following issue that I found in the 1st attempt:\n",
    "1. The labels are unbalanced: the number of people who don't have heart diease is 10.7 times the number of people who do.\n",
    "2. Some features are also unbalanced. For example, features like \"AlcoholDrinking\", \"Stroke\", \"Race\", \"KidneyDiease\" all have one value that has more count than all other values combined.\n",
    "3. All the classifiers trained in the 1st attempt has very low precision & recall for the \"yes\" label. Most classifiers have a high overall accuracy because they predict most instances to be \"no\". This is not a good result for this project as we want to have a high recall (preferably also high precision) for the \"yes\" label).                                                             "
   ]
  },
  {
   "cell_type": "code",
   "execution_count": 2,
   "metadata": {},
   "outputs": [],
   "source": [
    "import pandas as pd\n",
    "import dill"
   ]
  },
  {
   "cell_type": "code",
   "execution_count": 3,
   "metadata": {},
   "outputs": [],
   "source": [
    "data = pd.read_csv('heart_2020_cleaned.csv')"
   ]
  },
  {
   "cell_type": "code",
   "execution_count": 4,
   "metadata": {},
   "outputs": [],
   "source": [
    "# one-hot encoding\n",
    "category_cols = [col for col in data.columns if data[col].dtype == 'object']\n",
    "data = pd.get_dummies(data=data, columns=category_cols, drop_first=True)"
   ]
  },
  {
   "cell_type": "code",
   "execution_count": 5,
   "metadata": {},
   "outputs": [],
   "source": [
    "from sklearn.model_selection import train_test_split\n",
    "\n",
    "X_train, X_test, y_train, y_test = train_test_split(data.drop(['HeartDisease_Yes'], axis=1), data['HeartDisease_Yes'], test_size=0.2, random_state=42)"
   ]
  },
  {
   "cell_type": "code",
   "execution_count": 6,
   "metadata": {},
   "outputs": [
    {
     "data": {
      "text/plain": [
       "<AxesSubplot:ylabel='HeartDisease_Yes'>"
      ]
     },
     "execution_count": 6,
     "metadata": {},
     "output_type": "execute_result"
    },
    {
     "data": {
      "image/png": "[encoded data removed]",
      "text/plain": [
       "<Figure size 432x288 with 1 Axes>"
      ]
     },
     "metadata": {},
     "output_type": "display_data"
    }
   ],
   "source": [
    "y_train.value_counts().plot(kind='pie', autopct='%1.1f%%')"
   ]
  },
  {
   "cell_type": "code",
   "execution_count": 7,
   "metadata": {},
   "outputs": [],
   "source": [
    "from sklearn.preprocessing import StandardScaler\n",
    "\n",
    "# this is the exact same as feature scaling in the 1st exploration\n",
    "std_scaler = StandardScaler()\n",
    "X_train = std_scaler.fit_transform(X_train)\n",
    "X_test = std_scaler.transform(X_test)"
   ]
  },
  {
   "cell_type": "markdown",
   "metadata": {},
   "source": [
    "1. Random Undersampling"
   ]
  },
  {
   "cell_type": "code",
   "execution_count": 8,
   "metadata": {},
   "outputs": [
    {
     "data": {
      "text/plain": [
       "0    21781\n",
       "1    21781\n",
       "Name: HeartDisease_Yes, dtype: int64"
      ]
     },
     "execution_count": 8,
     "metadata": {},
     "output_type": "execute_result"
    }
   ],
   "source": [
    "from imblearn.under_sampling import RandomUnderSampler\n",
    "rus = RandomUnderSampler(random_state=42)\n",
    "X_train_rus, y_train_rus = rus.fit_resample(X_train, y_train)\n",
    "y_train_rus.value_counts()"
   ]
  },
  {
   "cell_type": "markdown",
   "metadata": {},
   "source": [
    "2. Random Oversampling"
   ]
  },
  {
   "cell_type": "code",
   "execution_count": 9,
   "metadata": {},
   "outputs": [
    {
     "data": {
      "text/plain": [
       "0    234055\n",
       "1    234055\n",
       "Name: HeartDisease_Yes, dtype: int64"
      ]
     },
     "execution_count": 9,
     "metadata": {},
     "output_type": "execute_result"
    }
   ],
   "source": [
    "from imblearn.over_sampling import RandomOverSampler\n",
    "\n",
    "ros = RandomOverSampler(random_state=42)\n",
    "X_train_ros, y_train_ros = ros.fit_resample(X_train, y_train)\n",
    "y_train_ros.value_counts()"
   ]
  },
  {
   "cell_type": "markdown",
   "metadata": {},
   "source": [
    "3. SMOTE"
   ]
  },
  {
   "cell_type": "code",
   "execution_count": 10,
   "metadata": {},
   "outputs": [
    {
     "data": {
      "text/plain": [
       "0    234055\n",
       "1    234055\n",
       "Name: HeartDisease_Yes, dtype: int64"
      ]
     },
     "execution_count": 10,
     "metadata": {},
     "output_type": "execute_result"
    }
   ],
   "source": [
    "from imblearn.over_sampling import SMOTE\n",
    "\n",
    "smote = SMOTE(random_state=42)\n",
    "X_train_smote, y_train_smote = smote.fit_resample(X_train, y_train)\n",
    "y_train_smote.value_counts()"
   ]
  },
  {
   "cell_type": "markdown",
   "metadata": {},
   "source": [
    "4. Tomek Links"
   ]
  },
  {
   "cell_type": "code",
   "execution_count": 11,
   "metadata": {},
   "outputs": [
    {
     "data": {
      "text/plain": [
       "0    22109\n",
       "1     2111\n",
       "Name: HeartDisease_Yes, dtype: int64"
      ]
     },
     "execution_count": 11,
     "metadata": {},
     "output_type": "execute_result"
    }
   ],
   "source": [
    "from imblearn.under_sampling import TomekLinks\n",
    "\n",
    "# TomekLinks runtime is O(n^2), so we will use a smaller dataset in this case\n",
    "\n",
    "size = 25000\n",
    "tl = TomekLinks()\n",
    "X_train_tl, y_train_tl = tl.fit_resample(X_train[:size], y_train[:size])\n",
    "y_train_tl.value_counts()"
   ]
  },
  {
   "cell_type": "markdown",
   "metadata": {},
   "source": [
    "5. Combining SMOTE and Tomek Links"
   ]
  },
  {
   "cell_type": "code",
   "execution_count": 12,
   "metadata": {},
   "outputs": [
    {
     "data": {
      "text/plain": [
       "0    22662\n",
       "1    22662\n",
       "Name: HeartDisease_Yes, dtype: int64"
      ]
     },
     "execution_count": 12,
     "metadata": {},
     "output_type": "execute_result"
    }
   ],
   "source": [
    "from imblearn.combine import SMOTETomek\n",
    "\n",
    "# again, we will use a smaller dataset\n",
    "\n",
    "smote_tl = SMOTETomek(random_state=42)\n",
    "X_train_smote_tl, y_train_smote_tl = smote_tl.fit_resample(X_train[:size], y_train[:size])\n",
    "y_train_smote_tl.value_counts()"
   ]
  },
  {
   "cell_type": "markdown",
   "metadata": {},
   "source": [
    "Now let's train some classifiers on the balanced data.\n",
    "<br>\n",
    "**NOTE**: in the code below, I show my initial mistake of oversampling the data and then performing cross validation on top of it. The problem with this is that with oversampling, we are duplicating the entries in the minority class several times. When we separate the training data into multiple folds, these duplicated minority class entires will be included in different folds. During model training, the classifier will see the duplicated entries several times in the training folds, thus it will overfit/\"memorize\" these duplicated entries' labels. During validation, the classifier will likely encounter these duplicated entries again and predict their labels perfectly.\n",
    "<br>\n",
    "**Overall, cross validation before oversampling inflates the scores of the classifiers, as we will see below.**"
   ]
  },
  {
   "cell_type": "code",
   "execution_count": 13,
   "metadata": {},
   "outputs": [],
   "source": [
    "from sklearn.model_selection import cross_validate\n",
    "\n",
    "def cross_validate_model_diff_data_same_model(model, Xs, ys, sampling_methods_names, cv=3, scoring=['accuracy', 'precision', 'recall', 'f1', 'roc_auc']):\n",
    "    scores_lst = []\n",
    "    i = 0\n",
    "    for X, y in zip(Xs, ys):\n",
    "        scores = cross_validate(model, X, y, cv=cv, scoring=scoring)\n",
    "        scores_lst.append({k: round(v.mean(), 2) for k, v in scores.items()})\n",
    "        print(f'Finished cross-validation for {sampling_methods_names[i]}')\n",
    "        i += 1\n",
    "    return pd.DataFrame(scores_lst, index=sampling_methods_names)"
   ]
  },
  {
   "cell_type": "code",
   "execution_count": 14,
   "metadata": {},
   "outputs": [
    {
     "name": "stdout",
     "output_type": "stream",
     "text": [
      "Finished cross-validation for RUS\n",
      "Finished cross-validation for ROS\n",
      "Finished cross-validation for SMOTE\n",
      "Finished cross-validation for TomekLinks\n",
      "Finished cross-validation for SMOTETomek\n",
      "            fit_time  score_time  test_accuracy  test_precision  test_recall  \\\n",
      "RUS             0.44        0.08           0.76            0.75         0.78   \n",
      "ROS             4.28        0.51           0.76            0.76         0.78   \n",
      "SMOTE           3.65        0.47           0.77            0.76         0.79   \n",
      "TomekLinks      0.19        0.03           0.91            0.56         0.12   \n",
      "SMOTETomek      0.35        0.05           0.78            0.76         0.80   \n",
      "\n",
      "            test_f1  test_roc_auc  \n",
      "RUS            0.77          0.84  \n",
      "ROS            0.77          0.84  \n",
      "SMOTE          0.77          0.84  \n",
      "TomekLinks     0.20          0.85  \n",
      "SMOTETomek     0.78          0.85  \n"
     ]
    }
   ],
   "source": [
    "from sklearn.linear_model import LogisticRegression\n",
    "\n",
    "Xs = [X_train_rus, X_train_ros, X_train_smote, X_train_tl, X_train_smote_tl]\n",
    "ys = [y_train_rus, y_train_ros, y_train_smote, y_train_tl, y_train_smote_tl]\n",
    "\n",
    "lr_score_table = cross_validate_model_diff_data_same_model(LogisticRegression(), Xs, ys, ['RUS', 'ROS', 'SMOTE', 'TomekLinks', 'SMOTETomek'])\n",
    "print(lr_score_table)"
   ]
  },
  {
   "cell_type": "markdown",
   "metadata": {},
   "source": [
    "* As expected, the scores in \"test_recall\" column looks a lot better compared to the \"test_recall\" column in the 1st attempt without balancing data (For Logistic Regression, the score is 0.11!).\n",
    "* Interestingly, the \"test_precision\" score has also improved.\n",
    "Let's try the balanced datasets on Decision Tree Classifier and Random Forest Classifier with the default parameters."
   ]
  },
  {
   "cell_type": "code",
   "execution_count": 15,
   "metadata": {},
   "outputs": [
    {
     "name": "stdout",
     "output_type": "stream",
     "text": [
      "Finished cross-validation for RUS\n",
      "Finished cross-validation for ROS\n",
      "Finished cross-validation for SMOTE\n",
      "Finished cross-validation for TomekLinks\n",
      "Finished cross-validation for SMOTETomek\n",
      "            fit_time  score_time  test_accuracy  test_precision  test_recall  \\\n",
      "RUS             0.54        0.10           0.67            0.67         0.67   \n",
      "ROS             7.17        0.54           0.95            0.91         1.00   \n",
      "SMOTE           7.02        0.53           0.89            0.89         0.88   \n",
      "TomekLinks      0.23        0.04           0.87            0.26         0.28   \n",
      "SMOTETomek      0.37        0.05           0.91            0.91         0.91   \n",
      "\n",
      "            test_f1  test_roc_auc  \n",
      "RUS            0.67          0.67  \n",
      "ROS            0.95          0.95  \n",
      "SMOTE          0.88          0.89  \n",
      "TomekLinks     0.27          0.60  \n",
      "SMOTETomek     0.91          0.91  \n"
     ]
    }
   ],
   "source": [
    "from sklearn.tree import DecisionTreeClassifier\n",
    "from sklearn.ensemble import RandomForestClassifier\n",
    "\n",
    "dt_score_table = cross_validate_model_diff_data_same_model(DecisionTreeClassifier(), Xs, ys, ['RUS', 'ROS', 'SMOTE', 'TomekLinks', 'SMOTETomek'])\n",
    "print(dt_score_table)"
   ]
  },
  {
   "cell_type": "code",
   "execution_count": 16,
   "metadata": {},
   "outputs": [
    {
     "name": "stdout",
     "output_type": "stream",
     "text": [
      "Finished cross-validation for RUS\n",
      "Finished cross-validation for ROS\n",
      "Finished cross-validation for SMOTE\n",
      "Finished cross-validation for TomekLinks\n",
      "Finished cross-validation for SMOTETomek\n",
      "            fit_time  score_time  test_accuracy  test_precision  test_recall  \\\n",
      "RUS             4.97        1.15           0.74            0.73         0.77   \n",
      "ROS           103.23       22.23           0.96            0.93         1.00   \n",
      "SMOTE         123.21       20.68           0.92            0.93         0.92   \n",
      "TomekLinks      4.12        0.53           0.91            0.54         0.10   \n",
      "SMOTETomek      6.33        1.23           0.95            0.96         0.94   \n",
      "\n",
      "            test_f1  test_roc_auc  \n",
      "RUS            0.75          0.81  \n",
      "ROS            0.96          1.00  \n",
      "SMOTE          0.92          0.97  \n",
      "TomekLinks     0.18          0.82  \n",
      "SMOTETomek     0.95          0.99  \n"
     ]
    }
   ],
   "source": [
    "rf_score_table = cross_validate_model_diff_data_same_model(RandomForestClassifier(), Xs, ys, ['RUS', 'ROS', 'SMOTE', 'TomekLinks', 'SMOTETomek'])\n",
    "print(rf_score_table)"
   ]
  },
  {
   "cell_type": "markdown",
   "metadata": {},
   "source": [
    "* The Random Oversampling for Decision Tree Classifier and RandomForest Classifier has a recall of 1 on cross validation. This might be because the function \"cross_validate_model_diff_data_same_model\" rounds each score to 2 decimal places (it's not actually 1). Nonetheless, this result looks very good.\n",
    "* Notice that the oversampled datasets here (ROS, SMOTE) has higher precison and recall scores than those of undersampled datasets (RUS, Tomek Links). SMOTETomek's scores sits between the two categories. This makes sense because this dataset doesn't have a lot of entries (319795) so undersampling has a higher chance of removing useful entries. And as mentioned, the classfiers trained on the k - 1 folds of the oversampled data are likely to overfit the test fold."
   ]
  },
  {
   "cell_type": "markdown",
   "metadata": {},
   "source": [
    "Now let's perform cross validation the correct way on oversampled data. The key is that, for each fold, only oversample the minority class from the k - 1 folds and validate on the remaining fold which is not oversampled. In other words, we should perform oversampling during cross validation, and not before cross validation."
   ]
  },
  {
   "cell_type": "code",
   "execution_count": 17,
   "metadata": {},
   "outputs": [],
   "source": [
    "from imblearn.pipeline import make_pipeline\n",
    "\n",
    "def cross_validate_diff_models_diff_data(models, resampling_methods, reduced_size=50000, cv=3, scoring=['accuracy', 'precision', 'recall', 'f1', 'roc_auc']):\n",
    "    scores_lst = []\n",
    "    for m in models:\n",
    "        for r in resampling_methods:\n",
    "            pipe = make_pipeline(r, m)\n",
    "            print(f'now cross-validating {m.__class__.__name__} with {r.__class__.__name__}')\n",
    "            if isinstance(r, TomekLinks) or isinstance(r, SMOTETomek):  # since TomekLinks and SMOTETomek are slow, we will use a smaller dataset\n",
    "                scores = cross_validate(pipe, X_train[:reduced_size], y_train[:reduced_size], cv=cv, scoring=scoring)\n",
    "            else:\n",
    "                scores = cross_validate(pipe, X_train, y_train, cv=cv, scoring=scoring)\n",
    "            scores_lst.append({k: round(v.mean(), 2) for k, v in scores.items()})\n",
    "            print(f'Finished cross-validation for {r.__class__.__name__} with {m.__class__.__name__}')\n",
    "    index = pd.MultiIndex.from_product([[m.__class__.__name__ for m in models], [r.__class__.__name__ for r in resampling_methods]], names=['model', 'resampling_method'])\n",
    "    return pd.DataFrame(scores_lst, index=index)"
   ]
  },
  {
   "cell_type": "markdown",
   "metadata": {},
   "source": [
    "The following cell might take a while to run."
   ]
  },
  {
   "cell_type": "code",
   "execution_count": 18,
   "metadata": {},
   "outputs": [
    {
     "name": "stdout",
     "output_type": "stream",
     "text": [
      "now cross-validating LogisticRegression with RandomUnderSampler\n",
      "Finished cross-validation for RandomUnderSampler with LogisticRegression\n",
      "now cross-validating LogisticRegression with RandomOverSampler\n",
      "Finished cross-validation for RandomOverSampler with LogisticRegression\n",
      "now cross-validating LogisticRegression with SMOTE\n",
      "Finished cross-validation for SMOTE with LogisticRegression\n",
      "now cross-validating LogisticRegression with TomekLinks\n",
      "Finished cross-validation for TomekLinks with LogisticRegression\n",
      "now cross-validating LogisticRegression with SMOTETomek\n",
      "Finished cross-validation for SMOTETomek with LogisticRegression\n",
      "now cross-validating DecisionTreeClassifier with RandomUnderSampler\n",
      "Finished cross-validation for RandomUnderSampler with DecisionTreeClassifier\n",
      "now cross-validating DecisionTreeClassifier with RandomOverSampler\n",
      "Finished cross-validation for RandomOverSampler with DecisionTreeClassifier\n",
      "now cross-validating DecisionTreeClassifier with SMOTE\n",
      "Finished cross-validation for SMOTE with DecisionTreeClassifier\n",
      "now cross-validating DecisionTreeClassifier with TomekLinks\n",
      "Finished cross-validation for TomekLinks with DecisionTreeClassifier\n",
      "now cross-validating DecisionTreeClassifier with SMOTETomek\n",
      "Finished cross-validation for SMOTETomek with DecisionTreeClassifier\n",
      "now cross-validating RandomForestClassifier with RandomUnderSampler\n",
      "Finished cross-validation for RandomUnderSampler with RandomForestClassifier\n",
      "now cross-validating RandomForestClassifier with RandomOverSampler\n",
      "Finished cross-validation for RandomOverSampler with RandomForestClassifier\n",
      "now cross-validating RandomForestClassifier with SMOTE\n",
      "Finished cross-validation for SMOTE with RandomForestClassifier\n",
      "now cross-validating RandomForestClassifier with TomekLinks\n",
      "Finished cross-validation for TomekLinks with RandomForestClassifier\n",
      "now cross-validating RandomForestClassifier with SMOTETomek\n",
      "Finished cross-validation for SMOTETomek with RandomForestClassifier\n",
      "                                           fit_time  score_time  \\\n",
      "model                  resampling_method                          \n",
      "LogisticRegression     RandomUnderSampler      0.52        0.26   \n",
      "                       RandomOverSampler       4.27        0.26   \n",
      "                       SMOTE                  12.28        0.25   \n",
      "                       TomekLinks             29.58        0.05   \n",
      "                       SMOTETomek            101.25        0.05   \n",
      "DecisionTreeClassifier RandomUnderSampler      0.62        0.26   \n",
      "                       RandomOverSampler       5.58        0.24   \n",
      "                       SMOTE                  13.25        0.30   \n",
      "                       TomekLinks             30.57        0.07   \n",
      "                       SMOTETomek             93.83        0.05   \n",
      "RandomForestClassifier RandomUnderSampler      7.09        8.52   \n",
      "                       RandomOverSampler     100.96        8.28   \n",
      "                       SMOTE                 132.58       11.14   \n",
      "                       TomekLinks             39.44        1.46   \n",
      "                       SMOTETomek            145.22        1.95   \n",
      "\n",
      "                                           test_accuracy  test_precision  \\\n",
      "model                  resampling_method                                   \n",
      "LogisticRegression     RandomUnderSampler           0.75            0.22   \n",
      "                       RandomOverSampler            0.75            0.22   \n",
      "                       SMOTE                        0.75            0.22   \n",
      "                       TomekLinks                   0.92            0.52   \n",
      "                       SMOTETomek                   0.75            0.22   \n",
      "DecisionTreeClassifier RandomUnderSampler           0.67            0.16   \n",
      "                       RandomOverSampler            0.87            0.22   \n",
      "                       SMOTE                        0.85            0.21   \n",
      "                       TomekLinks                   0.86            0.22   \n",
      "                       SMOTETomek                   0.85            0.21   \n",
      "RandomForestClassifier RandomUnderSampler           0.72            0.20   \n",
      "                       RandomOverSampler            0.89            0.31   \n",
      "                       SMOTE                        0.88            0.27   \n",
      "                       TomekLinks                   0.91            0.36   \n",
      "                       SMOTETomek                   0.90            0.31   \n",
      "\n",
      "                                           test_recall  test_f1  test_roc_auc  \n",
      "model                  resampling_method                                       \n",
      "LogisticRegression     RandomUnderSampler         0.78     0.35          0.84  \n",
      "                       RandomOverSampler          0.78     0.35          0.84  \n",
      "                       SMOTE                      0.78     0.35          0.84  \n",
      "                       TomekLinks                 0.14     0.22          0.84  \n",
      "                       SMOTETomek                 0.78     0.35          0.84  \n",
      "DecisionTreeClassifier RandomUnderSampler         0.66     0.26          0.67  \n",
      "                       RandomOverSampler          0.23     0.22          0.58  \n",
      "                       SMOTE                      0.29     0.24          0.59  \n",
      "                       TomekLinks                 0.28     0.25          0.59  \n",
      "                       SMOTETomek                 0.27     0.24          0.59  \n",
      "RandomForestClassifier RandomUnderSampler         0.77     0.32          0.81  \n",
      "                       RandomOverSampler          0.22     0.26          0.79  \n",
      "                       SMOTE                      0.24     0.25          0.79  \n",
      "                       TomekLinks                 0.13     0.19          0.80  \n",
      "                       SMOTETomek                 0.18     0.23          0.79  \n"
     ]
    }
   ],
   "source": [
    "final_score_table = cross_validate_diff_models_diff_data([LogisticRegression(), DecisionTreeClassifier(), RandomForestClassifier()], [rus, ros, smote, tl, smote_tl])\n",
    "print(final_score_table)\n",
    "final_score_table.to_csv('final_score_table.csv')"
   ]
  },
  {
   "cell_type": "markdown",
   "metadata": {},
   "source": [
    "* From the table above, we see the that \"test_recall\" and \"test_precision\" scores are worse than the scores obtained earlier. imblearn's pipeline automatically performs oversampling during cross validation.\n",
    "* The best performing combination is Logistic Regression with Random Undersampling. It achieves a recall of 0.78 and precision of 0.22.\n",
    "* Another observation is that the \"test_precision\" has gone down a lot across all undersampling and oversampling methods. We will try to address this issue in the next exploration."
   ]
  },
  {
   "cell_type": "code",
   "execution_count": 19,
   "metadata": {},
   "outputs": [],
   "source": [
    "# save all the models and results\n",
    "dill.dump_session('exploration_2.db')"
   ]
  }
 ],
 "metadata": {
  "interpreter": {
   "hash": "9518128f597d7b00dc14729602cfd87fb7b2cf75925976bcb0d0e328a830a12b"
  },
  "kernelspec": {
   "display_name": "Python 3.9.10 64-bit",
   "language": "python",
   "name": "python3"
  },
  "language_info": {
   "codemirror_mode": {
    "name": "ipython",
    "version": 3
   },
   "file_extension": ".py",
   "mimetype": "text/x-python",
   "name": "python",
   "nbconvert_exporter": "python",
   "pygments_lexer": "ipython3",
   "version": "3.9.10"
  },
  "orig_nbformat": 4
 },
 "nbformat": 4,
 "nbformat_minor": 2
}
