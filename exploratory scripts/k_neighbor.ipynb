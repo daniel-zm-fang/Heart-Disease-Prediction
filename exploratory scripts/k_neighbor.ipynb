{
 "cells": [
  {
   "cell_type": "code",
   "execution_count": 1,
   "metadata": {},
   "outputs": [],
   "source": [
    "import pandas as pd\n",
    "import numpy as np\n",
    "from sklearn.model_selection import train_test_split\n",
    "from sklearn.preprocessing import StandardScaler\n",
    "from sklearn.neighbors import KNeighborsClassifier\n",
    "from sklearn.metrics import accuracy_score, confusion_matrix, classification_report\n",
    "import seaborn as sns\n",
    "import pickle\n",
    "import matplotlib.pyplot as plt\n",
    "import shap"
   ]
  },
  {
   "cell_type": "code",
   "execution_count": 2,
   "metadata": {},
   "outputs": [],
   "source": [
    "data = pd.read_csv('../data/LLCP_agg_cleaned.csv')"
   ]
  },
  {
   "cell_type": "code",
   "execution_count": 3,
   "metadata": {},
   "outputs": [
    {
     "name": "stdout",
     "output_type": "stream",
     "text": [
      "Index(['GenHealth', 'ASTHMA3', 'EXERANY2', 'CHCSCNCR', '_BMI5CAT', '_SMOKER3',\n",
      "       'DRNKANY5', '_AGEG5YR', 'Race_1.0', 'Race_2.0', 'Race_3.0', 'Race_4.0',\n",
      "       'Race_5.0', 'Race_6.0', 'Kidney', 'Bronchitis', 'Depression',\n",
      "       'Diabetes', 'Sex', 'Heart Attack', 'Cholesterol', 'Stroke',\n",
      "       'Told Cholesterol High', 'Arthritis'],\n",
      "      dtype='object') (2127204, 24)\n",
      "(1701763, 24) (425441, 24) (1701763,) (425441,)\n"
     ]
    }
   ],
   "source": [
    "std_scaler = StandardScaler()\n",
    "X = data.drop('CVDCRHD4', axis=1)\n",
    "y = data['CVDCRHD4']\n",
    "print(X.columns, X.shape)\n",
    "\n",
    "X = std_scaler.fit_transform(X)\n",
    "X_train, X_test, y_train, y_test = train_test_split(X, y, test_size=0.2, random_state=42)\n",
    "print(X_train.shape, X_test.shape, y_train.shape, y_test.shape)"
   ]
  },
  {
   "attachments": {},
   "cell_type": "markdown",
   "metadata": {},
   "source": [
    "Apply a vanilla kNN model to the data and see how it performs. This is a baseline model to compare against."
   ]
  },
  {
   "cell_type": "code",
   "execution_count": null,
   "metadata": {},
   "outputs": [],
   "source": []
  }
 ],
 "metadata": {
  "kernelspec": {
   "display_name": "Python 3",
   "language": "python",
   "name": "python3"
  },
  "language_info": {
   "codemirror_mode": {
    "name": "ipython",
    "version": 3
   },
   "file_extension": ".py",
   "mimetype": "text/x-python",
   "name": "python",
   "nbconvert_exporter": "python",
   "pygments_lexer": "ipython3",
   "version": "3.9.15"
  },
  "orig_nbformat": 4,
  "vscode": {
   "interpreter": {
    "hash": "ed8464eb428e1378c7c92cea0a494a7ac3d806697087b9bf4138d1ae5c78a123"
   }
  }
 },
 "nbformat": 4,
 "nbformat_minor": 2
}
