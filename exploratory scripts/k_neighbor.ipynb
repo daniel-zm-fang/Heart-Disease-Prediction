{
 "cells": [
  {
   "cell_type": "code",
   "execution_count": 25,
   "metadata": {},
   "outputs": [],
   "source": [
    "import pandas as pd\n",
    "import numpy as np\n",
    "from sklearn.model_selection import train_test_split\n",
    "from sklearn.preprocessing import StandardScaler\n",
    "from sklearn.neighbors import KNeighborsClassifier\n",
    "from sklearn.metrics import accuracy_score, confusion_matrix, classification_report, make_scorer, recall_score\n",
    "from sklearn.model_selection import RandomizedSearchCV, GridSearchCV\n",
    "import seaborn as sns\n",
    "import pickle\n",
    "import matplotlib.pyplot as plt\n",
    "import shap\n",
    "from tqdm import tqdm\n",
    "import pickle"
   ]
  },
  {
   "cell_type": "code",
   "execution_count": 2,
   "metadata": {},
   "outputs": [],
   "source": [
    "data = pd.read_csv('../data/LLCP_agg_cleaned.csv')\n",
    "# top 3 relevant features (from SHAP analysis of XGBoost model)\n",
    "relevant_features = ['_AGEG5YR', 'Heart Attack', 'GenHealth', 'Sex', 'CVDCRHD4']\n",
    "data = data[relevant_features]\n",
    "# drop rows with missing values\n",
    "data = data.dropna()"
   ]
  },
  {
   "cell_type": "code",
   "execution_count": 3,
   "metadata": {},
   "outputs": [
    {
     "name": "stdout",
     "output_type": "stream",
     "text": [
      "Index(['_AGEG5YR', 'Heart Attack', 'GenHealth', 'Sex'], dtype='object') (2074811, 4)\n"
     ]
    }
   ],
   "source": [
    "std_scaler = StandardScaler()\n",
    "X = data.drop('CVDCRHD4', axis=1)\n",
    "y = data['CVDCRHD4']\n",
    "print(X.columns, X.shape)\n",
    "\n",
    "X = std_scaler.fit_transform(X)\n",
    "X_train, X_test, y_train, y_test = train_test_split(X, y, test_size=0.2, random_state=42)\n",
    "# split train set into train and validation sets\n",
    "X_train, X_val, y_train, y_val = train_test_split(X_train, y_train, test_size=0.2, random_state=42)"
   ]
  },
  {
   "cell_type": "code",
   "execution_count": 18,
   "metadata": {},
   "outputs": [
    {
     "data": {
      "text/html": [
       "<style>#sk-container-id-3 {color: black;background-color: white;}#sk-container-id-3 pre{padding: 0;}#sk-container-id-3 div.sk-toggleable {background-color: white;}#sk-container-id-3 label.sk-toggleable__label {cursor: pointer;display: block;width: 100%;margin-bottom: 0;padding: 0.3em;box-sizing: border-box;text-align: center;}#sk-container-id-3 label.sk-toggleable__label-arrow:before {content: \"▸\";float: left;margin-right: 0.25em;color: #696969;}#sk-container-id-3 label.sk-toggleable__label-arrow:hover:before {color: black;}#sk-container-id-3 div.sk-estimator:hover label.sk-toggleable__label-arrow:before {color: black;}#sk-container-id-3 div.sk-toggleable__content {max-height: 0;max-width: 0;overflow: hidden;text-align: left;background-color: #f0f8ff;}#sk-container-id-3 div.sk-toggleable__content pre {margin: 0.2em;color: black;border-radius: 0.25em;background-color: #f0f8ff;}#sk-container-id-3 input.sk-toggleable__control:checked~div.sk-toggleable__content {max-height: 200px;max-width: 100%;overflow: auto;}#sk-container-id-3 input.sk-toggleable__control:checked~label.sk-toggleable__label-arrow:before {content: \"▾\";}#sk-container-id-3 div.sk-estimator input.sk-toggleable__control:checked~label.sk-toggleable__label {background-color: #d4ebff;}#sk-container-id-3 div.sk-label input.sk-toggleable__control:checked~label.sk-toggleable__label {background-color: #d4ebff;}#sk-container-id-3 input.sk-hidden--visually {border: 0;clip: rect(1px 1px 1px 1px);clip: rect(1px, 1px, 1px, 1px);height: 1px;margin: -1px;overflow: hidden;padding: 0;position: absolute;width: 1px;}#sk-container-id-3 div.sk-estimator {font-family: monospace;background-color: #f0f8ff;border: 1px dotted black;border-radius: 0.25em;box-sizing: border-box;margin-bottom: 0.5em;}#sk-container-id-3 div.sk-estimator:hover {background-color: #d4ebff;}#sk-container-id-3 div.sk-parallel-item::after {content: \"\";width: 100%;border-bottom: 1px solid gray;flex-grow: 1;}#sk-container-id-3 div.sk-label:hover label.sk-toggleable__label {background-color: #d4ebff;}#sk-container-id-3 div.sk-serial::before {content: \"\";position: absolute;border-left: 1px solid gray;box-sizing: border-box;top: 0;bottom: 0;left: 50%;z-index: 0;}#sk-container-id-3 div.sk-serial {display: flex;flex-direction: column;align-items: center;background-color: white;padding-right: 0.2em;padding-left: 0.2em;position: relative;}#sk-container-id-3 div.sk-item {position: relative;z-index: 1;}#sk-container-id-3 div.sk-parallel {display: flex;align-items: stretch;justify-content: center;background-color: white;position: relative;}#sk-container-id-3 div.sk-item::before, #sk-container-id-3 div.sk-parallel-item::before {content: \"\";position: absolute;border-left: 1px solid gray;box-sizing: border-box;top: 0;bottom: 0;left: 50%;z-index: -1;}#sk-container-id-3 div.sk-parallel-item {display: flex;flex-direction: column;z-index: 1;position: relative;background-color: white;}#sk-container-id-3 div.sk-parallel-item:first-child::after {align-self: flex-end;width: 50%;}#sk-container-id-3 div.sk-parallel-item:last-child::after {align-self: flex-start;width: 50%;}#sk-container-id-3 div.sk-parallel-item:only-child::after {width: 0;}#sk-container-id-3 div.sk-dashed-wrapped {border: 1px dashed gray;margin: 0 0.4em 0.5em 0.4em;box-sizing: border-box;padding-bottom: 0.4em;background-color: white;}#sk-container-id-3 div.sk-label label {font-family: monospace;font-weight: bold;display: inline-block;line-height: 1.2em;}#sk-container-id-3 div.sk-label-container {text-align: center;}#sk-container-id-3 div.sk-container {/* jupyter's `normalize.less` sets `[hidden] { display: none; }` but bootstrap.min.css set `[hidden] { display: none !important; }` so we also need the `!important` here to be able to override the default hidden behavior on the sphinx rendered scikit-learn.org. See: https://github.com/scikit-learn/scikit-learn/issues/21755 */display: inline-block !important;position: relative;}#sk-container-id-3 div.sk-text-repr-fallback {display: none;}</style><div id=\"sk-container-id-3\" class=\"sk-top-container\"><div class=\"sk-text-repr-fallback\"><pre>KNeighborsClassifier()</pre><b>In a Jupyter environment, please rerun this cell to show the HTML representation or trust the notebook. <br />On GitHub, the HTML representation is unable to render, please try loading this page with nbviewer.org.</b></div><div class=\"sk-container\" hidden><div class=\"sk-item\"><div class=\"sk-estimator sk-toggleable\"><input class=\"sk-toggleable__control sk-hidden--visually\" id=\"sk-estimator-id-3\" type=\"checkbox\" checked><label for=\"sk-estimator-id-3\" class=\"sk-toggleable__label sk-toggleable__label-arrow\">KNeighborsClassifier</label><div class=\"sk-toggleable__content\"><pre>KNeighborsClassifier()</pre></div></div></div></div></div>"
      ],
      "text/plain": [
       "KNeighborsClassifier()"
      ]
     },
     "execution_count": 18,
     "metadata": {},
     "output_type": "execute_result"
    }
   ],
   "source": [
    "# Apply a vanilla kNN model to the data and see how it performs. This is a baseline model to compare against.\n",
    "knn = KNeighborsClassifier(n_neighbors=5)\n",
    "knn.fit(X_train, y_train)"
   ]
  },
  {
   "cell_type": "code",
   "execution_count": 19,
   "metadata": {},
   "outputs": [],
   "source": [
    "y_pred = knn.predict(X_val)"
   ]
  },
  {
   "cell_type": "code",
   "execution_count": 20,
   "metadata": {},
   "outputs": [
    {
     "name": "stdout",
     "output_type": "stream",
     "text": [
      "              precision    recall  f1-score   support\n",
      "\n",
      "         0.0       0.95      0.99      0.97    313252\n",
      "         1.0       0.53      0.20      0.29     18718\n",
      "\n",
      "    accuracy                           0.95    331970\n",
      "   macro avg       0.74      0.60      0.63    331970\n",
      "weighted avg       0.93      0.95      0.93    331970\n",
      "\n"
     ]
    }
   ],
   "source": [
    "print(classification_report(y_val, y_pred))"
   ]
  },
  {
   "attachments": {},
   "cell_type": "markdown",
   "metadata": {},
   "source": [
    "Yep, the recall of the minority class is very low. We will now try to improve it"
   ]
  },
  {
   "cell_type": "code",
   "execution_count": 21,
   "metadata": {},
   "outputs": [
    {
     "data": {
      "text/html": [
       "<style>#sk-container-id-4 {color: black;background-color: white;}#sk-container-id-4 pre{padding: 0;}#sk-container-id-4 div.sk-toggleable {background-color: white;}#sk-container-id-4 label.sk-toggleable__label {cursor: pointer;display: block;width: 100%;margin-bottom: 0;padding: 0.3em;box-sizing: border-box;text-align: center;}#sk-container-id-4 label.sk-toggleable__label-arrow:before {content: \"▸\";float: left;margin-right: 0.25em;color: #696969;}#sk-container-id-4 label.sk-toggleable__label-arrow:hover:before {color: black;}#sk-container-id-4 div.sk-estimator:hover label.sk-toggleable__label-arrow:before {color: black;}#sk-container-id-4 div.sk-toggleable__content {max-height: 0;max-width: 0;overflow: hidden;text-align: left;background-color: #f0f8ff;}#sk-container-id-4 div.sk-toggleable__content pre {margin: 0.2em;color: black;border-radius: 0.25em;background-color: #f0f8ff;}#sk-container-id-4 input.sk-toggleable__control:checked~div.sk-toggleable__content {max-height: 200px;max-width: 100%;overflow: auto;}#sk-container-id-4 input.sk-toggleable__control:checked~label.sk-toggleable__label-arrow:before {content: \"▾\";}#sk-container-id-4 div.sk-estimator input.sk-toggleable__control:checked~label.sk-toggleable__label {background-color: #d4ebff;}#sk-container-id-4 div.sk-label input.sk-toggleable__control:checked~label.sk-toggleable__label {background-color: #d4ebff;}#sk-container-id-4 input.sk-hidden--visually {border: 0;clip: rect(1px 1px 1px 1px);clip: rect(1px, 1px, 1px, 1px);height: 1px;margin: -1px;overflow: hidden;padding: 0;position: absolute;width: 1px;}#sk-container-id-4 div.sk-estimator {font-family: monospace;background-color: #f0f8ff;border: 1px dotted black;border-radius: 0.25em;box-sizing: border-box;margin-bottom: 0.5em;}#sk-container-id-4 div.sk-estimator:hover {background-color: #d4ebff;}#sk-container-id-4 div.sk-parallel-item::after {content: \"\";width: 100%;border-bottom: 1px solid gray;flex-grow: 1;}#sk-container-id-4 div.sk-label:hover label.sk-toggleable__label {background-color: #d4ebff;}#sk-container-id-4 div.sk-serial::before {content: \"\";position: absolute;border-left: 1px solid gray;box-sizing: border-box;top: 0;bottom: 0;left: 50%;z-index: 0;}#sk-container-id-4 div.sk-serial {display: flex;flex-direction: column;align-items: center;background-color: white;padding-right: 0.2em;padding-left: 0.2em;position: relative;}#sk-container-id-4 div.sk-item {position: relative;z-index: 1;}#sk-container-id-4 div.sk-parallel {display: flex;align-items: stretch;justify-content: center;background-color: white;position: relative;}#sk-container-id-4 div.sk-item::before, #sk-container-id-4 div.sk-parallel-item::before {content: \"\";position: absolute;border-left: 1px solid gray;box-sizing: border-box;top: 0;bottom: 0;left: 50%;z-index: -1;}#sk-container-id-4 div.sk-parallel-item {display: flex;flex-direction: column;z-index: 1;position: relative;background-color: white;}#sk-container-id-4 div.sk-parallel-item:first-child::after {align-self: flex-end;width: 50%;}#sk-container-id-4 div.sk-parallel-item:last-child::after {align-self: flex-start;width: 50%;}#sk-container-id-4 div.sk-parallel-item:only-child::after {width: 0;}#sk-container-id-4 div.sk-dashed-wrapped {border: 1px dashed gray;margin: 0 0.4em 0.5em 0.4em;box-sizing: border-box;padding-bottom: 0.4em;background-color: white;}#sk-container-id-4 div.sk-label label {font-family: monospace;font-weight: bold;display: inline-block;line-height: 1.2em;}#sk-container-id-4 div.sk-label-container {text-align: center;}#sk-container-id-4 div.sk-container {/* jupyter's `normalize.less` sets `[hidden] { display: none; }` but bootstrap.min.css set `[hidden] { display: none !important; }` so we also need the `!important` here to be able to override the default hidden behavior on the sphinx rendered scikit-learn.org. See: https://github.com/scikit-learn/scikit-learn/issues/21755 */display: inline-block !important;position: relative;}#sk-container-id-4 div.sk-text-repr-fallback {display: none;}</style><div id=\"sk-container-id-4\" class=\"sk-top-container\"><div class=\"sk-text-repr-fallback\"><pre>KNeighborsClassifier(weights=&#x27;distance&#x27;)</pre><b>In a Jupyter environment, please rerun this cell to show the HTML representation or trust the notebook. <br />On GitHub, the HTML representation is unable to render, please try loading this page with nbviewer.org.</b></div><div class=\"sk-container\" hidden><div class=\"sk-item\"><div class=\"sk-estimator sk-toggleable\"><input class=\"sk-toggleable__control sk-hidden--visually\" id=\"sk-estimator-id-4\" type=\"checkbox\" checked><label for=\"sk-estimator-id-4\" class=\"sk-toggleable__label sk-toggleable__label-arrow\">KNeighborsClassifier</label><div class=\"sk-toggleable__content\"><pre>KNeighborsClassifier(weights=&#x27;distance&#x27;)</pre></div></div></div></div></div>"
      ],
      "text/plain": [
       "KNeighborsClassifier(weights='distance')"
      ]
     },
     "execution_count": 21,
     "metadata": {},
     "output_type": "execute_result"
    }
   ],
   "source": [
    "knn_weighted = KNeighborsClassifier(n_neighbors=5, weights='distance')\n",
    "knn_weighted.fit(X_train, y_train)"
   ]
  },
  {
   "cell_type": "code",
   "execution_count": 22,
   "metadata": {},
   "outputs": [],
   "source": [
    "y_pred = knn_weighted.predict(X_val)"
   ]
  },
  {
   "cell_type": "code",
   "execution_count": 23,
   "metadata": {},
   "outputs": [
    {
     "name": "stdout",
     "output_type": "stream",
     "text": [
      "              precision    recall  f1-score   support\n",
      "\n",
      "         0.0       0.95      0.99      0.97    313252\n",
      "         1.0       0.53      0.20      0.29     18718\n",
      "\n",
      "    accuracy                           0.95    331970\n",
      "   macro avg       0.74      0.60      0.63    331970\n",
      "weighted avg       0.93      0.95      0.93    331970\n",
      "\n"
     ]
    }
   ],
   "source": [
    "print(classification_report(y_val, y_pred))"
   ]
  },
  {
   "attachments": {},
   "cell_type": "markdown",
   "metadata": {},
   "source": [
    "didn't change the result by one bit... Now we try to change the class weights. Sklearn doesn't have a built-in way to do this, so we will have to do it manually"
   ]
  },
  {
   "cell_type": "code",
   "execution_count": 74,
   "metadata": {},
   "outputs": [
    {
     "name": "stderr",
     "output_type": "stream",
     "text": [
      "100%|██████████| 33197/33197 [03:57<00:00, 139.82it/s]\n"
     ]
    }
   ],
   "source": [
    "vc = y_train.value_counts()\n",
    "class_weight = {0: vc[1] / vc[0], 1: vc[1]}\n",
    "\n",
    "# perform kNN with class weights\n",
    "# convert X_train and X_val to numpy arrays for faster computation, use 10% of validation data and train data\n",
    "k = 5\n",
    "X_train_np = X_train[:int(len(X_train) * 0.1)]\n",
    "y_train_np = np.array(y_train.iloc[:int(len(y_train) * 0.1)])\n",
    "X_val_np = X_val[:int(len(X_val) * 0.1)]\n",
    "y_val_np = np.array(y_val.iloc[:int(len(y_val) * 0.1)])\n",
    "y_pred = np.zeros(len(y_val_np))\n",
    "for i in tqdm(range(len(y_val_np))):\n",
    "    # find k nearest neighbors\n",
    "    dist = np.sum((X_train_np - X_val_np[i])**2, axis=1)\n",
    "    idx = np.argsort(dist)[:k]\n",
    "    # find class weights\n",
    "    w = np.array([class_weight[y_train_np[j]] for j in idx])\n",
    "    # predict class\n",
    "    y_pred[i] = 1 if np.sum(w[y_train_np[idx] == 1]) > np.sum(w[y_train_np[idx] == 0]) else 0"
   ]
  },
  {
   "cell_type": "code",
   "execution_count": 77,
   "metadata": {},
   "outputs": [
    {
     "name": "stdout",
     "output_type": "stream",
     "text": [
      "              precision    recall  f1-score   support\n",
      "\n",
      "         0.0       0.97      0.81      0.88     31357\n",
      "         1.0       0.16      0.63      0.26      1840\n",
      "\n",
      "    accuracy                           0.80     33197\n",
      "   macro avg       0.57      0.72      0.57     33197\n",
      "weighted avg       0.93      0.80      0.85     33197\n",
      "\n"
     ]
    }
   ],
   "source": [
    "print(classification_report(np.array(y_val_np), y_pred))"
   ]
  },
  {
   "attachments": {},
   "cell_type": "markdown",
   "metadata": {},
   "source": [
    "That works. The recall is much higher now.  Let's try to multiply the minority class weight by 2"
   ]
  },
  {
   "cell_type": "code",
   "execution_count": 80,
   "metadata": {},
   "outputs": [
    {
     "name": "stderr",
     "output_type": "stream",
     "text": [
      "100%|██████████| 33197/33197 [04:03<00:00, 136.42it/s]\n"
     ]
    }
   ],
   "source": [
    "class_weight = {0: vc[1] / vc[0], 1: 2 * vc[1]}\n",
    "y_pred_2 = np.zeros(len(y_val_np))\n",
    "for i in tqdm(range(len(y_val_np))):\n",
    "    # find k nearest neighbors\n",
    "    dist = np.sum((X_train_np - X_val_np[i])**2, axis=1)\n",
    "    idx = np.argsort(dist)[:k]\n",
    "    # find class weights\n",
    "    w = np.array([class_weight[y_train_np[j]] for j in idx])\n",
    "    # predict class\n",
    "    y_pred_2[i] = 1 if np.sum(w[y_train_np[idx] == 1]) > np.sum(w[y_train_np[idx] == 0]) else 0"
   ]
  },
  {
   "cell_type": "code",
   "execution_count": 81,
   "metadata": {},
   "outputs": [
    {
     "name": "stdout",
     "output_type": "stream",
     "text": [
      "              precision    recall  f1-score   support\n",
      "\n",
      "         0.0       0.97      0.81      0.88     31357\n",
      "         1.0       0.16      0.63      0.26      1840\n",
      "\n",
      "    accuracy                           0.80     33197\n",
      "   macro avg       0.57      0.72      0.57     33197\n",
      "weighted avg       0.93      0.80      0.85     33197\n",
      "\n"
     ]
    }
   ],
   "source": [
    "print(classification_report(np.array(y_val_np), y_pred_2))"
   ]
  },
  {
   "attachments": {},
   "cell_type": "markdown",
   "metadata": {},
   "source": [
    "Hmm, the result didn't change. But if we increase the minority class weight further, the recall will increase, but the precision will decrease. Now let's try to find the optimal k."
   ]
  },
  {
   "cell_type": "code",
   "execution_count": 19,
   "metadata": {},
   "outputs": [
    {
     "name": "stdout",
     "output_type": "stream",
     "text": [
      "Fitting 3 folds for each of 10 candidates, totalling 30 fits\n",
      "[CV 1/3] END ...................n_neighbors=221;, score=0.273 total time=   2.2s\n",
      "[CV 2/3] END ...................n_neighbors=221;, score=0.265 total time=   2.2s\n",
      "[CV 3/3] END ...................n_neighbors=221;, score=0.272 total time=   2.2s\n",
      "[CV 1/3] END ...................n_neighbors=399;, score=0.298 total time=   3.8s\n",
      "[CV 2/3] END ...................n_neighbors=399;, score=0.302 total time=   3.8s\n",
      "[CV 3/3] END ...................n_neighbors=399;, score=0.298 total time=   3.8s\n",
      "[CV 1/3] END ...................n_neighbors=597;, score=0.291 total time=   6.1s\n",
      "[CV 2/3] END ...................n_neighbors=597;, score=0.257 total time=   6.1s\n",
      "[CV 3/3] END ...................n_neighbors=597;, score=0.320 total time=   6.1s\n",
      "[CV 1/3] END ...................n_neighbors=915;, score=0.292 total time=  10.2s\n",
      "[CV 2/3] END ...................n_neighbors=915;, score=0.288 total time=  10.2s\n",
      "[CV 3/3] END ...................n_neighbors=915;, score=0.311 total time=  10.2s\n",
      "[CV 1/3] END ...................n_neighbors=487;, score=0.306 total time=   5.2s\n",
      "[CV 2/3] END ...................n_neighbors=487;, score=0.247 total time=   4.9s\n",
      "[CV 3/3] END ...................n_neighbors=487;, score=0.321 total time=   4.8s\n",
      "[CV 1/3] END ...................n_neighbors=713;, score=0.292 total time=   7.6s\n",
      "[CV 2/3] END ...................n_neighbors=713;, score=0.269 total time=   7.6s\n",
      "[CV 3/3] END ...................n_neighbors=713;, score=0.318 total time=   7.6s\n",
      "[CV 1/3] END ..................n_neighbors=1039;, score=0.284 total time=  11.9s\n",
      "[CV 2/3] END ..................n_neighbors=1039;, score=0.281 total time=  11.8s\n",
      "[CV 3/3] END ..................n_neighbors=1039;, score=0.318 total time=  11.9s\n",
      "[CV 1/3] END ..................n_neighbors=1021;, score=0.285 total time=  11.8s\n",
      "[CV 2/3] END ..................n_neighbors=1021;, score=0.282 total time=  11.9s\n",
      "[CV 3/3] END ..................n_neighbors=1021;, score=0.318 total time=  12.0s\n",
      "[CV 1/3] END ..................n_neighbors=1013;, score=0.284 total time=  11.7s\n",
      "[CV 2/3] END ..................n_neighbors=1013;, score=0.271 total time=  11.6s\n",
      "[CV 3/3] END ..................n_neighbors=1013;, score=0.318 total time=  11.6s\n",
      "[CV 1/3] END ..................n_neighbors=1001;, score=0.292 total time=  11.5s\n",
      "[CV 2/3] END ..................n_neighbors=1001;, score=0.282 total time=  11.5s\n",
      "[CV 3/3] END ..................n_neighbors=1001;, score=0.318 total time=  11.4s\n"
     ]
    },
    {
     "data": {
      "text/html": [
       "<style>#sk-container-id-1 {color: black;background-color: white;}#sk-container-id-1 pre{padding: 0;}#sk-container-id-1 div.sk-toggleable {background-color: white;}#sk-container-id-1 label.sk-toggleable__label {cursor: pointer;display: block;width: 100%;margin-bottom: 0;padding: 0.3em;box-sizing: border-box;text-align: center;}#sk-container-id-1 label.sk-toggleable__label-arrow:before {content: \"▸\";float: left;margin-right: 0.25em;color: #696969;}#sk-container-id-1 label.sk-toggleable__label-arrow:hover:before {color: black;}#sk-container-id-1 div.sk-estimator:hover label.sk-toggleable__label-arrow:before {color: black;}#sk-container-id-1 div.sk-toggleable__content {max-height: 0;max-width: 0;overflow: hidden;text-align: left;background-color: #f0f8ff;}#sk-container-id-1 div.sk-toggleable__content pre {margin: 0.2em;color: black;border-radius: 0.25em;background-color: #f0f8ff;}#sk-container-id-1 input.sk-toggleable__control:checked~div.sk-toggleable__content {max-height: 200px;max-width: 100%;overflow: auto;}#sk-container-id-1 input.sk-toggleable__control:checked~label.sk-toggleable__label-arrow:before {content: \"▾\";}#sk-container-id-1 div.sk-estimator input.sk-toggleable__control:checked~label.sk-toggleable__label {background-color: #d4ebff;}#sk-container-id-1 div.sk-label input.sk-toggleable__control:checked~label.sk-toggleable__label {background-color: #d4ebff;}#sk-container-id-1 input.sk-hidden--visually {border: 0;clip: rect(1px 1px 1px 1px);clip: rect(1px, 1px, 1px, 1px);height: 1px;margin: -1px;overflow: hidden;padding: 0;position: absolute;width: 1px;}#sk-container-id-1 div.sk-estimator {font-family: monospace;background-color: #f0f8ff;border: 1px dotted black;border-radius: 0.25em;box-sizing: border-box;margin-bottom: 0.5em;}#sk-container-id-1 div.sk-estimator:hover {background-color: #d4ebff;}#sk-container-id-1 div.sk-parallel-item::after {content: \"\";width: 100%;border-bottom: 1px solid gray;flex-grow: 1;}#sk-container-id-1 div.sk-label:hover label.sk-toggleable__label {background-color: #d4ebff;}#sk-container-id-1 div.sk-serial::before {content: \"\";position: absolute;border-left: 1px solid gray;box-sizing: border-box;top: 0;bottom: 0;left: 50%;z-index: 0;}#sk-container-id-1 div.sk-serial {display: flex;flex-direction: column;align-items: center;background-color: white;padding-right: 0.2em;padding-left: 0.2em;position: relative;}#sk-container-id-1 div.sk-item {position: relative;z-index: 1;}#sk-container-id-1 div.sk-parallel {display: flex;align-items: stretch;justify-content: center;background-color: white;position: relative;}#sk-container-id-1 div.sk-item::before, #sk-container-id-1 div.sk-parallel-item::before {content: \"\";position: absolute;border-left: 1px solid gray;box-sizing: border-box;top: 0;bottom: 0;left: 50%;z-index: -1;}#sk-container-id-1 div.sk-parallel-item {display: flex;flex-direction: column;z-index: 1;position: relative;background-color: white;}#sk-container-id-1 div.sk-parallel-item:first-child::after {align-self: flex-end;width: 50%;}#sk-container-id-1 div.sk-parallel-item:last-child::after {align-self: flex-start;width: 50%;}#sk-container-id-1 div.sk-parallel-item:only-child::after {width: 0;}#sk-container-id-1 div.sk-dashed-wrapped {border: 1px dashed gray;margin: 0 0.4em 0.5em 0.4em;box-sizing: border-box;padding-bottom: 0.4em;background-color: white;}#sk-container-id-1 div.sk-label label {font-family: monospace;font-weight: bold;display: inline-block;line-height: 1.2em;}#sk-container-id-1 div.sk-label-container {text-align: center;}#sk-container-id-1 div.sk-container {/* jupyter's `normalize.less` sets `[hidden] { display: none; }` but bootstrap.min.css set `[hidden] { display: none !important; }` so we also need the `!important` here to be able to override the default hidden behavior on the sphinx rendered scikit-learn.org. See: https://github.com/scikit-learn/scikit-learn/issues/21755 */display: inline-block !important;position: relative;}#sk-container-id-1 div.sk-text-repr-fallback {display: none;}</style><div id=\"sk-container-id-1\" class=\"sk-top-container\"><div class=\"sk-text-repr-fallback\"><pre>RandomizedSearchCV(cv=3, estimator=KNeighborsClassifier(),\n",
       "                   param_distributions={&#x27;n_neighbors&#x27;: array([   1,    3,    5,    7,    9,   11,   13,   15,   17,   19,   21,\n",
       "         23,   25,   27,   29,   31,   33,   35,   37,   39,   41,   43,\n",
       "         45,   47,   49,   51,   53,   55,   57,   59,   61,   63,   65,\n",
       "         67,   69,   71,   73,   75,   77,   79,   81,   83,   85,   87,\n",
       "         89,   91,   93,   95,   97,   99,  101,  103,  105,  107,  109,\n",
       "        111,  113,  115,  117,  119,  121,  123,  125,  127,  129,  131,\n",
       "        133,  135,  137,  139,  141,  143,  145,  147,  149,  151,  15...\n",
       "       1035, 1037, 1039, 1041, 1043, 1045, 1047, 1049, 1051, 1053, 1055,\n",
       "       1057, 1059, 1061, 1063, 1065, 1067, 1069, 1071, 1073, 1075, 1077,\n",
       "       1079, 1081, 1083, 1085, 1087, 1089, 1091, 1093, 1095, 1097, 1099,\n",
       "       1101, 1103, 1105, 1107, 1109, 1111, 1113, 1115, 1117, 1119, 1121,\n",
       "       1123, 1125, 1127, 1129, 1131, 1133, 1135, 1137, 1139, 1141, 1143,\n",
       "       1145, 1147, 1149, 1151])},\n",
       "                   scoring=make_scorer(recall_score, pos_label=1), verbose=3)</pre><b>In a Jupyter environment, please rerun this cell to show the HTML representation or trust the notebook. <br />On GitHub, the HTML representation is unable to render, please try loading this page with nbviewer.org.</b></div><div class=\"sk-container\" hidden><div class=\"sk-item sk-dashed-wrapped\"><div class=\"sk-label-container\"><div class=\"sk-label sk-toggleable\"><input class=\"sk-toggleable__control sk-hidden--visually\" id=\"sk-estimator-id-1\" type=\"checkbox\" ><label for=\"sk-estimator-id-1\" class=\"sk-toggleable__label sk-toggleable__label-arrow\">RandomizedSearchCV</label><div class=\"sk-toggleable__content\"><pre>RandomizedSearchCV(cv=3, estimator=KNeighborsClassifier(),\n",
       "                   param_distributions={&#x27;n_neighbors&#x27;: array([   1,    3,    5,    7,    9,   11,   13,   15,   17,   19,   21,\n",
       "         23,   25,   27,   29,   31,   33,   35,   37,   39,   41,   43,\n",
       "         45,   47,   49,   51,   53,   55,   57,   59,   61,   63,   65,\n",
       "         67,   69,   71,   73,   75,   77,   79,   81,   83,   85,   87,\n",
       "         89,   91,   93,   95,   97,   99,  101,  103,  105,  107,  109,\n",
       "        111,  113,  115,  117,  119,  121,  123,  125,  127,  129,  131,\n",
       "        133,  135,  137,  139,  141,  143,  145,  147,  149,  151,  15...\n",
       "       1035, 1037, 1039, 1041, 1043, 1045, 1047, 1049, 1051, 1053, 1055,\n",
       "       1057, 1059, 1061, 1063, 1065, 1067, 1069, 1071, 1073, 1075, 1077,\n",
       "       1079, 1081, 1083, 1085, 1087, 1089, 1091, 1093, 1095, 1097, 1099,\n",
       "       1101, 1103, 1105, 1107, 1109, 1111, 1113, 1115, 1117, 1119, 1121,\n",
       "       1123, 1125, 1127, 1129, 1131, 1133, 1135, 1137, 1139, 1141, 1143,\n",
       "       1145, 1147, 1149, 1151])},\n",
       "                   scoring=make_scorer(recall_score, pos_label=1), verbose=3)</pre></div></div></div><div class=\"sk-parallel\"><div class=\"sk-parallel-item\"><div class=\"sk-item\"><div class=\"sk-label-container\"><div class=\"sk-label sk-toggleable\"><input class=\"sk-toggleable__control sk-hidden--visually\" id=\"sk-estimator-id-2\" type=\"checkbox\" ><label for=\"sk-estimator-id-2\" class=\"sk-toggleable__label sk-toggleable__label-arrow\">estimator: KNeighborsClassifier</label><div class=\"sk-toggleable__content\"><pre>KNeighborsClassifier()</pre></div></div></div><div class=\"sk-serial\"><div class=\"sk-item\"><div class=\"sk-estimator sk-toggleable\"><input class=\"sk-toggleable__control sk-hidden--visually\" id=\"sk-estimator-id-3\" type=\"checkbox\" ><label for=\"sk-estimator-id-3\" class=\"sk-toggleable__label sk-toggleable__label-arrow\">KNeighborsClassifier</label><div class=\"sk-toggleable__content\"><pre>KNeighborsClassifier()</pre></div></div></div></div></div></div></div></div></div></div>"
      ],
      "text/plain": [
       "RandomizedSearchCV(cv=3, estimator=KNeighborsClassifier(),\n",
       "                   param_distributions={'n_neighbors': array([   1,    3,    5,    7,    9,   11,   13,   15,   17,   19,   21,\n",
       "         23,   25,   27,   29,   31,   33,   35,   37,   39,   41,   43,\n",
       "         45,   47,   49,   51,   53,   55,   57,   59,   61,   63,   65,\n",
       "         67,   69,   71,   73,   75,   77,   79,   81,   83,   85,   87,\n",
       "         89,   91,   93,   95,   97,   99,  101,  103,  105,  107,  109,\n",
       "        111,  113,  115,  117,  119,  121,  123,  125,  127,  129,  131,\n",
       "        133,  135,  137,  139,  141,  143,  145,  147,  149,  151,  15...\n",
       "       1035, 1037, 1039, 1041, 1043, 1045, 1047, 1049, 1051, 1053, 1055,\n",
       "       1057, 1059, 1061, 1063, 1065, 1067, 1069, 1071, 1073, 1075, 1077,\n",
       "       1079, 1081, 1083, 1085, 1087, 1089, 1091, 1093, 1095, 1097, 1099,\n",
       "       1101, 1103, 1105, 1107, 1109, 1111, 1113, 1115, 1117, 1119, 1121,\n",
       "       1123, 1125, 1127, 1129, 1131, 1133, 1135, 1137, 1139, 1141, 1143,\n",
       "       1145, 1147, 1149, 1151])},\n",
       "                   scoring=make_scorer(recall_score, pos_label=1), verbose=3)"
      ]
     },
     "execution_count": 19,
     "metadata": {},
     "output_type": "execute_result"
    }
   ],
   "source": [
    "# use randomized search to find best hyperparameters (just k)\n",
    "# use recall of minority class as scoring metric\n",
    "# samplle 10% of training data\n",
    "idx = np.random.randint(0, len(X_train), int(len(X_train) * 0.1))\n",
    "X_train_sample = X_train[idx]\n",
    "y_train_sample = y_train.iloc[idx]\n",
    "scorer = make_scorer(recall_score, pos_label=1)\n",
    "param_grid = {'n_neighbors': np.arange(1, int(np.sqrt(len(X_train))), 2)}\n",
    "knn = KNeighborsClassifier()\n",
    "knn_cv = RandomizedSearchCV(knn, param_grid, cv=3, n_iter=10, verbose=3, scoring=scorer)\n",
    "knn_cv.fit(X_train_sample, y_train_sample)"
   ]
  },
  {
   "cell_type": "code",
   "execution_count": 20,
   "metadata": {},
   "outputs": [
    {
     "name": "stdout",
     "output_type": "stream",
     "text": [
      "{'n_neighbors': 399}\n",
      "0.29944709821488946\n"
     ]
    }
   ],
   "source": [
    "print(knn_cv.best_params_)\n",
    "print(knn_cv.best_score_)"
   ]
  },
  {
   "cell_type": "code",
   "execution_count": 21,
   "metadata": {},
   "outputs": [
    {
     "name": "stdout",
     "output_type": "stream",
     "text": [
      "Fitting 3 folds for each of 5 candidates, totalling 15 fits\n",
      "[CV 1/3] END .....................n_neighbors=1;, score=0.645 total time=   1.1s\n",
      "[CV 2/3] END .....................n_neighbors=1;, score=0.300 total time=   1.1s\n",
      "[CV 3/3] END .....................n_neighbors=1;, score=0.303 total time=   1.1s\n",
      "[CV 1/3] END .....................n_neighbors=3;, score=0.512 total time=   1.1s\n",
      "[CV 2/3] END .....................n_neighbors=3;, score=0.321 total time=   1.1s\n",
      "[CV 3/3] END .....................n_neighbors=3;, score=0.294 total time=   1.1s\n",
      "[CV 1/3] END .....................n_neighbors=5;, score=0.444 total time=   1.1s\n",
      "[CV 2/3] END .....................n_neighbors=5;, score=0.325 total time=   1.1s\n",
      "[CV 3/3] END .....................n_neighbors=5;, score=0.312 total time=   1.1s\n",
      "[CV 1/3] END .....................n_neighbors=7;, score=0.336 total time=   1.1s\n",
      "[CV 2/3] END .....................n_neighbors=7;, score=0.280 total time=   1.1s\n",
      "[CV 3/3] END .....................n_neighbors=7;, score=0.273 total time=   1.1s\n",
      "[CV 1/3] END .....................n_neighbors=9;, score=0.336 total time=   1.1s\n",
      "[CV 2/3] END .....................n_neighbors=9;, score=0.261 total time=   1.1s\n",
      "[CV 3/3] END .....................n_neighbors=9;, score=0.294 total time=   1.1s\n"
     ]
    },
    {
     "data": {
      "text/html": [
       "<style>#sk-container-id-2 {color: black;background-color: white;}#sk-container-id-2 pre{padding: 0;}#sk-container-id-2 div.sk-toggleable {background-color: white;}#sk-container-id-2 label.sk-toggleable__label {cursor: pointer;display: block;width: 100%;margin-bottom: 0;padding: 0.3em;box-sizing: border-box;text-align: center;}#sk-container-id-2 label.sk-toggleable__label-arrow:before {content: \"▸\";float: left;margin-right: 0.25em;color: #696969;}#sk-container-id-2 label.sk-toggleable__label-arrow:hover:before {color: black;}#sk-container-id-2 div.sk-estimator:hover label.sk-toggleable__label-arrow:before {color: black;}#sk-container-id-2 div.sk-toggleable__content {max-height: 0;max-width: 0;overflow: hidden;text-align: left;background-color: #f0f8ff;}#sk-container-id-2 div.sk-toggleable__content pre {margin: 0.2em;color: black;border-radius: 0.25em;background-color: #f0f8ff;}#sk-container-id-2 input.sk-toggleable__control:checked~div.sk-toggleable__content {max-height: 200px;max-width: 100%;overflow: auto;}#sk-container-id-2 input.sk-toggleable__control:checked~label.sk-toggleable__label-arrow:before {content: \"▾\";}#sk-container-id-2 div.sk-estimator input.sk-toggleable__control:checked~label.sk-toggleable__label {background-color: #d4ebff;}#sk-container-id-2 div.sk-label input.sk-toggleable__control:checked~label.sk-toggleable__label {background-color: #d4ebff;}#sk-container-id-2 input.sk-hidden--visually {border: 0;clip: rect(1px 1px 1px 1px);clip: rect(1px, 1px, 1px, 1px);height: 1px;margin: -1px;overflow: hidden;padding: 0;position: absolute;width: 1px;}#sk-container-id-2 div.sk-estimator {font-family: monospace;background-color: #f0f8ff;border: 1px dotted black;border-radius: 0.25em;box-sizing: border-box;margin-bottom: 0.5em;}#sk-container-id-2 div.sk-estimator:hover {background-color: #d4ebff;}#sk-container-id-2 div.sk-parallel-item::after {content: \"\";width: 100%;border-bottom: 1px solid gray;flex-grow: 1;}#sk-container-id-2 div.sk-label:hover label.sk-toggleable__label {background-color: #d4ebff;}#sk-container-id-2 div.sk-serial::before {content: \"\";position: absolute;border-left: 1px solid gray;box-sizing: border-box;top: 0;bottom: 0;left: 50%;z-index: 0;}#sk-container-id-2 div.sk-serial {display: flex;flex-direction: column;align-items: center;background-color: white;padding-right: 0.2em;padding-left: 0.2em;position: relative;}#sk-container-id-2 div.sk-item {position: relative;z-index: 1;}#sk-container-id-2 div.sk-parallel {display: flex;align-items: stretch;justify-content: center;background-color: white;position: relative;}#sk-container-id-2 div.sk-item::before, #sk-container-id-2 div.sk-parallel-item::before {content: \"\";position: absolute;border-left: 1px solid gray;box-sizing: border-box;top: 0;bottom: 0;left: 50%;z-index: -1;}#sk-container-id-2 div.sk-parallel-item {display: flex;flex-direction: column;z-index: 1;position: relative;background-color: white;}#sk-container-id-2 div.sk-parallel-item:first-child::after {align-self: flex-end;width: 50%;}#sk-container-id-2 div.sk-parallel-item:last-child::after {align-self: flex-start;width: 50%;}#sk-container-id-2 div.sk-parallel-item:only-child::after {width: 0;}#sk-container-id-2 div.sk-dashed-wrapped {border: 1px dashed gray;margin: 0 0.4em 0.5em 0.4em;box-sizing: border-box;padding-bottom: 0.4em;background-color: white;}#sk-container-id-2 div.sk-label label {font-family: monospace;font-weight: bold;display: inline-block;line-height: 1.2em;}#sk-container-id-2 div.sk-label-container {text-align: center;}#sk-container-id-2 div.sk-container {/* jupyter's `normalize.less` sets `[hidden] { display: none; }` but bootstrap.min.css set `[hidden] { display: none !important; }` so we also need the `!important` here to be able to override the default hidden behavior on the sphinx rendered scikit-learn.org. See: https://github.com/scikit-learn/scikit-learn/issues/21755 */display: inline-block !important;position: relative;}#sk-container-id-2 div.sk-text-repr-fallback {display: none;}</style><div id=\"sk-container-id-2\" class=\"sk-top-container\"><div class=\"sk-text-repr-fallback\"><pre>GridSearchCV(cv=3, estimator=KNeighborsClassifier(),\n",
       "             param_grid={&#x27;n_neighbors&#x27;: array([1, 3, 5, 7, 9])},\n",
       "             scoring=make_scorer(recall_score, pos_label=1), verbose=3)</pre><b>In a Jupyter environment, please rerun this cell to show the HTML representation or trust the notebook. <br />On GitHub, the HTML representation is unable to render, please try loading this page with nbviewer.org.</b></div><div class=\"sk-container\" hidden><div class=\"sk-item sk-dashed-wrapped\"><div class=\"sk-label-container\"><div class=\"sk-label sk-toggleable\"><input class=\"sk-toggleable__control sk-hidden--visually\" id=\"sk-estimator-id-4\" type=\"checkbox\" ><label for=\"sk-estimator-id-4\" class=\"sk-toggleable__label sk-toggleable__label-arrow\">GridSearchCV</label><div class=\"sk-toggleable__content\"><pre>GridSearchCV(cv=3, estimator=KNeighborsClassifier(),\n",
       "             param_grid={&#x27;n_neighbors&#x27;: array([1, 3, 5, 7, 9])},\n",
       "             scoring=make_scorer(recall_score, pos_label=1), verbose=3)</pre></div></div></div><div class=\"sk-parallel\"><div class=\"sk-parallel-item\"><div class=\"sk-item\"><div class=\"sk-label-container\"><div class=\"sk-label sk-toggleable\"><input class=\"sk-toggleable__control sk-hidden--visually\" id=\"sk-estimator-id-5\" type=\"checkbox\" ><label for=\"sk-estimator-id-5\" class=\"sk-toggleable__label sk-toggleable__label-arrow\">estimator: KNeighborsClassifier</label><div class=\"sk-toggleable__content\"><pre>KNeighborsClassifier()</pre></div></div></div><div class=\"sk-serial\"><div class=\"sk-item\"><div class=\"sk-estimator sk-toggleable\"><input class=\"sk-toggleable__control sk-hidden--visually\" id=\"sk-estimator-id-6\" type=\"checkbox\" ><label for=\"sk-estimator-id-6\" class=\"sk-toggleable__label sk-toggleable__label-arrow\">KNeighborsClassifier</label><div class=\"sk-toggleable__content\"><pre>KNeighborsClassifier()</pre></div></div></div></div></div></div></div></div></div></div>"
      ],
      "text/plain": [
       "GridSearchCV(cv=3, estimator=KNeighborsClassifier(),\n",
       "             param_grid={'n_neighbors': array([1, 3, 5, 7, 9])},\n",
       "             scoring=make_scorer(recall_score, pos_label=1), verbose=3)"
      ]
     },
     "execution_count": 21,
     "metadata": {},
     "output_type": "execute_result"
    }
   ],
   "source": [
    "# since we missed small k values, we manually do some more searches\n",
    "param_grid = {'n_neighbors': np.arange(1, 10, 2)}\n",
    "knn = KNeighborsClassifier()\n",
    "knn_cv = GridSearchCV(knn, param_grid, cv=3, verbose=3, scoring=scorer)\n",
    "knn_cv.fit(X_train_sample, y_train_sample)"
   ]
  },
  {
   "cell_type": "code",
   "execution_count": 22,
   "metadata": {},
   "outputs": [
    {
     "name": "stdout",
     "output_type": "stream",
     "text": [
      "{'n_neighbors': 1}\n",
      "0.41582445084844716\n"
     ]
    }
   ],
   "source": [
    "print(knn_cv.best_params_)\n",
    "print(knn_cv.best_score_)"
   ]
  },
  {
   "attachments": {},
   "cell_type": "markdown",
   "metadata": {},
   "source": [
    "These results are not very good when comparing to the results of the XGBoost model. Perhaps the reason is that we only used 10% of the data. Let's try to use the whole dataset and use weighted kNN and use k = 1."
   ]
  },
  {
   "cell_type": "code",
   "execution_count": 23,
   "metadata": {},
   "outputs": [],
   "source": [
    "# now predict on test set\n",
    "knn = KNeighborsClassifier(n_neighbors=1, weights='distance')\n",
    "X_train, X_test, y_train, y_test = train_test_split(X, y, test_size=0.2, random_state=42)\n",
    "knn.fit(X_train, y_train)\n",
    "y_pred = knn.predict(X_test)"
   ]
  },
  {
   "cell_type": "code",
   "execution_count": 24,
   "metadata": {},
   "outputs": [
    {
     "name": "stdout",
     "output_type": "stream",
     "text": [
      "              precision    recall  f1-score   support\n",
      "\n",
      "         0.0       0.96      0.96      0.96    391681\n",
      "         1.0       0.31      0.30      0.30     23282\n",
      "\n",
      "    accuracy                           0.92    414963\n",
      "   macro avg       0.63      0.63      0.63    414963\n",
      "weighted avg       0.92      0.92      0.92    414963\n",
      "\n"
     ]
    }
   ],
   "source": [
    "print(classification_report(y_test, y_pred))"
   ]
  },
  {
   "cell_type": "code",
   "execution_count": null,
   "metadata": {},
   "outputs": [],
   "source": [
    "# save model\n",
    "pickle.dump(knn, open('../models/knn_model.pkl', 'wb'))"
   ]
  }
 ],
 "metadata": {
  "kernelspec": {
   "display_name": "Python 3",
   "language": "python",
   "name": "python3"
  },
  "language_info": {
   "codemirror_mode": {
    "name": "ipython",
    "version": 3
   },
   "file_extension": ".py",
   "mimetype": "text/x-python",
   "name": "python",
   "nbconvert_exporter": "python",
   "pygments_lexer": "ipython3",
   "version": "3.9.15"
  },
  "orig_nbformat": 4,
  "vscode": {
   "interpreter": {
    "hash": "ed8464eb428e1378c7c92cea0a494a7ac3d806697087b9bf4138d1ae5c78a123"
   }
  }
 },
 "nbformat": 4,
 "nbformat_minor": 2
}
