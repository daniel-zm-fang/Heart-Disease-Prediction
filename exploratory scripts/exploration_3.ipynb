{
 "cells": [
  {
   "cell_type": "markdown",
   "metadata": {},
   "source": [
    "This is an continuation of the 2nd attempt at creating a reasonably good model for the Heart Disease dataset.\n",
    "<br>\n",
    "In the 2nd attempt, we arrive at models with a relatively good recall (0.78). But the precision drops to around 0.22. This is likely due to the precision-recall tradeoff.                                          "
   ]
  },
  {
   "cell_type": "code",
   "execution_count": 2,
   "metadata": {},
   "outputs": [],
   "source": [
    "import pandas as pd\n",
    "import dill"
   ]
  },
  {
   "cell_type": "markdown",
   "metadata": {},
   "source": [
    "Import data and apply the same preprocessing as in exploration_2.ipynb"
   ]
  },
  {
   "cell_type": "code",
   "execution_count": 3,
   "metadata": {},
   "outputs": [],
   "source": [
    "from sklearn.model_selection import train_test_split\n",
    "from sklearn.preprocessing import StandardScaler\n",
    "\n",
    "data = pd.read_csv('heart_2020_cleaned.csv')\n",
    "\n",
    "# one-hot encoding\n",
    "category_cols = [col for col in data.columns if data[col].dtype == 'object']\n",
    "data = pd.get_dummies(data=data, columns=category_cols, drop_first=True)\n",
    "\n",
    "X_train, X_test, y_train, y_test = train_test_split(data.drop(['HeartDisease_Yes'], axis=1), data['HeartDisease_Yes'], test_size=0.2, random_state=42)\n",
    "\n",
    "# this is the exact same as feature scaling in the 1st exploration\n",
    "std_scaler = StandardScaler()\n",
    "X_train = std_scaler.fit_transform(X_train)\n",
    "X_test = std_scaler.transform(X_test)"
   ]
  },
  {
   "cell_type": "markdown",
   "metadata": {},
   "source": [
    "Create different resampled datasets, just like in exploration_2.ipynb"
   ]
  },
  {
   "cell_type": "code",
   "execution_count": 4,
   "metadata": {},
   "outputs": [],
   "source": [
    "from imblearn.under_sampling import RandomUnderSampler\n",
    "from imblearn.over_sampling import RandomOverSampler\n",
    "from imblearn.over_sampling import SMOTE\n",
    "\n",
    "\n",
    "rus = RandomUnderSampler(random_state=42)\n",
    "ros = RandomOverSampler(random_state=42)\n",
    "smote = SMOTE(random_state=42)"
   ]
  },
  {
   "cell_type": "markdown",
   "metadata": {},
   "source": [
    "Let's try building bagging classifiers with each classifier balanced. Luckily, BalancedBaggingClassifier from imblearn implements this."
   ]
  },
  {
   "cell_type": "code",
   "execution_count": 26,
   "metadata": {},
   "outputs": [],
   "source": [
    "from imblearn.ensemble import BalancedBaggingClassifier\n",
    "from imblearn.pipeline import make_pipeline\n",
    "from sklearn.model_selection import cross_validate\n",
    "\n",
    "def cross_validate_bagging_diff_models_diff_data(models, resampling_methods, cv=3, n_estimators=10, scoring=['accuracy', 'precision', 'recall', 'f1', 'roc_auc']):\n",
    "    scores_lst = []\n",
    "    for m in models:\n",
    "        for r in resampling_methods:\n",
    "            bbc = BalancedBaggingClassifier(base_estimator=m, n_estimators=n_estimators, random_state=42)\n",
    "            pipe = make_pipeline(r, bbc)\n",
    "            print(f'now cross-validating {m.__class__.__name__} with {r.__class__.__name__}')\n",
    "            scores = cross_validate(pipe, X_train, y_train, cv=cv, scoring=scoring)\n",
    "            scores_lst.append({k: round(v.mean(), 3) for k, v in scores.items()})\n",
    "            print(f'Finished cross-validation for {r.__class__.__name__} with {m.__class__.__name__}')\n",
    "    index = pd.MultiIndex.from_product([[m.__class__.__name__ for m in models], [r.__class__.__name__ for r in resampling_methods]], names=['model', 'resampling_method'])\n",
    "    return pd.DataFrame(scores_lst, index=index)"
   ]
  },
  {
   "cell_type": "code",
   "execution_count": 27,
   "metadata": {},
   "outputs": [
    {
     "name": "stdout",
     "output_type": "stream",
     "text": [
      "now cross-validating LogisticRegression with RandomUnderSampler\n",
      "Finished cross-validation for RandomUnderSampler with LogisticRegression\n",
      "now cross-validating LogisticRegression with RandomOverSampler\n",
      "Finished cross-validation for RandomOverSampler with LogisticRegression\n",
      "now cross-validating LogisticRegression with SMOTE\n",
      "Finished cross-validation for SMOTE with LogisticRegression\n",
      "                                       fit_time  score_time  test_accuracy  \\\n",
      "model              resampling_method                                         \n",
      "LogisticRegression RandomUnderSampler     2.603       1.277          0.751   \n",
      "                   RandomOverSampler     27.948       1.264          0.750   \n",
      "                   SMOTE                 35.913       1.267          0.750   \n",
      "\n",
      "                                       test_precision  test_recall  test_f1  \\\n",
      "model              resampling_method                                          \n",
      "LogisticRegression RandomUnderSampler           0.224        0.780    0.348   \n",
      "                   RandomOverSampler            0.224        0.783    0.348   \n",
      "                   SMOTE                        0.223        0.781    0.347   \n",
      "\n",
      "                                       test_roc_auc  \n",
      "model              resampling_method                 \n",
      "LogisticRegression RandomUnderSampler         0.841  \n",
      "                   RandomOverSampler          0.842  \n",
      "                   SMOTE                      0.841  \n"
     ]
    }
   ],
   "source": [
    "from sklearn.linear_model import LogisticRegression\n",
    "\n",
    "score_table = cross_validate_bagging_diff_models_diff_data(models=[LogisticRegression()], resampling_methods=[rus, ros, smote])\n",
    "print(score_table)"
   ]
  },
  {
   "cell_type": "markdown",
   "metadata": {},
   "source": [
    "Hmm, this is the identical result as in exploration_2.ipynb. Perhaps 10 estimators is not enough. Let's try 100 estimators."
   ]
  },
  {
   "cell_type": "code",
   "execution_count": 28,
   "metadata": {},
   "outputs": [
    {
     "name": "stdout",
     "output_type": "stream",
     "text": [
      "now cross-validating LogisticRegression with RandomUnderSampler\n",
      "Finished cross-validation for RandomUnderSampler with LogisticRegression\n",
      "now cross-validating LogisticRegression with RandomOverSampler\n",
      "Finished cross-validation for RandomOverSampler with LogisticRegression\n",
      "now cross-validating LogisticRegression with SMOTE\n",
      "Finished cross-validation for SMOTE with LogisticRegression\n",
      "                                       fit_time  score_time  test_accuracy  \\\n",
      "model              resampling_method                                         \n",
      "LogisticRegression RandomUnderSampler    19.489      11.782          0.751   \n",
      "                   RandomOverSampler    251.231      10.338          0.750   \n",
      "                   SMOTE                242.336      10.299          0.750   \n",
      "\n",
      "                                       test_precision  test_recall  test_f1  \\\n",
      "model              resampling_method                                          \n",
      "LogisticRegression RandomUnderSampler           0.224        0.780    0.348   \n",
      "                   RandomOverSampler            0.223        0.782    0.347   \n",
      "                   SMOTE                        0.223        0.780    0.347   \n",
      "\n",
      "                                       test_roc_auc  \n",
      "model              resampling_method                 \n",
      "LogisticRegression RandomUnderSampler         0.841  \n",
      "                   RandomOverSampler          0.842  \n",
      "                   SMOTE                      0.841  \n"
     ]
    }
   ],
   "source": [
    "score_table2 = cross_validate_bagging_diff_models_diff_data(models=[LogisticRegression()], resampling_methods=[rus, ros, smote], n_estimators=100)\n",
    "print(score_table2)"
   ]
  },
  {
   "cell_type": "markdown",
   "metadata": {},
   "source": [
    "Hmm, increasing the number of estimators to 100 does not seem to give us an improvement in precision or recall. Let's plot the precision-recall curve to see if we can find a good tradeoff."
   ]
  },
  {
   "cell_type": "code",
   "execution_count": 22,
   "metadata": {},
   "outputs": [
    {
     "data": {
      "text/plain": [
       "(0.0, 1.0)"
      ]
     },
     "execution_count": 22,
     "metadata": {},
     "output_type": "execute_result"
    },
    {
     "name": "stderr",
     "output_type": "stream",
     "text": [
      "C:\\Users\\danie\\AppData\\Roaming\\Python\\Python39\\site-packages\\IPython\\core\\pylabtools.py:151: UserWarning: Creating legend with loc=\"best\" can be slow with large amounts of data.\n",
      "  fig.canvas.print_figure(bytes_io, **kw)\n"
     ]
    },
    {
     "data": {
      "image/png": "[encoded data removed]",
      "text/plain": [
       "<Figure size 432x288 with 1 Axes>"
      ]
     },
     "metadata": {
      "needs_background": "light"
     },
     "output_type": "display_data"
    }
   ],
   "source": [
    "from sklearn.metrics import precision_recall_curve\n",
    "from sklearn.model_selection import cross_val_predict\n",
    "import matplotlib.pyplot as plt\n",
    "\n",
    "no_resampling_y_scores = cross_val_predict(LogisticRegression(), X_train, y_train, cv=3, method='decision_function')\n",
    "no_resampling_precision, no_resampling_recall, no_resampling_thresholds = precision_recall_curve(y_train, no_resampling_y_scores)\n",
    "\n",
    "rus_pipe = make_pipeline(rus, LogisticRegression())\n",
    "rus_y_scores = cross_val_predict(rus_pipe, X_train, y_train, cv=3, method='decision_function')\n",
    "rus_precision, rus_recall, rus_thresholds = precision_recall_curve(y_train, rus_y_scores)\n",
    "\n",
    "ros_pipe = make_pipeline(ros, LogisticRegression())\n",
    "ros_y_scores = cross_val_predict(ros_pipe, X_train, y_train, cv=3, method='decision_function')\n",
    "ros_precision, ros_recall, ros_thresholds = precision_recall_curve(y_train, ros_y_scores)\n",
    "\n",
    "plt.plot(no_resampling_thresholds, no_resampling_precision[:-1], 'b--', label='No Resampling Precision')\n",
    "plt.plot(no_resampling_thresholds, no_resampling_recall[:-1], 'g-', label='No Resampling Recall')\n",
    "plt.plot(rus_thresholds, rus_precision[:-1], 'r--', label='RUS Precision')\n",
    "plt.plot(rus_thresholds, rus_recall[:-1], 'y-', label='RUS Recall')\n",
    "plt.plot(ros_thresholds, ros_precision[:-1], 'c--', label='ROS Precision')\n",
    "plt.plot(ros_thresholds, ros_recall[:-1], 'm-', label='ROS Recall')\n",
    "plt.legend()\n",
    "plt.xlabel('Threshold')\n",
    "plt.ylim([0, 1])"
   ]
  },
  {
   "cell_type": "markdown",
   "metadata": {},
   "source": [
    "* We see that the RUS precision is nearly identical to ROS precision and the RUS recall seems to be identical to ROS recall (they overlap entirely). This result agrees with the precision & recall scores in the above table (the scores are also identical).\n",
    "* In addition, the no resampling precision-recall curve is very similar to the RUS and ROS precision-recall curves (they look like a horizontal transformation of each other). There is no precision-recall tradeoff improvement from resampling. "
   ]
  },
  {
   "cell_type": "code",
   "execution_count": 23,
   "metadata": {},
   "outputs": [
    {
     "data": {
      "text/plain": [
       "Text(0, 0.5, 'Precision')"
      ]
     },
     "execution_count": 23,
     "metadata": {},
     "output_type": "execute_result"
    },
    {
     "data": {
      "image/png": "[encoded data removed]",
      "text/plain": [
       "<Figure size 432x288 with 1 Axes>"
      ]
     },
     "metadata": {
      "needs_background": "light"
     },
     "output_type": "display_data"
    }
   ],
   "source": [
    "plt.plot(no_resampling_recall, no_resampling_precision, 'b-', label='No Resampling Precision-Recall')\n",
    "plt.plot(rus_recall, rus_precision, 'r-', label='RUS Precision-Recall')\n",
    "plt.plot(ros_recall, ros_precision, 'c-', label='ROS Precision-Recall')\n",
    "plt.legend()\n",
    "plt.xlabel('Recall')\n",
    "plt.ylabel('Precision')"
   ]
  },
  {
   "cell_type": "markdown",
   "metadata": {},
   "source": [
    "The above plot confirms our understanding that there is no precision-recall tradeoff improvement from resampling. "
   ]
  },
  {
   "cell_type": "markdown",
   "metadata": {},
   "source": [
    "After experimenting with LogisticRegression. Let's try RandomForestClassifier on the resampled datasets as well as weighted XGBClassifier."
   ]
  },
  {
   "cell_type": "code",
   "execution_count": 25,
   "metadata": {},
   "outputs": [
    {
     "name": "stdout",
     "output_type": "stream",
     "text": [
      "{'fit_time': 8.07, 'score_time': 3.81, 'test_accuracy': 0.72, 'test_precision': 0.2, 'test_recall': 0.79, 'test_f1': 0.32, 'test_roc_auc': 0.82}\n"
     ]
    }
   ],
   "source": [
    "from imblearn.ensemble import BalancedRandomForestClassifier\n",
    "\n",
    "brfc = BalancedRandomForestClassifier(random_state=42)\n",
    "brfc_scores = cross_validate(brfc, X_train, y_train, cv=3, scoring=['accuracy', 'precision', 'recall', 'f1', 'roc_auc'])\n",
    "brfc_scores = {k: round(v.mean(), 3) for k, v in brfc_scores.items()}\n",
    "print(brfc_scores)"
   ]
  },
  {
   "cell_type": "markdown",
   "metadata": {},
   "source": [
    "The precision and recall of BalancedRandomForestClassifier do not improve. Let's try weighted XGBClassifier."
   ]
  },
  {
   "cell_type": "code",
   "execution_count": 50,
   "metadata": {},
   "outputs": [
    {
     "name": "stdout",
     "output_type": "stream",
     "text": [
      "Scale pos weight: 10.745833524631559\n"
     ]
    }
   ],
   "source": [
    "from xgboost import XGBClassifier\n",
    "\n",
    "counts = y_train.value_counts()\n",
    "scale_pos_weight = counts[0] / counts[1]\n",
    "print(f'Scale pos weight: {scale_pos_weight}')"
   ]
  },
  {
   "cell_type": "code",
   "execution_count": 51,
   "metadata": {},
   "outputs": [
    {
     "name": "stdout",
     "output_type": "stream",
     "text": [
      "{'scale_pos_weight': 100} 0.9428399379858607 3\n",
      "   mean_fit_time  std_fit_time  mean_score_time  std_score_time  \\\n",
      "0      12.401772      1.109562         0.439892        0.047982   \n",
      "1       9.986917      0.501229         0.385214        0.033976   \n",
      "2      12.226962      1.563161         0.371774        0.012169   \n",
      "3      10.077026      0.117753         0.359461        0.000104   \n",
      "\n",
      "  param_scale_pos_weight                                    params  \\\n",
      "0              10.745834  {'scale_pos_weight': 10.745833524631559}   \n",
      "1                      1                   {'scale_pos_weight': 1}   \n",
      "2                     50                  {'scale_pos_weight': 50}   \n",
      "3                    100                 {'scale_pos_weight': 100}   \n",
      "\n",
      "   split0_test_accuracy  split1_test_accuracy  split2_test_accuracy  \\\n",
      "0              0.761676              0.759202              0.760278   \n",
      "1              0.915255              0.915548              0.914855   \n",
      "2              0.533179              0.529321              0.529679   \n",
      "3              0.437587              0.434210              0.437170   \n",
      "\n",
      "   mean_test_accuracy  ...  split2_test_f1  mean_test_f1  std_test_f1  \\\n",
      "0            0.760386  ...        0.346263      0.346867     0.001141   \n",
      "1            0.915219  ...        0.164730      0.168464     0.007825   \n",
      "2            0.530727  ...        0.249223      0.250605     0.001071   \n",
      "3            0.436322  ...        0.221119      0.221674     0.000464   \n",
      "\n",
      "   rank_test_f1  split0_test_roc_auc  split1_test_roc_auc  \\\n",
      "0             1             0.830649             0.832068   \n",
      "1             4             0.834714             0.836262   \n",
      "2             2             0.825206             0.824782   \n",
      "3             3             0.820598             0.817283   \n",
      "\n",
      "   split2_test_roc_auc  mean_test_roc_auc  std_test_roc_auc  rank_test_roc_auc  \n",
      "0             0.830541           0.831086          0.000696                  2  \n",
      "1             0.835306           0.835427          0.000638                  1  \n",
      "2             0.820354           0.823447          0.002194                  3  \n",
      "3             0.816107           0.817996          0.001901                  4  \n",
      "\n",
      "[4 rows x 36 columns]\n"
     ]
    }
   ],
   "source": [
    "from sklearn.model_selection import GridSearchCV\n",
    "\n",
    "params = {'scale_pos_weight': [scale_pos_weight, 1, 50, 100]}\n",
    "\n",
    "xgb = XGBClassifier(random_state=42)\n",
    "xgb_grid = GridSearchCV(xgb, params, cv=3, scoring=['accuracy', 'precision', 'recall', 'f1', 'roc_auc'], refit='recall')\n",
    "xgb_grid.fit(X_train, y_train)\n",
    "print(xgb_grid.best_params_, xgb_grid.best_score_, xgb_grid.best_index_)\n",
    "xgb_grid_result_df = pd.DataFrame(xgb_grid.cv_results_)\n",
    "print(xgb_grid_result_df)"
   ]
  },
  {
   "cell_type": "code",
   "execution_count": 52,
   "metadata": {},
   "outputs": [
    {
     "data": {
      "text/plain": [
       "mean_test_accuracy     0.436322\n",
       "mean_test_precision    0.125603\n",
       "mean_test_recall        0.94284\n",
       "mean_test_f1           0.221674\n",
       "mean_test_roc_auc      0.817996\n",
       "Name: 3, dtype: object"
      ]
     },
     "execution_count": 52,
     "metadata": {},
     "output_type": "execute_result"
    }
   ],
   "source": [
    "xgb_grid_result_df.loc[xgb_grid.best_index_, ['mean_test_accuracy', 'mean_test_precision', 'mean_test_recall', 'mean_test_f1', 'mean_test_roc_auc']]"
   ]
  },
  {
   "cell_type": "markdown",
   "metadata": {},
   "source": [
    "The best XGB estimator is ranked by recall. Now let's run grid search again but this time rank by roc_auc."
   ]
  },
  {
   "cell_type": "code",
   "execution_count": 53,
   "metadata": {},
   "outputs": [
    {
     "name": "stdout",
     "output_type": "stream",
     "text": [
      "{'scale_pos_weight': 1} 0.8354273301450664 1\n",
      "   mean_fit_time  std_fit_time  mean_score_time  std_score_time  \\\n",
      "0      12.401772      1.109562         0.439892        0.047982   \n",
      "1       9.986917      0.501229         0.385214        0.033976   \n",
      "2      12.226962      1.563161         0.371774        0.012169   \n",
      "3      10.077026      0.117753         0.359461        0.000104   \n",
      "\n",
      "  param_scale_pos_weight                                    params  \\\n",
      "0              10.745834  {'scale_pos_weight': 10.745833524631559}   \n",
      "1                      1                   {'scale_pos_weight': 1}   \n",
      "2                     50                  {'scale_pos_weight': 50}   \n",
      "3                    100                 {'scale_pos_weight': 100}   \n",
      "\n",
      "   split0_test_accuracy  split1_test_accuracy  split2_test_accuracy  \\\n",
      "0              0.761676              0.759202              0.760278   \n",
      "1              0.915255              0.915548              0.914855   \n",
      "2              0.533179              0.529321              0.529679   \n",
      "3              0.437587              0.434210              0.437170   \n",
      "\n",
      "   mean_test_accuracy  ...  split2_test_f1  mean_test_f1  std_test_f1  \\\n",
      "0            0.760386  ...        0.346263      0.346867     0.001141   \n",
      "1            0.915219  ...        0.164730      0.168464     0.007825   \n",
      "2            0.530727  ...        0.249223      0.250605     0.001071   \n",
      "3            0.436322  ...        0.221119      0.221674     0.000464   \n",
      "\n",
      "   rank_test_f1  split0_test_roc_auc  split1_test_roc_auc  \\\n",
      "0             1             0.830649             0.832068   \n",
      "1             4             0.834714             0.836262   \n",
      "2             2             0.825206             0.824782   \n",
      "3             3             0.820598             0.817283   \n",
      "\n",
      "   split2_test_roc_auc  mean_test_roc_auc  std_test_roc_auc  rank_test_roc_auc  \n",
      "0             0.830541           0.831086          0.000696                  2  \n",
      "1             0.835306           0.835427          0.000638                  1  \n",
      "2             0.820354           0.823447          0.002194                  3  \n",
      "3             0.816107           0.817996          0.001901                  4  \n",
      "\n",
      "[4 rows x 36 columns]\n"
     ]
    }
   ],
   "source": [
    "xgb_grid2 = GridSearchCV(xgb, params, cv=3, scoring=['accuracy', 'precision', 'recall', 'f1', 'roc_auc'], refit='roc_auc')\n",
    "xgb_grid2.fit(X_train, y_train)\n",
    "print(xgb_grid2.best_params_, xgb_grid2.best_score_, xgb_grid2.best_index_)\n",
    "xgb_grid_result_df2 = pd.DataFrame(xgb_grid.cv_results_)\n",
    "print(xgb_grid_result_df2)"
   ]
  },
  {
   "cell_type": "code",
   "execution_count": 54,
   "metadata": {},
   "outputs": [
    {
     "data": {
      "text/plain": [
       "mean_test_accuracy     0.915219\n",
       "mean_test_precision    0.510427\n",
       "mean_test_recall       0.100913\n",
       "mean_test_f1           0.168464\n",
       "mean_test_roc_auc      0.835427\n",
       "Name: 1, dtype: object"
      ]
     },
     "execution_count": 54,
     "metadata": {},
     "output_type": "execute_result"
    }
   ],
   "source": [
    "xgb_grid_result_df2.loc[xgb_grid2.best_index_, ['mean_test_accuracy', 'mean_test_precision', 'mean_test_recall', 'mean_test_f1', 'mean_test_roc_auc']]"
   ]
  },
  {
   "cell_type": "markdown",
   "metadata": {},
   "source": [
    "From the initial grid search, it seems like increasing scale_pos_weight trades more recall for precision. For scale_pos_weight = 100, we get a recall of 0.943 and a precision of 0.126. This is not actually a good result: a dummy model that always predict \"YES\" will have recall of 0.9 and precision of 0.1 (this is because the number of \"NO\" is approx. 10 times the number of \"YES\").\n",
    "<br>\n",
    "Again, we favor recall over precision in this project because we want as many patients with heart disease to be detected."
   ]
  },
  {
   "cell_type": "code",
   "execution_count": 55,
   "metadata": {},
   "outputs": [],
   "source": [
    "# save all the models and results\n",
    "dill.dump_session('exploration_3.db')"
   ]
  }
 ],
 "metadata": {
  "interpreter": {
   "hash": "9518128f597d7b00dc14729602cfd87fb7b2cf75925976bcb0d0e328a830a12b"
  },
  "kernelspec": {
   "display_name": "Python 3.9.10 64-bit",
   "language": "python",
   "name": "python3"
  },
  "language_info": {
   "codemirror_mode": {
    "name": "ipython",
    "version": 3
   },
   "file_extension": ".py",
   "mimetype": "text/x-python",
   "name": "python",
   "nbconvert_exporter": "python",
   "pygments_lexer": "ipython3",
   "version": "3.9.10"
  },
  "orig_nbformat": 4
 },
 "nbformat": 4,
 "nbformat_minor": 2
}
