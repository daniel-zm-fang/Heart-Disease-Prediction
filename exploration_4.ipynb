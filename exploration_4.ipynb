{
 "cells": [
  {
   "cell_type": "markdown",
   "metadata": {},
   "source": [
    "I have just discovered that there's another method of dealing with imbalanced data. A lot of the models in sklearn has \"class_weight\" parameter that change the penalties associated with different label values. Let's give it a try (as well as fine-tuning the model)."
   ]
  },
  {
   "cell_type": "code",
   "execution_count": 2,
   "metadata": {},
   "outputs": [
    {
     "name": "stderr",
     "output_type": "stream",
     "text": [
      "Intel(R) Extension for Scikit-learn* enabled (https://github.com/intel/scikit-learn-intelex)\n"
     ]
    }
   ],
   "source": [
    "import pandas as pd\n",
    "import dill\n",
    "from sklearnex import patch_sklearn\n",
    "patch_sklearn()"
   ]
  },
  {
   "cell_type": "markdown",
   "metadata": {},
   "source": [
    "Import data and apply the same preprocessing as in exploration_2.ipynb and exploration_3.ipynb"
   ]
  },
  {
   "cell_type": "code",
   "execution_count": 3,
   "metadata": {},
   "outputs": [],
   "source": [
    "from sklearn.model_selection import train_test_split\n",
    "from sklearn.preprocessing import StandardScaler\n",
    "\n",
    "data = pd.read_csv('heart_2020_cleaned.csv')\n",
    "\n",
    "# one-hot encoding\n",
    "category_cols = [col for col in data.columns if data[col].dtype == 'object']\n",
    "data = pd.get_dummies(data=data, columns=category_cols, drop_first=True)\n",
    "\n",
    "X_train, X_test, y_train, y_test = train_test_split(data.drop(['HeartDisease_Yes'], axis=1), data['HeartDisease_Yes'], test_size=0.2, random_state=42)\n",
    "\n",
    "# this is the exact same as feature scaling in the 1st exploration\n",
    "std_scaler = StandardScaler()\n",
    "X_train = std_scaler.fit_transform(X_train)\n",
    "X_test = std_scaler.transform(X_test)"
   ]
  },
  {
   "cell_type": "code",
   "execution_count": 4,
   "metadata": {},
   "outputs": [],
   "source": [
    "counts = y_train.value_counts()\n",
    "scale_pos_weight = counts[0] / counts[1]"
   ]
  },
  {
   "cell_type": "markdown",
   "metadata": {},
   "source": [
    "Let's first fine tune XGBClassifier."
   ]
  },
  {
   "cell_type": "markdown",
   "metadata": {},
   "source": [
    "The score we will use here is the F1 score because ROC_AUC score does not get affected by the imbalance of the data as much as F1 score. We fine tune the parameters scale_pos_weight, max_depth, and min_child_weight first because they have the most impact on the model."
   ]
  },
  {
   "cell_type": "code",
   "execution_count": 5,
   "metadata": {},
   "outputs": [],
   "source": [
    "from sklearn.model_selection import GridSearchCV\n",
    "from xgboost import XGBClassifier\n",
    "\n",
    "scoring = ['accuracy', 'precision', 'recall', 'f1', 'roc_auc']\n",
    "\n",
    "params = {'scale_pos_weight': [scale_pos_weight, 1, 100], 'max_depth': [3, 5, 10], 'min_child_weight': [1, 3, 6]}\n",
    "xgb_grid = GridSearchCV(XGBClassifier(), params, cv=5, scoring=scoring, refit='f1', verbose=2)"
   ]
  },
  {
   "cell_type": "code",
   "execution_count": 14,
   "metadata": {},
   "outputs": [
    {
     "name": "stdout",
     "output_type": "stream",
     "text": [
      "Fitting 5 folds for each of 27 candidates, totalling 135 fits\n",
      "[CV] END max_depth=3, min_child_weight=1, scale_pos_weight=10.745833524631559; total time=   6.9s\n",
      "[CV] END max_depth=3, min_child_weight=1, scale_pos_weight=10.745833524631559; total time=   7.2s\n",
      "[CV] END max_depth=3, min_child_weight=1, scale_pos_weight=10.745833524631559; total time=   8.7s\n",
      "[CV] END max_depth=3, min_child_weight=1, scale_pos_weight=10.745833524631559; total time=   8.3s\n",
      "[CV] END max_depth=3, min_child_weight=1, scale_pos_weight=10.745833524631559; total time=   9.1s\n",
      "[CV] END max_depth=3, min_child_weight=1, scale_pos_weight=1; total time=   9.0s\n",
      "[CV] END max_depth=3, min_child_weight=1, scale_pos_weight=1; total time=  10.1s\n",
      "[CV] END max_depth=3, min_child_weight=1, scale_pos_weight=1; total time=   9.2s\n",
      "[CV] END max_depth=3, min_child_weight=1, scale_pos_weight=1; total time=   7.1s\n",
      "[CV] END max_depth=3, min_child_weight=1, scale_pos_weight=1; total time=   6.9s\n",
      "[CV] END max_depth=3, min_child_weight=1, scale_pos_weight=100; total time=   7.0s\n",
      "[CV] END max_depth=3, min_child_weight=1, scale_pos_weight=100; total time=   7.1s\n",
      "[CV] END max_depth=3, min_child_weight=1, scale_pos_weight=100; total time=   7.8s\n",
      "[CV] END max_depth=3, min_child_weight=1, scale_pos_weight=100; total time=   7.5s\n",
      "[CV] END max_depth=3, min_child_weight=1, scale_pos_weight=100; total time=   7.1s\n",
      "[CV] END max_depth=3, min_child_weight=3, scale_pos_weight=10.745833524631559; total time=   7.0s\n",
      "[CV] END max_depth=3, min_child_weight=3, scale_pos_weight=10.745833524631559; total time=   7.1s\n",
      "[CV] END max_depth=3, min_child_weight=3, scale_pos_weight=10.745833524631559; total time=   7.0s\n",
      "[CV] END max_depth=3, min_child_weight=3, scale_pos_weight=10.745833524631559; total time=   7.1s\n",
      "[CV] END max_depth=3, min_child_weight=3, scale_pos_weight=10.745833524631559; total time=   7.1s\n",
      "[CV] END max_depth=3, min_child_weight=3, scale_pos_weight=1; total time=   7.2s\n",
      "[CV] END max_depth=3, min_child_weight=3, scale_pos_weight=1; total time=   7.1s\n",
      "[CV] END max_depth=3, min_child_weight=3, scale_pos_weight=1; total time=   7.0s\n",
      "[CV] END max_depth=3, min_child_weight=3, scale_pos_weight=1; total time=   7.1s\n",
      "[CV] END max_depth=3, min_child_weight=3, scale_pos_weight=1; total time=   7.0s\n",
      "[CV] END max_depth=3, min_child_weight=3, scale_pos_weight=100; total time=   7.0s\n",
      "[CV] END max_depth=3, min_child_weight=3, scale_pos_weight=100; total time=   7.1s\n",
      "[CV] END max_depth=3, min_child_weight=3, scale_pos_weight=100; total time=   7.0s\n",
      "[CV] END max_depth=3, min_child_weight=3, scale_pos_weight=100; total time=   7.1s\n",
      "[CV] END max_depth=3, min_child_weight=3, scale_pos_weight=100; total time=   7.3s\n",
      "[CV] END max_depth=3, min_child_weight=6, scale_pos_weight=10.745833524631559; total time=   7.0s\n",
      "[CV] END max_depth=3, min_child_weight=6, scale_pos_weight=10.745833524631559; total time=   7.1s\n",
      "[CV] END max_depth=3, min_child_weight=6, scale_pos_weight=10.745833524631559; total time=   7.1s\n",
      "[CV] END max_depth=3, min_child_weight=6, scale_pos_weight=10.745833524631559; total time=   7.1s\n",
      "[CV] END max_depth=3, min_child_weight=6, scale_pos_weight=10.745833524631559; total time=   7.1s\n",
      "[CV] END max_depth=3, min_child_weight=6, scale_pos_weight=1; total time=   7.1s\n",
      "[CV] END max_depth=3, min_child_weight=6, scale_pos_weight=1; total time=   7.1s\n",
      "[CV] END max_depth=3, min_child_weight=6, scale_pos_weight=1; total time=   7.1s\n",
      "[CV] END max_depth=3, min_child_weight=6, scale_pos_weight=1; total time=   7.1s\n",
      "[CV] END max_depth=3, min_child_weight=6, scale_pos_weight=1; total time=   7.1s\n",
      "[CV] END max_depth=3, min_child_weight=6, scale_pos_weight=100; total time=   7.1s\n",
      "[CV] END max_depth=3, min_child_weight=6, scale_pos_weight=100; total time=   7.2s\n",
      "[CV] END max_depth=3, min_child_weight=6, scale_pos_weight=100; total time=   7.1s\n",
      "[CV] END max_depth=3, min_child_weight=6, scale_pos_weight=100; total time=   7.0s\n",
      "[CV] END max_depth=3, min_child_weight=6, scale_pos_weight=100; total time=   7.0s\n",
      "[CV] END max_depth=5, min_child_weight=1, scale_pos_weight=10.745833524631559; total time=  11.1s\n",
      "[CV] END max_depth=5, min_child_weight=1, scale_pos_weight=10.745833524631559; total time=  11.8s\n",
      "[CV] END max_depth=5, min_child_weight=1, scale_pos_weight=10.745833524631559; total time=  11.2s\n",
      "[CV] END max_depth=5, min_child_weight=1, scale_pos_weight=10.745833524631559; total time=  10.8s\n",
      "[CV] END max_depth=5, min_child_weight=1, scale_pos_weight=10.745833524631559; total time=   9.4s\n",
      "[CV] END max_depth=5, min_child_weight=1, scale_pos_weight=1; total time=   9.4s\n",
      "[CV] END max_depth=5, min_child_weight=1, scale_pos_weight=1; total time=   9.5s\n",
      "[CV] END max_depth=5, min_child_weight=1, scale_pos_weight=1; total time=   9.8s\n",
      "[CV] END max_depth=5, min_child_weight=1, scale_pos_weight=1; total time=   9.4s\n",
      "[CV] END max_depth=5, min_child_weight=1, scale_pos_weight=1; total time=   9.3s\n",
      "[CV] END max_depth=5, min_child_weight=1, scale_pos_weight=100; total time=   9.4s\n",
      "[CV] END max_depth=5, min_child_weight=1, scale_pos_weight=100; total time=   9.4s\n",
      "[CV] END max_depth=5, min_child_weight=1, scale_pos_weight=100; total time=   9.8s\n",
      "[CV] END max_depth=5, min_child_weight=1, scale_pos_weight=100; total time=   9.4s\n",
      "[CV] END max_depth=5, min_child_weight=1, scale_pos_weight=100; total time=   9.4s\n",
      "[CV] END max_depth=5, min_child_weight=3, scale_pos_weight=10.745833524631559; total time=   9.3s\n",
      "[CV] END max_depth=5, min_child_weight=3, scale_pos_weight=10.745833524631559; total time=   9.4s\n",
      "[CV] END max_depth=5, min_child_weight=3, scale_pos_weight=10.745833524631559; total time=   9.3s\n",
      "[CV] END max_depth=5, min_child_weight=3, scale_pos_weight=10.745833524631559; total time=   9.4s\n",
      "[CV] END max_depth=5, min_child_weight=3, scale_pos_weight=10.745833524631559; total time=   9.3s\n",
      "[CV] END max_depth=5, min_child_weight=3, scale_pos_weight=1; total time=   9.3s\n",
      "[CV] END max_depth=5, min_child_weight=3, scale_pos_weight=1; total time=   9.3s\n",
      "[CV] END max_depth=5, min_child_weight=3, scale_pos_weight=1; total time=   9.4s\n",
      "[CV] END max_depth=5, min_child_weight=3, scale_pos_weight=1; total time=   9.3s\n",
      "[CV] END max_depth=5, min_child_weight=3, scale_pos_weight=1; total time=   9.3s\n",
      "[CV] END max_depth=5, min_child_weight=3, scale_pos_weight=100; total time=   9.4s\n",
      "[CV] END max_depth=5, min_child_weight=3, scale_pos_weight=100; total time=   9.3s\n",
      "[CV] END max_depth=5, min_child_weight=3, scale_pos_weight=100; total time=   9.9s\n",
      "[CV] END max_depth=5, min_child_weight=3, scale_pos_weight=100; total time=   9.3s\n",
      "[CV] END max_depth=5, min_child_weight=3, scale_pos_weight=100; total time=   9.4s\n",
      "[CV] END max_depth=5, min_child_weight=6, scale_pos_weight=10.745833524631559; total time=   9.3s\n",
      "[CV] END max_depth=5, min_child_weight=6, scale_pos_weight=10.745833524631559; total time=   9.3s\n",
      "[CV] END max_depth=5, min_child_weight=6, scale_pos_weight=10.745833524631559; total time=   9.4s\n",
      "[CV] END max_depth=5, min_child_weight=6, scale_pos_weight=10.745833524631559; total time=   9.3s\n",
      "[CV] END max_depth=5, min_child_weight=6, scale_pos_weight=10.745833524631559; total time=   9.3s\n",
      "[CV] END max_depth=5, min_child_weight=6, scale_pos_weight=1; total time=   9.3s\n",
      "[CV] END max_depth=5, min_child_weight=6, scale_pos_weight=1; total time=38.8min\n",
      "[CV] END max_depth=5, min_child_weight=6, scale_pos_weight=1; total time=  10.4s\n",
      "[CV] END max_depth=5, min_child_weight=6, scale_pos_weight=1; total time=  12.0s\n",
      "[CV] END max_depth=5, min_child_weight=6, scale_pos_weight=1; total time=  12.0s\n",
      "[CV] END max_depth=5, min_child_weight=6, scale_pos_weight=100; total time=  11.5s\n",
      "[CV] END max_depth=5, min_child_weight=6, scale_pos_weight=100; total time=   9.5s\n",
      "[CV] END max_depth=5, min_child_weight=6, scale_pos_weight=100; total time=  10.3s\n",
      "[CV] END max_depth=5, min_child_weight=6, scale_pos_weight=100; total time=   9.4s\n",
      "[CV] END max_depth=5, min_child_weight=6, scale_pos_weight=100; total time=  10.6s\n",
      "[CV] END max_depth=10, min_child_weight=1, scale_pos_weight=10.745833524631559; total time=  32.5s\n",
      "[CV] END max_depth=10, min_child_weight=1, scale_pos_weight=10.745833524631559; total time=  33.4s\n",
      "[CV] END max_depth=10, min_child_weight=1, scale_pos_weight=10.745833524631559; total time=  43.6s\n",
      "[CV] END max_depth=10, min_child_weight=1, scale_pos_weight=10.745833524631559; total time=  36.5s\n",
      "[CV] END max_depth=10, min_child_weight=1, scale_pos_weight=10.745833524631559; total time=  49.2s\n",
      "[CV] END max_depth=10, min_child_weight=1, scale_pos_weight=1; total time=  33.3s\n",
      "[CV] END max_depth=10, min_child_weight=1, scale_pos_weight=1; total time=  31.9s\n",
      "[CV] END max_depth=10, min_child_weight=1, scale_pos_weight=1; total time=  31.8s\n",
      "[CV] END max_depth=10, min_child_weight=1, scale_pos_weight=1; total time=  32.4s\n",
      "[CV] END max_depth=10, min_child_weight=1, scale_pos_weight=1; total time=  32.0s\n",
      "[CV] END max_depth=10, min_child_weight=1, scale_pos_weight=100; total time=  43.3s\n",
      "[CV] END max_depth=10, min_child_weight=1, scale_pos_weight=100; total time=  33.4s\n",
      "[CV] END max_depth=10, min_child_weight=1, scale_pos_weight=100; total time=  34.8s\n",
      "[CV] END max_depth=10, min_child_weight=1, scale_pos_weight=100; total time=  40.1s\n",
      "[CV] END max_depth=10, min_child_weight=1, scale_pos_weight=100; total time=  35.5s\n",
      "[CV] END max_depth=10, min_child_weight=3, scale_pos_weight=10.745833524631559; total time=  32.4s\n",
      "[CV] END max_depth=10, min_child_weight=3, scale_pos_weight=10.745833524631559; total time=  33.7s\n",
      "[CV] END max_depth=10, min_child_weight=3, scale_pos_weight=10.745833524631559; total time=  38.3s\n",
      "[CV] END max_depth=10, min_child_weight=3, scale_pos_weight=10.745833524631559; total time=  33.3s\n",
      "[CV] END max_depth=10, min_child_weight=3, scale_pos_weight=10.745833524631559; total time=  38.2s\n",
      "[CV] END max_depth=10, min_child_weight=3, scale_pos_weight=1; total time=  31.5s\n",
      "[CV] END max_depth=10, min_child_weight=3, scale_pos_weight=1; total time=  30.7s\n",
      "[CV] END max_depth=10, min_child_weight=3, scale_pos_weight=1; total time=  33.1s\n",
      "[CV] END max_depth=10, min_child_weight=3, scale_pos_weight=1; total time=  29.2s\n",
      "[CV] END max_depth=10, min_child_weight=3, scale_pos_weight=1; total time=  30.3s\n",
      "[CV] END max_depth=10, min_child_weight=3, scale_pos_weight=100; total time=  36.2s\n",
      "[CV] END max_depth=10, min_child_weight=3, scale_pos_weight=100; total time=  34.6s\n",
      "[CV] END max_depth=10, min_child_weight=3, scale_pos_weight=100; total time=  33.0s\n",
      "[CV] END max_depth=10, min_child_weight=3, scale_pos_weight=100; total time=  33.7s\n",
      "[CV] END max_depth=10, min_child_weight=3, scale_pos_weight=100; total time=  33.3s\n",
      "[CV] END max_depth=10, min_child_weight=6, scale_pos_weight=10.745833524631559; total time=  32.2s\n",
      "[CV] END max_depth=10, min_child_weight=6, scale_pos_weight=10.745833524631559; total time=  31.5s\n",
      "[CV] END max_depth=10, min_child_weight=6, scale_pos_weight=10.745833524631559; total time=  32.5s\n",
      "[CV] END max_depth=10, min_child_weight=6, scale_pos_weight=10.745833524631559; total time=  31.7s\n",
      "[CV] END max_depth=10, min_child_weight=6, scale_pos_weight=10.745833524631559; total time=  31.6s\n",
      "[CV] END max_depth=10, min_child_weight=6, scale_pos_weight=1; total time=  31.8s\n",
      "[CV] END max_depth=10, min_child_weight=6, scale_pos_weight=1; total time=  29.3s\n",
      "[CV] END max_depth=10, min_child_weight=6, scale_pos_weight=1; total time=  29.1s\n",
      "[CV] END max_depth=10, min_child_weight=6, scale_pos_weight=1; total time=  29.6s\n",
      "[CV] END max_depth=10, min_child_weight=6, scale_pos_weight=1; total time=  29.4s\n",
      "[CV] END max_depth=10, min_child_weight=6, scale_pos_weight=100; total time=  33.9s\n",
      "[CV] END max_depth=10, min_child_weight=6, scale_pos_weight=100; total time=  33.1s\n",
      "[CV] END max_depth=10, min_child_weight=6, scale_pos_weight=100; total time=  35.0s\n",
      "[CV] END max_depth=10, min_child_weight=6, scale_pos_weight=100; total time=  29.9s\n",
      "[CV] END max_depth=10, min_child_weight=6, scale_pos_weight=100; total time=  33.6s\n"
     ]
    },
    {
     "data": {
      "text/plain": [
       "GridSearchCV(cv=5,\n",
       "             estimator=XGBClassifier(base_score=None, booster=None,\n",
       "                                     callbacks=None, colsample_bylevel=None,\n",
       "                                     colsample_bynode=None,\n",
       "                                     colsample_bytree=None,\n",
       "                                     early_stopping_rounds=None,\n",
       "                                     enable_categorical=False, eval_metric=None,\n",
       "                                     gamma=None, gpu_id=None, grow_policy=None,\n",
       "                                     importance_type=None,\n",
       "                                     interaction_constraints=None,\n",
       "                                     learning_rate=None, max_bin=None,\n",
       "                                     max_ca...\n",
       "                                     max_leaves=None, min_child_weight=None,\n",
       "                                     missing=nan, monotone_constraints=None,\n",
       "                                     n_estimators=100, n_jobs=None,\n",
       "                                     num_parallel_tree=None, predictor=None,\n",
       "                                     random_state=None, reg_alpha=None,\n",
       "                                     reg_lambda=None, ...),\n",
       "             param_grid={'max_depth': [3, 5, 10], 'min_child_weight': [1, 3, 6],\n",
       "                         'scale_pos_weight': [10.745833524631559, 1, 100]},\n",
       "             refit='f1',\n",
       "             scoring=['accuracy', 'precision', 'recall', 'f1', 'roc_auc'],\n",
       "             verbose=2)"
      ]
     },
     "execution_count": 14,
     "metadata": {},
     "output_type": "execute_result"
    }
   ],
   "source": [
    "xgb_grid.fit(X_train, y_train)"
   ]
  },
  {
   "cell_type": "code",
   "execution_count": 22,
   "metadata": {},
   "outputs": [
    {
     "name": "stdout",
     "output_type": "stream",
     "text": [
      "{'max_depth': 5, 'min_child_weight': 3, 'scale_pos_weight': 10.745833524631559}\n",
      "0.34779100552244785\n",
      "mean_test_accuracy     0.753295\n",
      "mean_test_precision    0.224405\n",
      "mean_test_recall         0.7726\n",
      "mean_test_f1           0.347791\n",
      "mean_test_roc_auc       0.83846\n",
      "Name: 12, dtype: object\n"
     ]
    }
   ],
   "source": [
    "print(xgb_grid.best_params_)\n",
    "print(xgb_grid.best_score_)\n",
    "xgb_grid_result_df = pd.DataFrame(xgb_grid.cv_results_)\n",
    "print(xgb_grid_result_df.loc[xgb_grid.best_index_, ['mean_test_accuracy', 'mean_test_precision', 'mean_test_recall', 'mean_test_f1', 'mean_test_roc_auc']])\n",
    "optimal_scale_pos_weight = xgb_grid.best_params_['scale_pos_weight']\n",
    "optimal_max_depth = xgb_grid.best_params_['max_depth']\n",
    "optimal_min_child_weight = xgb_grid.best_params_['min_child_weight']"
   ]
  },
  {
   "cell_type": "markdown",
   "metadata": {},
   "source": [
    "Now let's fine tune the parameter gamma"
   ]
  },
  {
   "cell_type": "code",
   "execution_count": 24,
   "metadata": {},
   "outputs": [
    {
     "name": "stdout",
     "output_type": "stream",
     "text": [
      "Fitting 5 folds for each of 10 candidates, totalling 50 fits\n",
      "[CV] END ..........................................gamma=0.0; total time=  16.0s\n",
      "[CV] END ..........................................gamma=0.0; total time=  16.0s\n",
      "[CV] END ..........................................gamma=0.0; total time=  18.2s\n",
      "[CV] END ..........................................gamma=0.0; total time=  17.5s\n",
      "[CV] END ..........................................gamma=0.0; total time=  17.8s\n",
      "[CV] END ..........................................gamma=0.1; total time=  16.3s\n",
      "[CV] END ..........................................gamma=0.1; total time=  15.1s\n",
      "[CV] END ..........................................gamma=0.1; total time=  15.3s\n",
      "[CV] END ..........................................gamma=0.1; total time=  15.0s\n",
      "[CV] END ..........................................gamma=0.1; total time=  14.5s\n",
      "[CV] END ..........................................gamma=0.2; total time=  15.9s\n",
      "[CV] END ..........................................gamma=0.2; total time=  14.7s\n",
      "[CV] END ..........................................gamma=0.2; total time=  15.0s\n",
      "[CV] END ..........................................gamma=0.2; total time=  14.9s\n",
      "[CV] END ..........................................gamma=0.2; total time=  15.1s\n",
      "[CV] END ..........................................gamma=0.3; total time=  16.1s\n",
      "[CV] END ..........................................gamma=0.3; total time=  15.8s\n",
      "[CV] END ..........................................gamma=0.3; total time=  14.9s\n",
      "[CV] END ..........................................gamma=0.3; total time=  16.3s\n",
      "[CV] END ..........................................gamma=0.3; total time=  15.4s\n",
      "[CV] END ..........................................gamma=0.4; total time=  16.0s\n",
      "[CV] END ..........................................gamma=0.4; total time=  15.0s\n",
      "[CV] END ..........................................gamma=0.4; total time=  15.2s\n",
      "[CV] END ..........................................gamma=0.4; total time=  15.1s\n",
      "[CV] END ..........................................gamma=0.4; total time=  15.2s\n",
      "[CV] END ..........................................gamma=0.5; total time=  15.3s\n",
      "[CV] END ..........................................gamma=0.5; total time=  16.4s\n",
      "[CV] END ..........................................gamma=0.5; total time=  15.1s\n",
      "[CV] END ..........................................gamma=0.5; total time=  15.6s\n",
      "[CV] END ..........................................gamma=0.5; total time=  15.2s\n",
      "[CV] END ..........................................gamma=0.6; total time=  15.4s\n",
      "[CV] END ..........................................gamma=0.6; total time=  15.1s\n",
      "[CV] END ..........................................gamma=0.6; total time=  15.3s\n",
      "[CV] END ..........................................gamma=0.6; total time=  14.8s\n",
      "[CV] END ..........................................gamma=0.6; total time=  15.1s\n",
      "[CV] END ..........................................gamma=0.7; total time=  15.1s\n",
      "[CV] END ..........................................gamma=0.7; total time=  15.3s\n",
      "[CV] END ..........................................gamma=0.7; total time=  15.2s\n",
      "[CV] END ..........................................gamma=0.7; total time=  17.5s\n",
      "[CV] END ..........................................gamma=0.7; total time=  15.6s\n",
      "[CV] END ..........................................gamma=0.8; total time=  15.1s\n",
      "[CV] END ..........................................gamma=0.8; total time=  14.9s\n",
      "[CV] END ..........................................gamma=0.8; total time=  15.4s\n",
      "[CV] END ..........................................gamma=0.8; total time=  14.9s\n",
      "[CV] END ..........................................gamma=0.8; total time=  15.1s\n",
      "[CV] END ..........................................gamma=0.9; total time=  15.3s\n",
      "[CV] END ..........................................gamma=0.9; total time=  15.1s\n",
      "[CV] END ..........................................gamma=0.9; total time=  15.6s\n",
      "[CV] END ..........................................gamma=0.9; total time=  15.3s\n",
      "[CV] END ..........................................gamma=0.9; total time=  15.3s\n"
     ]
    },
    {
     "data": {
      "text/plain": [
       "GridSearchCV(cv=5,\n",
       "             estimator=XGBClassifier(base_score=None, booster=None,\n",
       "                                     callbacks=None, colsample_bylevel=None,\n",
       "                                     colsample_bynode=None,\n",
       "                                     colsample_bytree=None,\n",
       "                                     early_stopping_rounds=None,\n",
       "                                     enable_categorical=False, eval_metric=None,\n",
       "                                     gamma=None, gpu_id=None, grow_policy=None,\n",
       "                                     importance_type=None,\n",
       "                                     interaction_constraints=None,\n",
       "                                     learning_rate=None, max_bin=None,\n",
       "                                     max_ca...\n",
       "                                     max_delta_step=None, max_depth=5,\n",
       "                                     max_leaves=None, min_child_weight=3,\n",
       "                                     missing=nan, monotone_constraints=None,\n",
       "                                     n_estimators=100, n_jobs=None,\n",
       "                                     num_parallel_tree=None, predictor=None,\n",
       "                                     random_state=None, reg_alpha=None,\n",
       "                                     reg_lambda=None, ...),\n",
       "             param_grid={'gamma': [0.0, 0.1, 0.2, 0.3, 0.4, 0.5, 0.6, 0.7, 0.8,\n",
       "                                   0.9]},\n",
       "             refit='f1',\n",
       "             scoring=['accuracy', 'precision', 'recall', 'f1', 'roc_auc'],\n",
       "             verbose=2)"
      ]
     },
     "execution_count": 24,
     "metadata": {},
     "output_type": "execute_result"
    }
   ],
   "source": [
    "xgb_grid2 = GridSearchCV(\n",
    "    XGBClassifier(scale_pos_weight=optimal_scale_pos_weight, max_depth=optimal_max_depth, min_child_weight=optimal_min_child_weight),\n",
    "    {'gamma': [i / 10 for i in range(10)]},\n",
    "    cv=5,\n",
    "    scoring=scoring,\n",
    "    refit='f1',\n",
    "    verbose=2\n",
    ")\n",
    "\n",
    "xgb_grid2.fit(X_train, y_train)"
   ]
  },
  {
   "cell_type": "code",
   "execution_count": 27,
   "metadata": {},
   "outputs": [
    {
     "name": "stdout",
     "output_type": "stream",
     "text": [
      "{'gamma': 0.0}\n",
      "0.34779100552244785\n",
      "mean_test_accuracy     0.753295\n",
      "mean_test_precision    0.224405\n",
      "mean_test_recall         0.7726\n",
      "mean_test_f1           0.347791\n",
      "mean_test_roc_auc       0.83846\n",
      "Name: 0, dtype: object\n"
     ]
    }
   ],
   "source": [
    "print(xgb_grid2.best_params_)\n",
    "print(xgb_grid2.best_score_)\n",
    "xgb_grid_result_df2 = pd.DataFrame(xgb_grid2.cv_results_)\n",
    "print(xgb_grid_result_df2.loc[xgb_grid2.best_index_, ['mean_test_accuracy', 'mean_test_precision', 'mean_test_recall', 'mean_test_f1', 'mean_test_roc_auc']])\n",
    "optimal_gamma = xgb_grid2.best_params_['gamma']"
   ]
  },
  {
   "cell_type": "markdown",
   "metadata": {},
   "source": [
    "Next, fine-tune parameters subsample and colsample_bytree."
   ]
  },
  {
   "cell_type": "code",
   "execution_count": 28,
   "metadata": {},
   "outputs": [
    {
     "name": "stdout",
     "output_type": "stream",
     "text": [
      "Fitting 5 folds for each of 25 candidates, totalling 125 fits\n",
      "[CV] END ................colsample_bytree=0.5, subsample=0.5; total time=  16.0s\n",
      "[CV] END ................colsample_bytree=0.5, subsample=0.5; total time=  15.6s\n",
      "[CV] END ................colsample_bytree=0.5, subsample=0.5; total time=  16.8s\n",
      "[CV] END ................colsample_bytree=0.5, subsample=0.5; total time=  17.7s\n",
      "[CV] END ................colsample_bytree=0.5, subsample=0.5; total time=  17.7s\n",
      "[CV] END ................colsample_bytree=0.5, subsample=0.6; total time=  16.8s\n",
      "[CV] END ................colsample_bytree=0.5, subsample=0.6; total time=  17.0s\n",
      "[CV] END ................colsample_bytree=0.5, subsample=0.6; total time=  18.2s\n",
      "[CV] END ................colsample_bytree=0.5, subsample=0.6; total time=  17.5s\n",
      "[CV] END ................colsample_bytree=0.5, subsample=0.6; total time=  11.0s\n",
      "[CV] END ................colsample_bytree=0.5, subsample=0.7; total time=  12.7s\n",
      "[CV] END ................colsample_bytree=0.5, subsample=0.7; total time=  11.9s\n",
      "[CV] END ................colsample_bytree=0.5, subsample=0.7; total time=  13.2s\n",
      "[CV] END ................colsample_bytree=0.5, subsample=0.7; total time=  11.9s\n",
      "[CV] END ................colsample_bytree=0.5, subsample=0.7; total time=  12.1s\n",
      "[CV] END ................colsample_bytree=0.5, subsample=0.8; total time=  12.2s\n",
      "[CV] END ................colsample_bytree=0.5, subsample=0.8; total time=  11.1s\n",
      "[CV] END ................colsample_bytree=0.5, subsample=0.8; total time=  10.8s\n",
      "[CV] END ................colsample_bytree=0.5, subsample=0.8; total time=  11.1s\n",
      "[CV] END ................colsample_bytree=0.5, subsample=0.8; total time=  13.1s\n",
      "[CV] END ................colsample_bytree=0.5, subsample=0.9; total time=  12.0s\n",
      "[CV] END ................colsample_bytree=0.5, subsample=0.9; total time=  12.3s\n",
      "[CV] END ................colsample_bytree=0.5, subsample=0.9; total time=  12.0s\n",
      "[CV] END ................colsample_bytree=0.5, subsample=0.9; total time=  12.3s\n",
      "[CV] END ................colsample_bytree=0.5, subsample=0.9; total time=  12.1s\n",
      "[CV] END ................colsample_bytree=0.6, subsample=0.5; total time=  13.9s\n",
      "[CV] END ................colsample_bytree=0.6, subsample=0.5; total time=  14.1s\n",
      "[CV] END ................colsample_bytree=0.6, subsample=0.5; total time=  15.4s\n",
      "[CV] END ................colsample_bytree=0.6, subsample=0.5; total time=  14.6s\n",
      "[CV] END ................colsample_bytree=0.6, subsample=0.5; total time=  15.8s\n",
      "[CV] END ................colsample_bytree=0.6, subsample=0.6; total time=  11.7s\n",
      "[CV] END ................colsample_bytree=0.6, subsample=0.6; total time=  11.5s\n",
      "[CV] END ................colsample_bytree=0.6, subsample=0.6; total time=  15.1s\n",
      "[CV] END ................colsample_bytree=0.6, subsample=0.6; total time=  15.8s\n",
      "[CV] END ................colsample_bytree=0.6, subsample=0.6; total time=  14.9s\n",
      "[CV] END ................colsample_bytree=0.6, subsample=0.7; total time=  14.5s\n",
      "[CV] END ................colsample_bytree=0.6, subsample=0.7; total time=  15.9s\n",
      "[CV] END ................colsample_bytree=0.6, subsample=0.7; total time=  15.4s\n",
      "[CV] END ................colsample_bytree=0.6, subsample=0.7; total time=  14.0s\n",
      "[CV] END ................colsample_bytree=0.6, subsample=0.7; total time=  14.4s\n",
      "[CV] END ................colsample_bytree=0.6, subsample=0.8; total time=  16.5s\n",
      "[CV] END ................colsample_bytree=0.6, subsample=0.8; total time=  18.4s\n",
      "[CV] END ................colsample_bytree=0.6, subsample=0.8; total time=  18.8s\n",
      "[CV] END ................colsample_bytree=0.6, subsample=0.8; total time=  16.7s\n",
      "[CV] END ................colsample_bytree=0.6, subsample=0.8; total time=  13.7s\n",
      "[CV] END ................colsample_bytree=0.6, subsample=0.9; total time=  11.7s\n",
      "[CV] END ................colsample_bytree=0.6, subsample=0.9; total time=  18.8s\n",
      "[CV] END ................colsample_bytree=0.6, subsample=0.9; total time=  10.8s\n",
      "[CV] END ................colsample_bytree=0.6, subsample=0.9; total time=  10.2s\n",
      "[CV] END ................colsample_bytree=0.6, subsample=0.9; total time=  10.3s\n",
      "[CV] END ................colsample_bytree=0.7, subsample=0.5; total time=  12.9s\n",
      "[CV] END ................colsample_bytree=0.7, subsample=0.5; total time=  13.1s\n",
      "[CV] END ................colsample_bytree=0.7, subsample=0.5; total time=  12.9s\n",
      "[CV] END ................colsample_bytree=0.7, subsample=0.5; total time=  13.3s\n",
      "[CV] END ................colsample_bytree=0.7, subsample=0.5; total time=  13.5s\n",
      "[CV] END ................colsample_bytree=0.7, subsample=0.6; total time=  15.0s\n",
      "[CV] END ................colsample_bytree=0.7, subsample=0.6; total time=  14.8s\n",
      "[CV] END ................colsample_bytree=0.7, subsample=0.6; total time=  12.9s\n",
      "[CV] END ................colsample_bytree=0.7, subsample=0.6; total time=  18.7s\n",
      "[CV] END ................colsample_bytree=0.7, subsample=0.6; total time=  18.0s\n",
      "[CV] END ................colsample_bytree=0.7, subsample=0.7; total time=  12.4s\n",
      "[CV] END ................colsample_bytree=0.7, subsample=0.7; total time=  14.3s\n",
      "[CV] END ................colsample_bytree=0.7, subsample=0.7; total time=  12.9s\n",
      "[CV] END ................colsample_bytree=0.7, subsample=0.7; total time=  14.7s\n",
      "[CV] END ................colsample_bytree=0.7, subsample=0.7; total time=  16.7s\n",
      "[CV] END ................colsample_bytree=0.7, subsample=0.8; total time=  18.4s\n",
      "[CV] END ................colsample_bytree=0.7, subsample=0.8; total time=  15.6s\n",
      "[CV] END ................colsample_bytree=0.7, subsample=0.8; total time=  13.3s\n",
      "[CV] END ................colsample_bytree=0.7, subsample=0.8; total time=  11.9s\n",
      "[CV] END ................colsample_bytree=0.7, subsample=0.8; total time=  12.1s\n",
      "[CV] END ................colsample_bytree=0.7, subsample=0.9; total time=  11.4s\n",
      "[CV] END ................colsample_bytree=0.7, subsample=0.9; total time=  11.5s\n",
      "[CV] END ................colsample_bytree=0.7, subsample=0.9; total time=  20.0s\n",
      "[CV] END ................colsample_bytree=0.7, subsample=0.9; total time=  14.3s\n",
      "[CV] END ................colsample_bytree=0.7, subsample=0.9; total time=  12.0s\n",
      "[CV] END ................colsample_bytree=0.8, subsample=0.5; total time=  13.5s\n",
      "[CV] END ................colsample_bytree=0.8, subsample=0.5; total time=  14.8s\n",
      "[CV] END ................colsample_bytree=0.8, subsample=0.5; total time=  13.8s\n",
      "[CV] END ................colsample_bytree=0.8, subsample=0.5; total time=  16.7s\n",
      "[CV] END ................colsample_bytree=0.8, subsample=0.5; total time=  15.3s\n",
      "[CV] END ................colsample_bytree=0.8, subsample=0.6; total time=  13.6s\n",
      "[CV] END ................colsample_bytree=0.8, subsample=0.6; total time=  15.8s\n",
      "[CV] END ................colsample_bytree=0.8, subsample=0.6; total time=  15.1s\n",
      "[CV] END ................colsample_bytree=0.8, subsample=0.6; total time=  16.2s\n",
      "[CV] END ................colsample_bytree=0.8, subsample=0.6; total time=  13.1s\n",
      "[CV] END ................colsample_bytree=0.8, subsample=0.7; total time=  13.6s\n",
      "[CV] END ................colsample_bytree=0.8, subsample=0.7; total time=  14.7s\n",
      "[CV] END ................colsample_bytree=0.8, subsample=0.7; total time=  12.6s\n",
      "[CV] END ................colsample_bytree=0.8, subsample=0.7; total time=  12.6s\n",
      "[CV] END ................colsample_bytree=0.8, subsample=0.7; total time=  13.0s\n",
      "[CV] END ................colsample_bytree=0.8, subsample=0.8; total time=  14.4s\n",
      "[CV] END ................colsample_bytree=0.8, subsample=0.8; total time=  16.6s\n",
      "[CV] END ................colsample_bytree=0.8, subsample=0.8; total time=  12.4s\n",
      "[CV] END ................colsample_bytree=0.8, subsample=0.8; total time=  12.5s\n",
      "[CV] END ................colsample_bytree=0.8, subsample=0.8; total time=  12.3s\n",
      "[CV] END ................colsample_bytree=0.8, subsample=0.9; total time=  13.1s\n",
      "[CV] END ................colsample_bytree=0.8, subsample=0.9; total time=  12.7s\n",
      "[CV] END ................colsample_bytree=0.8, subsample=0.9; total time=  12.8s\n",
      "[CV] END ................colsample_bytree=0.8, subsample=0.9; total time=  16.2s\n",
      "[CV] END ................colsample_bytree=0.8, subsample=0.9; total time=  16.1s\n",
      "[CV] END ................colsample_bytree=0.9, subsample=0.5; total time=  28.0s\n",
      "[CV] END ................colsample_bytree=0.9, subsample=0.5; total time=  20.2s\n",
      "[CV] END ................colsample_bytree=0.9, subsample=0.5; total time=  23.1s\n",
      "[CV] END ................colsample_bytree=0.9, subsample=0.5; total time=  25.7s\n",
      "[CV] END ................colsample_bytree=0.9, subsample=0.5; total time=  16.8s\n",
      "[CV] END ................colsample_bytree=0.9, subsample=0.6; total time=  18.2s\n",
      "[CV] END ................colsample_bytree=0.9, subsample=0.6; total time=  16.8s\n",
      "[CV] END ................colsample_bytree=0.9, subsample=0.6; total time=  16.0s\n",
      "[CV] END ................colsample_bytree=0.9, subsample=0.6; total time=  17.9s\n",
      "[CV] END ................colsample_bytree=0.9, subsample=0.6; total time=  14.5s\n",
      "[CV] END ................colsample_bytree=0.9, subsample=0.7; total time=  13.9s\n",
      "[CV] END ................colsample_bytree=0.9, subsample=0.7; total time=  13.9s\n",
      "[CV] END ................colsample_bytree=0.9, subsample=0.7; total time=  16.5s\n",
      "[CV] END ................colsample_bytree=0.9, subsample=0.7; total time=  14.8s\n",
      "[CV] END ................colsample_bytree=0.9, subsample=0.7; total time=  14.7s\n",
      "[CV] END ................colsample_bytree=0.9, subsample=0.8; total time=  15.0s\n",
      "[CV] END ................colsample_bytree=0.9, subsample=0.8; total time=  20.8s\n",
      "[CV] END ................colsample_bytree=0.9, subsample=0.8; total time=  18.9s\n",
      "[CV] END ................colsample_bytree=0.9, subsample=0.8; total time=  18.6s\n",
      "[CV] END ................colsample_bytree=0.9, subsample=0.8; total time=  18.6s\n",
      "[CV] END ................colsample_bytree=0.9, subsample=0.9; total time=  18.1s\n",
      "[CV] END ................colsample_bytree=0.9, subsample=0.9; total time=  21.4s\n",
      "[CV] END ................colsample_bytree=0.9, subsample=0.9; total time=  18.8s\n",
      "[CV] END ................colsample_bytree=0.9, subsample=0.9; total time=  19.0s\n",
      "[CV] END ................colsample_bytree=0.9, subsample=0.9; total time=  19.2s\n"
     ]
    },
    {
     "data": {
      "text/plain": [
       "GridSearchCV(cv=5,\n",
       "             estimator=XGBClassifier(base_score=None, booster=None,\n",
       "                                     callbacks=None, colsample_bylevel=None,\n",
       "                                     colsample_bynode=None,\n",
       "                                     colsample_bytree=None,\n",
       "                                     early_stopping_rounds=None,\n",
       "                                     enable_categorical=False, eval_metric=None,\n",
       "                                     gamma=0.0, gpu_id=None, grow_policy=None,\n",
       "                                     importance_type=None,\n",
       "                                     interaction_constraints=None,\n",
       "                                     learning_rate=None, max_bin=None,\n",
       "                                     max_cat...\n",
       "                                     max_leaves=None, min_child_weight=3,\n",
       "                                     missing=nan, monotone_constraints=None,\n",
       "                                     n_estimators=100, n_jobs=None,\n",
       "                                     num_parallel_tree=None, predictor=None,\n",
       "                                     random_state=None, reg_alpha=None,\n",
       "                                     reg_lambda=None, ...),\n",
       "             param_grid={'colsample_bytree': [0.5, 0.6, 0.7, 0.8, 0.9],\n",
       "                         'subsample': [0.5, 0.6, 0.7, 0.8, 0.9]},\n",
       "             refit='f1',\n",
       "             scoring=['accuracy', 'precision', 'recall', 'f1', 'roc_auc'],\n",
       "             verbose=2)"
      ]
     },
     "execution_count": 28,
     "metadata": {},
     "output_type": "execute_result"
    }
   ],
   "source": [
    "xgb_grid3 = GridSearchCV(\n",
    "    XGBClassifier(scale_pos_weight=optimal_scale_pos_weight, max_depth=optimal_max_depth, min_child_weight=optimal_min_child_weight, gamma=optimal_gamma),\n",
    "    {'subsample': [i / 10 for i in range(5, 10)], 'colsample_bytree': [i / 10 for i in range(5, 10)]},\n",
    "    cv=5,\n",
    "    scoring=scoring,\n",
    "    refit='f1',\n",
    "    verbose=2\n",
    ")\n",
    "\n",
    "xgb_grid3.fit(X_train, y_train)"
   ]
  },
  {
   "cell_type": "code",
   "execution_count": 31,
   "metadata": {},
   "outputs": [
    {
     "name": "stdout",
     "output_type": "stream",
     "text": [
      "{'colsample_bytree': 0.8, 'subsample': 0.9}\n",
      "0.34768505068007693\n",
      "mean_test_accuracy     0.752517\n",
      "mean_test_precision    0.224144\n",
      "mean_test_recall       0.774666\n",
      "mean_test_f1           0.347685\n",
      "mean_test_roc_auc      0.838594\n",
      "Name: 19, dtype: object\n"
     ]
    }
   ],
   "source": [
    "print(xgb_grid3.best_params_)\n",
    "print(xgb_grid3.best_score_)\n",
    "xgb_grid_result_df3 = pd.DataFrame(xgb_grid3.cv_results_)\n",
    "print(xgb_grid_result_df3.loc[xgb_grid3.best_index_, ['mean_test_accuracy', 'mean_test_precision', 'mean_test_recall', 'mean_test_f1', 'mean_test_roc_auc']])\n",
    "optimal_subsample = xgb_grid3.best_params_['subsample']\n",
    "optimal_colsample_bytree = xgb_grid3.best_params_['colsample_bytree']"
   ]
  },
  {
   "cell_type": "markdown",
   "metadata": {},
   "source": [
    "Next, fine-tune parameters reg_alpha."
   ]
  },
  {
   "cell_type": "code",
   "execution_count": 35,
   "metadata": {},
   "outputs": [
    {
     "name": "stdout",
     "output_type": "stream",
     "text": [
      "Fitting 5 folds for each of 5 candidates, totalling 25 fits\n",
      "[CV] END ........................................reg_alpha=0; total time=  18.3s\n",
      "[CV] END ........................................reg_alpha=0; total time=  18.2s\n",
      "[CV] END ........................................reg_alpha=0; total time=  20.6s\n",
      "[CV] END ........................................reg_alpha=0; total time=  18.7s\n",
      "[CV] END ........................................reg_alpha=0; total time=  18.2s\n",
      "[CV] END ...................................reg_alpha=0.0001; total time=  18.4s\n",
      "[CV] END ...................................reg_alpha=0.0001; total time=  18.6s\n",
      "[CV] END ...................................reg_alpha=0.0001; total time=  18.6s\n",
      "[CV] END ...................................reg_alpha=0.0001; total time=  18.7s\n",
      "[CV] END ...................................reg_alpha=0.0001; total time=  18.5s\n",
      "[CV] END .....................................reg_alpha=0.01; total time=  18.3s\n",
      "[CV] END .....................................reg_alpha=0.01; total time=  18.5s\n",
      "[CV] END .....................................reg_alpha=0.01; total time=  18.3s\n",
      "[CV] END .....................................reg_alpha=0.01; total time=  17.8s\n",
      "[CV] END .....................................reg_alpha=0.01; total time=  17.9s\n",
      "[CV] END ........................................reg_alpha=1; total time=  18.1s\n",
      "[CV] END ........................................reg_alpha=1; total time=  18.2s\n",
      "[CV] END ........................................reg_alpha=1; total time=  18.6s\n",
      "[CV] END ........................................reg_alpha=1; total time=  18.2s\n",
      "[CV] END ........................................reg_alpha=1; total time=  18.1s\n",
      "[CV] END ......................................reg_alpha=100; total time=  18.0s\n",
      "[CV] END ......................................reg_alpha=100; total time=  18.3s\n",
      "[CV] END ......................................reg_alpha=100; total time=  18.3s\n",
      "[CV] END ......................................reg_alpha=100; total time=  18.1s\n",
      "[CV] END ......................................reg_alpha=100; total time=  18.2s\n"
     ]
    },
    {
     "data": {
      "text/plain": [
       "GridSearchCV(cv=5,\n",
       "             estimator=XGBClassifier(base_score=None, booster=None,\n",
       "                                     callbacks=None, colsample_bylevel=None,\n",
       "                                     colsample_bynode=None,\n",
       "                                     colsample_bytree=0.8,\n",
       "                                     early_stopping_rounds=None,\n",
       "                                     enable_categorical=False, eval_metric=None,\n",
       "                                     gamma=0.0, gpu_id=None, grow_policy=None,\n",
       "                                     importance_type=None,\n",
       "                                     interaction_constraints=None,\n",
       "                                     learning_rate=None, max_bin=None,\n",
       "                                     max_cat_...\n",
       "                                     max_delta_step=None, max_depth=5,\n",
       "                                     max_leaves=None, min_child_weight=3,\n",
       "                                     missing=nan, monotone_constraints=None,\n",
       "                                     n_estimators=100, n_jobs=None,\n",
       "                                     num_parallel_tree=None, predictor=None,\n",
       "                                     random_state=None, reg_alpha=None,\n",
       "                                     reg_lambda=None, ...),\n",
       "             param_grid={'reg_alpha': [0, 0.0001, 0.01, 1, 100]}, refit='f1',\n",
       "             scoring=['accuracy', 'precision', 'recall', 'f1', 'roc_auc'],\n",
       "             verbose=2)"
      ]
     },
     "execution_count": 35,
     "metadata": {},
     "output_type": "execute_result"
    }
   ],
   "source": [
    "xgb_grid4 = GridSearchCV(\n",
    "    XGBClassifier(scale_pos_weight=optimal_scale_pos_weight, max_depth=optimal_max_depth, min_child_weight=optimal_min_child_weight, gamma=optimal_gamma, subsample=optimal_subsample, colsample_bytree=optimal_colsample_bytree),\n",
    "    {'reg_alpha': [0, 0.0001, 0.01, 1, 100]},\n",
    "    cv=5,\n",
    "    scoring=scoring,\n",
    "    refit='f1',\n",
    "    verbose=2\n",
    ")\n",
    "\n",
    "xgb_grid4.fit(X_train, y_train)"
   ]
  },
  {
   "cell_type": "code",
   "execution_count": 36,
   "metadata": {},
   "outputs": [
    {
     "name": "stdout",
     "output_type": "stream",
     "text": [
      "{'reg_alpha': 0}\n",
      "0.34768505068007693\n",
      "mean_test_accuracy     0.752517\n",
      "mean_test_precision    0.224144\n",
      "mean_test_recall       0.774666\n",
      "mean_test_f1           0.347685\n",
      "mean_test_roc_auc      0.838594\n",
      "Name: 0, dtype: object\n"
     ]
    }
   ],
   "source": [
    "print(xgb_grid4.best_params_)\n",
    "print(xgb_grid4.best_score_)\n",
    "xgb_grid_result_df4 = pd.DataFrame(xgb_grid4.cv_results_)\n",
    "print(xgb_grid_result_df4.loc[xgb_grid4.best_index_, ['mean_test_accuracy', 'mean_test_precision', 'mean_test_recall', 'mean_test_f1', 'mean_test_roc_auc']])\n",
    "optimal_alpha = xgb_grid4.best_params_['reg_alpha']"
   ]
  },
  {
   "cell_type": "markdown",
   "metadata": {},
   "source": [
    "Finally, we increase the number of trees (100 to 1000) and decrease the learning rate (0.1 to 0.01)."
   ]
  },
  {
   "cell_type": "code",
   "execution_count": 37,
   "metadata": {},
   "outputs": [
    {
     "data": {
      "text/plain": [
       "XGBClassifier(base_score=0.5, booster='gbtree', callbacks=None,\n",
       "              colsample_bylevel=1, colsample_bynode=1, colsample_bytree=0.8,\n",
       "              early_stopping_rounds=None, enable_categorical=False,\n",
       "              eval_metric=None, gamma=0.0, gpu_id=-1, grow_policy='depthwise',\n",
       "              importance_type=None, interaction_constraints='',\n",
       "              learning_rate=0.01, max_bin=256, max_cat_to_onehot=4,\n",
       "              max_delta_step=0, max_depth=5, max_leaves=0, min_child_weight=3,\n",
       "              missing=nan, monotone_constraints='()', n_estimators=1000,\n",
       "              n_jobs=0, num_parallel_tree=1, predictor='auto', random_state=0,\n",
       "              reg_alpha=0, reg_lambda=1, ...)"
      ]
     },
     "execution_count": 37,
     "metadata": {},
     "output_type": "execute_result"
    }
   ],
   "source": [
    "final_xgb_clf = XGBClassifier(\n",
    "        n_estimators=1000,\n",
    "        learning_rate=0.01,\n",
    "        scale_pos_weight=optimal_scale_pos_weight,\n",
    "        max_depth=optimal_max_depth,\n",
    "        min_child_weight=optimal_min_child_weight,\n",
    "        gamma=optimal_gamma,\n",
    "        subsample=optimal_subsample,\n",
    "        colsample_bytree=optimal_colsample_bytree,\n",
    "        reg_alpha=optimal_alpha\n",
    ")\n",
    "\n",
    "final_xgb_clf.fit(X_train, y_train)"
   ]
  },
  {
   "cell_type": "markdown",
   "metadata": {},
   "source": [
    "Next, let's train a weighted Logistic Regression model."
   ]
  },
  {
   "cell_type": "code",
   "execution_count": 9,
   "metadata": {},
   "outputs": [
    {
     "name": "stdout",
     "output_type": "stream",
     "text": [
      "Fitting 5 folds for each of 36 candidates, totalling 180 fits\n"
     ]
    },
    {
     "data": {
      "text/plain": [
       "GridSearchCV(cv=5, estimator=LogisticRegression(solver='liblinear'),\n",
       "             param_grid={'C': [0.001, 0.01, 0.1, 1, 10, 100],\n",
       "                         'class_weight': [{0: 1, 1: 1},\n",
       "                                          {0: 1, 1: 10.745833524631559},\n",
       "                                          {0: 1, 1: 107.45833524631558}],\n",
       "                         'penalty': ['l1', 'l2']},\n",
       "             refit='f1',\n",
       "             scoring=['accuracy', 'precision', 'recall', 'f1', 'roc_auc'],\n",
       "             verbose=1)"
      ]
     },
     "execution_count": 9,
     "metadata": {},
     "output_type": "execute_result"
    }
   ],
   "source": [
    "from sklearn.linear_model import LogisticRegression\n",
    "from sklearn.model_selection import GridSearchCV\n",
    "scoring = ['accuracy', 'precision', 'recall', 'f1', 'roc_auc']\n",
    "\n",
    "lr_grid = GridSearchCV(\n",
    "    LogisticRegression(solver='liblinear'),\n",
    "    {'C': [0.001, 0.01, 0.1, 1, 10, 100],\n",
    "    'class_weight': [{0:1, 1:1}, {0: 1, 1: scale_pos_weight}, {0:1, 1: scale_pos_weight * 10}],\n",
    "    'penalty': ['l1', 'l2']},\n",
    "    cv=5, scoring=scoring,\n",
    "    refit='f1'0,\n",
    "    verbose=1\n",
    "    )\n",
    "\n",
    "lr_grid.fit(X_train, y_train)"
   ]
  },
  {
   "cell_type": "code",
   "execution_count": 22,
   "metadata": {},
   "outputs": [
    {
     "name": "stdout",
     "output_type": "stream",
     "text": [
      "{'C': 0.001, 'class_weight': {0: 1, 1: 10.745833524631559}, 'penalty': 'l1'}\n",
      "0.350163674973566\n",
      "mean_test_accuracy     0.755171\n",
      "mean_test_precision    0.226201\n",
      "mean_test_recall       0.774758\n",
      "mean_test_f1           0.350164\n",
      "mean_test_roc_auc      0.840916\n",
      "Name: 2, dtype: object\n"
     ]
    }
   ],
   "source": [
    "print(lr_grid.best_params_)\n",
    "print(lr_grid.best_score_)\n",
    "lr_grid_df = pd.DataFrame(lr_grid.cv_results_)\n",
    "print(lr_grid_df.loc[lr_grid.best_index_, ['mean_test_accuracy', 'mean_test_precision', 'mean_test_recall', 'mean_test_f1', 'mean_test_roc_auc']])\n",
    "optimal_C = lr_grid.best_params_['C']\n",
    "optimal_class_weight = lr_grid.best_params_['class_weight']\n",
    "optimal_penalty = lr_grid.best_params_['penalty']"
   ]
  },
  {
   "cell_type": "markdown",
   "metadata": {},
   "source": [
    "Grid search for BalancedBaggingClassifier with 1000 estimators takes a long time. Thus I will use my intuition and set max_features and max_samples to 0.8."
   ]
  },
  {
   "cell_type": "code",
   "execution_count": 35,
   "metadata": {},
   "outputs": [],
   "source": [
    "from imblearn.ensemble import BalancedBaggingClassifier\n",
    "\n",
    "bbc = BalancedBaggingClassifier(\n",
    "        base_estimator=LogisticRegression(random_state=42),\n",
    "        n_estimators=100,\n",
    "        max_features=0.8,\n",
    "        max_samples=0.8,\n",
    "        random_state=42\n",
    "    )"
   ]
  },
  {
   "cell_type": "code",
   "execution_count": 36,
   "metadata": {},
   "outputs": [
    {
     "data": {
      "text/plain": [
       "BalancedBaggingClassifier(base_estimator=LogisticRegression(random_state=42),\n",
       "                          max_features=0.8, max_samples=0.8, n_estimators=100,\n",
       "                          random_state=42)"
      ]
     },
     "execution_count": 36,
     "metadata": {},
     "output_type": "execute_result"
    }
   ],
   "source": [
    "bbc.fit(X_train, y_train)"
   ]
  },
  {
   "cell_type": "markdown",
   "metadata": {},
   "source": [
    "Finally, let's put the 3 models together and train the soft VotingClassifier."
   ]
  },
  {
   "cell_type": "code",
   "execution_count": 39,
   "metadata": {},
   "outputs": [
    {
     "data": {
      "text/plain": [
       "VotingClassifier(estimators=[('xgb',\n",
       "                              XGBClassifier(base_score=0.5, booster='gbtree',\n",
       "                                            callbacks=None, colsample_bylevel=1,\n",
       "                                            colsample_bynode=1,\n",
       "                                            colsample_bytree=0.8,\n",
       "                                            early_stopping_rounds=None,\n",
       "                                            enable_categorical=False,\n",
       "                                            eval_metric=None, gamma=0.0,\n",
       "                                            gpu_id=-1, grow_policy='depthwise',\n",
       "                                            importance_type=None,\n",
       "                                            interaction_constraints='',\n",
       "                                            learning_rate=0.01, max_bin=256,\n",
       "                                            m...\n",
       "                                            predictor='auto', random_state=0,\n",
       "                                            reg_alpha=0, reg_lambda=1, ...)),\n",
       "                             ('lr',\n",
       "                              LogisticRegression(C=0.001,\n",
       "                                                 class_weight={0: 1,\n",
       "                                                               1: 10.745833524631559},\n",
       "                                                 penalty='l1',\n",
       "                                                 solver='liblinear')),\n",
       "                             ('bbc',\n",
       "                              BalancedBaggingClassifier(base_estimator=LogisticRegression(random_state=42),\n",
       "                                                        max_features=0.8,\n",
       "                                                        max_samples=0.8,\n",
       "                                                        n_estimators=100,\n",
       "                                                        random_state=42))],\n",
       "                 voting='soft', weights=[1, 1, 1])"
      ]
     },
     "execution_count": 39,
     "metadata": {},
     "output_type": "execute_result"
    }
   ],
   "source": [
    "from sklearn.ensemble import VotingClassifier\n",
    "\n",
    "voting_clf = VotingClassifier(\n",
    "    estimators=[('xgb', final_xgb_clf), ('lr', lr_grid.best_estimator_), ('bbc', bbc)],\n",
    "    voting='soft',\n",
    "    weights=[1, 1, 1]\n",
    ")\n",
    "\n",
    "voting_clf.fit(X_train, y_train)"
   ]
  },
  {
   "cell_type": "code",
   "execution_count": 42,
   "metadata": {},
   "outputs": [
    {
     "name": "stdout",
     "output_type": "stream",
     "text": [
      "              precision    recall  f1-score   support\n",
      "\n",
      "           0       0.95      0.88      0.92     58367\n",
      "           1       0.31      0.55      0.39      5592\n",
      "\n",
      "    accuracy                           0.85     63959\n",
      "   macro avg       0.63      0.71      0.65     63959\n",
      "weighted avg       0.90      0.85      0.87     63959\n",
      "\n"
     ]
    }
   ],
   "source": [
    "y_pred = voting_clf.predict(X_test)\n",
    "print(classification_report(y_test, y_pred))"
   ]
  },
  {
   "cell_type": "code",
   "execution_count": 41,
   "metadata": {},
   "outputs": [],
   "source": [
    "dill.dump(voting_clf, open('voting_clf.pkl', 'wb'))"
   ]
  },
  {
   "cell_type": "code",
   "execution_count": 43,
   "metadata": {},
   "outputs": [],
   "source": [
    "# save all the models and results\n",
    "dill.dump_session('exploration_4.db')"
   ]
  }
 ],
 "metadata": {
  "interpreter": {
   "hash": "9518128f597d7b00dc14729602cfd87fb7b2cf75925976bcb0d0e328a830a12b"
  },
  "kernelspec": {
   "display_name": "Python 3.9.10 64-bit",
   "language": "python",
   "name": "python3"
  },
  "language_info": {
   "codemirror_mode": {
    "name": "ipython",
    "version": 3
   },
   "file_extension": ".py",
   "mimetype": "text/x-python",
   "name": "python",
   "nbconvert_exporter": "python",
   "pygments_lexer": "ipython3",
   "version": "3.9.10"
  },
  "orig_nbformat": 4
 },
 "nbformat": 4,
 "nbformat_minor": 2
}
