{
 "cells": [
  {
   "cell_type": "markdown",
   "metadata": {},
   "source": [
    "This is the 1st exploratory attempt. I will not do much preprocessing and use sklearn ml models' default parameters just to see how they perform."
   ]
  },
  {
   "cell_type": "code",
   "execution_count": 2,
   "metadata": {},
   "outputs": [],
   "source": [
    "import pandas as pd\n",
    "import matplotlib.pyplot as plt\n",
    "import dill"
   ]
  },
  {
   "cell_type": "code",
   "execution_count": 3,
   "metadata": {},
   "outputs": [],
   "source": [
    "data = pd.read_csv('heart_2020_cleaned.csv')"
   ]
  },
  {
   "cell_type": "code",
   "execution_count": 4,
   "metadata": {},
   "outputs": [
    {
     "data": {
      "text/html": [
       "<div>\n",
       "<style scoped>\n",
       "    .dataframe tbody tr th:only-of-type {\n",
       "        vertical-align: middle;\n",
       "    }\n",
       "\n",
       "    .dataframe tbody tr th {\n",
       "        vertical-align: top;\n",
       "    }\n",
       "\n",
       "    .dataframe thead th {\n",
       "        text-align: right;\n",
       "    }\n",
       "</style>\n",
       "<table border=\"1\" class=\"dataframe\">\n",
       "  <thead>\n",
       "    <tr style=\"text-align: right;\">\n",
       "      <th></th>\n",
       "      <th>HeartDisease</th>\n",
       "      <th>BMI</th>\n",
       "      <th>Smoking</th>\n",
       "      <th>AlcoholDrinking</th>\n",
       "      <th>Stroke</th>\n",
       "      <th>PhysicalHealth</th>\n",
       "      <th>MentalHealth</th>\n",
       "      <th>DiffWalking</th>\n",
       "      <th>Sex</th>\n",
       "      <th>AgeCategory</th>\n",
       "      <th>Race</th>\n",
       "      <th>Diabetic</th>\n",
       "      <th>PhysicalActivity</th>\n",
       "      <th>GenHealth</th>\n",
       "      <th>SleepTime</th>\n",
       "      <th>Asthma</th>\n",
       "      <th>KidneyDisease</th>\n",
       "      <th>SkinCancer</th>\n",
       "    </tr>\n",
       "  </thead>\n",
       "  <tbody>\n",
       "    <tr>\n",
       "      <th>0</th>\n",
       "      <td>No</td>\n",
       "      <td>16.60</td>\n",
       "      <td>Yes</td>\n",
       "      <td>No</td>\n",
       "      <td>No</td>\n",
       "      <td>3</td>\n",
       "      <td>30</td>\n",
       "      <td>No</td>\n",
       "      <td>Female</td>\n",
       "      <td>55-59</td>\n",
       "      <td>White</td>\n",
       "      <td>Yes</td>\n",
       "      <td>Yes</td>\n",
       "      <td>Very good</td>\n",
       "      <td>5</td>\n",
       "      <td>Yes</td>\n",
       "      <td>No</td>\n",
       "      <td>Yes</td>\n",
       "    </tr>\n",
       "    <tr>\n",
       "      <th>1</th>\n",
       "      <td>No</td>\n",
       "      <td>20.34</td>\n",
       "      <td>No</td>\n",
       "      <td>No</td>\n",
       "      <td>Yes</td>\n",
       "      <td>0</td>\n",
       "      <td>0</td>\n",
       "      <td>No</td>\n",
       "      <td>Female</td>\n",
       "      <td>80 or older</td>\n",
       "      <td>White</td>\n",
       "      <td>No</td>\n",
       "      <td>Yes</td>\n",
       "      <td>Very good</td>\n",
       "      <td>7</td>\n",
       "      <td>No</td>\n",
       "      <td>No</td>\n",
       "      <td>No</td>\n",
       "    </tr>\n",
       "    <tr>\n",
       "      <th>2</th>\n",
       "      <td>No</td>\n",
       "      <td>26.58</td>\n",
       "      <td>Yes</td>\n",
       "      <td>No</td>\n",
       "      <td>No</td>\n",
       "      <td>20</td>\n",
       "      <td>30</td>\n",
       "      <td>No</td>\n",
       "      <td>Male</td>\n",
       "      <td>65-69</td>\n",
       "      <td>White</td>\n",
       "      <td>Yes</td>\n",
       "      <td>Yes</td>\n",
       "      <td>Fair</td>\n",
       "      <td>8</td>\n",
       "      <td>Yes</td>\n",
       "      <td>No</td>\n",
       "      <td>No</td>\n",
       "    </tr>\n",
       "    <tr>\n",
       "      <th>3</th>\n",
       "      <td>No</td>\n",
       "      <td>24.21</td>\n",
       "      <td>No</td>\n",
       "      <td>No</td>\n",
       "      <td>No</td>\n",
       "      <td>0</td>\n",
       "      <td>0</td>\n",
       "      <td>No</td>\n",
       "      <td>Female</td>\n",
       "      <td>75-79</td>\n",
       "      <td>White</td>\n",
       "      <td>No</td>\n",
       "      <td>No</td>\n",
       "      <td>Good</td>\n",
       "      <td>6</td>\n",
       "      <td>No</td>\n",
       "      <td>No</td>\n",
       "      <td>Yes</td>\n",
       "    </tr>\n",
       "    <tr>\n",
       "      <th>4</th>\n",
       "      <td>No</td>\n",
       "      <td>23.71</td>\n",
       "      <td>No</td>\n",
       "      <td>No</td>\n",
       "      <td>No</td>\n",
       "      <td>28</td>\n",
       "      <td>0</td>\n",
       "      <td>Yes</td>\n",
       "      <td>Female</td>\n",
       "      <td>40-44</td>\n",
       "      <td>White</td>\n",
       "      <td>No</td>\n",
       "      <td>Yes</td>\n",
       "      <td>Very good</td>\n",
       "      <td>8</td>\n",
       "      <td>No</td>\n",
       "      <td>No</td>\n",
       "      <td>No</td>\n",
       "    </tr>\n",
       "    <tr>\n",
       "      <th>5</th>\n",
       "      <td>Yes</td>\n",
       "      <td>28.87</td>\n",
       "      <td>Yes</td>\n",
       "      <td>No</td>\n",
       "      <td>No</td>\n",
       "      <td>6</td>\n",
       "      <td>0</td>\n",
       "      <td>Yes</td>\n",
       "      <td>Female</td>\n",
       "      <td>75-79</td>\n",
       "      <td>Black</td>\n",
       "      <td>No</td>\n",
       "      <td>No</td>\n",
       "      <td>Fair</td>\n",
       "      <td>12</td>\n",
       "      <td>No</td>\n",
       "      <td>No</td>\n",
       "      <td>No</td>\n",
       "    </tr>\n",
       "    <tr>\n",
       "      <th>6</th>\n",
       "      <td>No</td>\n",
       "      <td>21.63</td>\n",
       "      <td>No</td>\n",
       "      <td>No</td>\n",
       "      <td>No</td>\n",
       "      <td>15</td>\n",
       "      <td>0</td>\n",
       "      <td>No</td>\n",
       "      <td>Female</td>\n",
       "      <td>70-74</td>\n",
       "      <td>White</td>\n",
       "      <td>No</td>\n",
       "      <td>Yes</td>\n",
       "      <td>Fair</td>\n",
       "      <td>4</td>\n",
       "      <td>Yes</td>\n",
       "      <td>No</td>\n",
       "      <td>Yes</td>\n",
       "    </tr>\n",
       "    <tr>\n",
       "      <th>7</th>\n",
       "      <td>No</td>\n",
       "      <td>31.64</td>\n",
       "      <td>Yes</td>\n",
       "      <td>No</td>\n",
       "      <td>No</td>\n",
       "      <td>5</td>\n",
       "      <td>0</td>\n",
       "      <td>Yes</td>\n",
       "      <td>Female</td>\n",
       "      <td>80 or older</td>\n",
       "      <td>White</td>\n",
       "      <td>Yes</td>\n",
       "      <td>No</td>\n",
       "      <td>Good</td>\n",
       "      <td>9</td>\n",
       "      <td>Yes</td>\n",
       "      <td>No</td>\n",
       "      <td>No</td>\n",
       "    </tr>\n",
       "    <tr>\n",
       "      <th>8</th>\n",
       "      <td>No</td>\n",
       "      <td>26.45</td>\n",
       "      <td>No</td>\n",
       "      <td>No</td>\n",
       "      <td>No</td>\n",
       "      <td>0</td>\n",
       "      <td>0</td>\n",
       "      <td>No</td>\n",
       "      <td>Female</td>\n",
       "      <td>80 or older</td>\n",
       "      <td>White</td>\n",
       "      <td>No, borderline diabetes</td>\n",
       "      <td>No</td>\n",
       "      <td>Fair</td>\n",
       "      <td>5</td>\n",
       "      <td>No</td>\n",
       "      <td>Yes</td>\n",
       "      <td>No</td>\n",
       "    </tr>\n",
       "    <tr>\n",
       "      <th>9</th>\n",
       "      <td>No</td>\n",
       "      <td>40.69</td>\n",
       "      <td>No</td>\n",
       "      <td>No</td>\n",
       "      <td>No</td>\n",
       "      <td>0</td>\n",
       "      <td>0</td>\n",
       "      <td>Yes</td>\n",
       "      <td>Male</td>\n",
       "      <td>65-69</td>\n",
       "      <td>White</td>\n",
       "      <td>No</td>\n",
       "      <td>Yes</td>\n",
       "      <td>Good</td>\n",
       "      <td>10</td>\n",
       "      <td>No</td>\n",
       "      <td>No</td>\n",
       "      <td>No</td>\n",
       "    </tr>\n",
       "  </tbody>\n",
       "</table>\n",
       "</div>"
      ],
      "text/plain": [
       "  HeartDisease    BMI Smoking AlcoholDrinking Stroke  PhysicalHealth  \\\n",
       "0           No  16.60     Yes              No     No               3   \n",
       "1           No  20.34      No              No    Yes               0   \n",
       "2           No  26.58     Yes              No     No              20   \n",
       "3           No  24.21      No              No     No               0   \n",
       "4           No  23.71      No              No     No              28   \n",
       "5          Yes  28.87     Yes              No     No               6   \n",
       "6           No  21.63      No              No     No              15   \n",
       "7           No  31.64     Yes              No     No               5   \n",
       "8           No  26.45      No              No     No               0   \n",
       "9           No  40.69      No              No     No               0   \n",
       "\n",
       "   MentalHealth DiffWalking     Sex  AgeCategory   Race  \\\n",
       "0            30          No  Female        55-59  White   \n",
       "1             0          No  Female  80 or older  White   \n",
       "2            30          No    Male        65-69  White   \n",
       "3             0          No  Female        75-79  White   \n",
       "4             0         Yes  Female        40-44  White   \n",
       "5             0         Yes  Female        75-79  Black   \n",
       "6             0          No  Female        70-74  White   \n",
       "7             0         Yes  Female  80 or older  White   \n",
       "8             0          No  Female  80 or older  White   \n",
       "9             0         Yes    Male        65-69  White   \n",
       "\n",
       "                  Diabetic PhysicalActivity  GenHealth  SleepTime Asthma  \\\n",
       "0                      Yes              Yes  Very good          5    Yes   \n",
       "1                       No              Yes  Very good          7     No   \n",
       "2                      Yes              Yes       Fair          8    Yes   \n",
       "3                       No               No       Good          6     No   \n",
       "4                       No              Yes  Very good          8     No   \n",
       "5                       No               No       Fair         12     No   \n",
       "6                       No              Yes       Fair          4    Yes   \n",
       "7                      Yes               No       Good          9    Yes   \n",
       "8  No, borderline diabetes               No       Fair          5     No   \n",
       "9                       No              Yes       Good         10     No   \n",
       "\n",
       "  KidneyDisease SkinCancer  \n",
       "0            No        Yes  \n",
       "1            No         No  \n",
       "2            No         No  \n",
       "3            No        Yes  \n",
       "4            No         No  \n",
       "5            No         No  \n",
       "6            No        Yes  \n",
       "7            No         No  \n",
       "8           Yes         No  \n",
       "9            No         No  "
      ]
     },
     "execution_count": 4,
     "metadata": {},
     "output_type": "execute_result"
    }
   ],
   "source": [
    "data.head(10)"
   ]
  },
  {
   "cell_type": "code",
   "execution_count": 10,
   "metadata": {},
   "outputs": [
    {
     "name": "stdout",
     "output_type": "stream",
     "text": [
      "<class 'pandas.core.frame.DataFrame'>\n",
      "RangeIndex: 319795 entries, 0 to 319794\n",
      "Data columns (total 18 columns):\n",
      " #   Column            Non-Null Count   Dtype  \n",
      "---  ------            --------------   -----  \n",
      " 0   HeartDisease      319795 non-null  object \n",
      " 1   BMI               319795 non-null  float64\n",
      " 2   Smoking           319795 non-null  object \n",
      " 3   AlcoholDrinking   319795 non-null  object \n",
      " 4   Stroke            319795 non-null  object \n",
      " 5   PhysicalHealth    319795 non-null  int64  \n",
      " 6   MentalHealth      319795 non-null  int64  \n",
      " 7   DiffWalking       319795 non-null  object \n",
      " 8   Sex               319795 non-null  object \n",
      " 9   AgeCategory       319795 non-null  object \n",
      " 10  Race              319795 non-null  object \n",
      " 11  Diabetic          319795 non-null  object \n",
      " 12  PhysicalActivity  319795 non-null  object \n",
      " 13  GenHealth         319795 non-null  object \n",
      " 14  SleepTime         319795 non-null  int64  \n",
      " 15  Asthma            319795 non-null  object \n",
      " 16  KidneyDisease     319795 non-null  object \n",
      " 17  SkinCancer        319795 non-null  object \n",
      "dtypes: float64(1), int64(3), object(14)\n",
      "memory usage: 43.9+ MB\n"
     ]
    }
   ],
   "source": [
    "data.info()"
   ]
  },
  {
   "cell_type": "code",
   "execution_count": 7,
   "metadata": {},
   "outputs": [
    {
     "data": {
      "text/plain": [
       "False"
      ]
     },
     "execution_count": 7,
     "metadata": {},
     "output_type": "execute_result"
    }
   ],
   "source": [
    "data.isnull().values.any()"
   ]
  },
  {
   "cell_type": "markdown",
   "metadata": {},
   "source": [
    "no missing values, great!"
   ]
  },
  {
   "cell_type": "code",
   "execution_count": 8,
   "metadata": {},
   "outputs": [
    {
     "name": "stdout",
     "output_type": "stream",
     "text": [
      "                 BMI  PhysicalHealth   MentalHealth      SleepTime\n",
      "count  319795.000000    319795.00000  319795.000000  319795.000000\n",
      "mean       28.325399         3.37171       3.898366       7.097075\n",
      "std         6.356100         7.95085       7.955235       1.436007\n",
      "min        12.020000         0.00000       0.000000       1.000000\n",
      "25%        24.030000         0.00000       0.000000       6.000000\n",
      "50%        27.340000         0.00000       0.000000       7.000000\n",
      "75%        31.420000         2.00000       3.000000       8.000000\n",
      "max        94.850000        30.00000      30.000000      24.000000 \n",
      "median BMI:  27.34\n"
     ]
    }
   ],
   "source": [
    "print(\n",
    "    data.describe(),\n",
    "    '\\nmedian BMI: ', data.BMI.median(),\n",
    ")"
   ]
  },
  {
   "cell_type": "markdown",
   "metadata": {},
   "source": [
    "According to [CDC](https://www.cdc.gov/healthyweight/assessing/index.html#:~:text=If%20your%20BMI%20is%2018.5,falls%20within%20the%20obese%20range.): \"If your BMI is 18.5 to 24.9, it falls within the normal or Healthy Weight range. If your BMI is 25.0 to 29.9, it falls within the overweight range. If your BMI is 30.0 or higher, it falls within the obese range. So both the mean and median BMI values of the samples are slightly above the healthy weight range.\""
   ]
  },
  {
   "cell_type": "code",
   "execution_count": 9,
   "metadata": {},
   "outputs": [
    {
     "data": {
      "image/png": "[encoded data removed]",
      "text/plain": [
       "<Figure size 432x288 with 1 Axes>"
      ]
     },
     "metadata": {
      "needs_background": "light"
     },
     "output_type": "display_data"
    },
    {
     "data": {
      "image/png": "[encoded data removed]",
      "text/plain": [
       "<Figure size 432x288 with 1 Axes>"
      ]
     },
     "metadata": {
      "needs_background": "light"
     },
     "output_type": "display_data"
    },
    {
     "data": {
      "image/png": "[encoded data removed]",
      "text/plain": [
       "<Figure size 432x288 with 1 Axes>"
      ]
     },
     "metadata": {
      "needs_background": "light"
     },
     "output_type": "display_data"
    },
    {
     "data": {
      "image/png": "[encoded data removed]",
      "text/plain": [
       "<Figure size 432x288 with 1 Axes>"
      ]
     },
     "metadata": {
      "needs_background": "light"
     },
     "output_type": "display_data"
    },
    {
     "data": {
      "image/png": "[encoded data removed]",
      "text/plain": [
       "<Figure size 432x288 with 1 Axes>"
      ]
     },
     "metadata": {
      "needs_background": "light"
     },
     "output_type": "display_data"
    },
    {
     "data": {
      "image/png": "[encoded data removed]",
      "text/plain": [
       "<Figure size 432x288 with 1 Axes>"
      ]
     },
     "metadata": {
      "needs_background": "light"
     },
     "output_type": "display_data"
    },
    {
     "data": {
      "image/png": "[encoded data removed]",
      "text/plain": [
       "<Figure size 432x288 with 1 Axes>"
      ]
     },
     "metadata": {
      "needs_background": "light"
     },
     "output_type": "display_data"
    },
    {
     "data": {
      "image/png": "[encoded data removed]",
      "text/plain": [
       "<Figure size 432x288 with 1 Axes>"
      ]
     },
     "metadata": {
      "needs_background": "light"
     },
     "output_type": "display_data"
    },
    {
     "data": {
      "image/png": "[encoded data removed]",
      "text/plain": [
       "<Figure size 432x288 with 1 Axes>"
      ]
     },
     "metadata": {
      "needs_background": "light"
     },
     "output_type": "display_data"
    },
    {
     "data": {
      "image/png": "[encoded data removed]",
      "text/plain": [
       "<Figure size 432x288 with 1 Axes>"
      ]
     },
     "metadata": {
      "needs_background": "light"
     },
     "output_type": "display_data"
    },
    {
     "data": {
      "image/png": "[encoded data removed]",
      "text/plain": [
       "<Figure size 432x288 with 1 Axes>"
      ]
     },
     "metadata": {
      "needs_background": "light"
     },
     "output_type": "display_data"
    },
    {
     "data": {
      "image/png": "[encoded data removed]",
      "text/plain": [
       "<Figure size 432x288 with 1 Axes>"
      ]
     },
     "metadata": {
      "needs_background": "light"
     },
     "output_type": "display_data"
    },
    {
     "data": {
      "image/png": "[encoded data removed]",
      "text/plain": [
       "<Figure size 432x288 with 1 Axes>"
      ]
     },
     "metadata": {
      "needs_background": "light"
     },
     "output_type": "display_data"
    },
    {
     "data": {
      "image/png": "[encoded data removed]",
      "text/plain": [
       "<Figure size 432x288 with 1 Axes>"
      ]
     },
     "metadata": {
      "needs_background": "light"
     },
     "output_type": "display_data"
    },
    {
     "data": {
      "image/png": "[encoded data removed]",
      "text/plain": [
       "<Figure size 432x288 with 1 Axes>"
      ]
     },
     "metadata": {
      "needs_background": "light"
     },
     "output_type": "display_data"
    }
   ],
   "source": [
    "for col in data.columns:\n",
    "    if data[col].dtype == 'object':\n",
    "        data[col].value_counts().plot(kind='bar')\n",
    "        plt.title(col)\n",
    "        plt.ylabel('count')\n",
    "        plt.show()\n",
    "    elif data[col].dtype == 'float64':\n",
    "        data[col].hist()\n",
    "        plt.title(col)\n",
    "        plt.show()"
   ]
  },
  {
   "cell_type": "markdown",
   "metadata": {},
   "source": [
    "By examining each bar graph above, it doesn't seem to be any outliers in the data."
   ]
  },
  {
   "cell_type": "code",
   "execution_count": 7,
   "metadata": {},
   "outputs": [
    {
     "data": {
      "text/plain": [
       "<AxesSubplot:ylabel='HeartDisease'>"
      ]
     },
     "execution_count": 7,
     "metadata": {},
     "output_type": "execute_result"
    },
    {
     "data": {
      "image/png": "[encoded data removed]",
      "text/plain": [
       "<Figure size 432x288 with 1 Axes>"
      ]
     },
     "metadata": {},
     "output_type": "display_data"
    }
   ],
   "source": [
    "data.HeartDisease.value_counts().plot(kind='pie', autopct='%1.1f%%')"
   ]
  },
  {
   "cell_type": "markdown",
   "metadata": {},
   "source": [
    "* Most categorical columns have binary values, but there are some with more than 2 values\n",
    "* \"Race\" column is unbalanced as \"Asian\" and \"American Indian\" are under represented\n",
    "* Most people reported to have 0 days of feeling not good physically and mentally -> most people are healthy\n",
    "* The 2nd most frequent group is 30. Which means the people that have days of feeling bad physically or mentally tend to feel bad most of the time. This makes sense with illnesses such as depression and chronic diseases. And day values between 2 and 29 are underrepresented\n",
    "* The \"YES\" value in columns with \"YES\" and \"NO\" values are usually underrepresented\n",
    "* The target column \"HeartDisease\" is also unbalanced. We can try upscaling/down scaling the target column to see if we can improve the model"
   ]
  },
  {
   "cell_type": "code",
   "execution_count": 5,
   "metadata": {},
   "outputs": [],
   "source": [
    "# one-hot encoding\n",
    "category_cols = [col for col in data.columns if data[col].dtype == 'object']\n",
    "data = pd.get_dummies(data=data, columns=category_cols, drop_first=True)"
   ]
  },
  {
   "cell_type": "code",
   "execution_count": 6,
   "metadata": {},
   "outputs": [],
   "source": [
    "# create test set\n",
    "from sklearn.model_selection import train_test_split\n",
    "\n",
    "X_train, X_test, y_train, y_test = train_test_split(data.drop('HeartDisease_Yes', axis=1), data['HeartDisease_Yes'], test_size=0.2, random_state=42)\n"
   ]
  },
  {
   "cell_type": "code",
   "execution_count": 13,
   "metadata": {},
   "outputs": [
    {
     "name": "stdout",
     "output_type": "stream",
     "text": [
      "HeartDisease_Yes                    1.000000\n",
      "DiffWalking_Yes                     0.202147\n",
      "Stroke_Yes                          0.194949\n",
      "Diabetic_Yes                        0.184924\n",
      "GenHealth_Poor                      0.175794\n",
      "PhysicalHealth                      0.171283\n",
      "GenHealth_Fair                      0.149501\n",
      "KidneyDisease_Yes                   0.145840\n",
      "AgeCategory_80 or older             0.142571\n",
      "Smoking_Yes                         0.107845\n",
      "AgeCategory_75-79                   0.098846\n",
      "SkinCancer_Yes                      0.093149\n",
      "AgeCategory_70-74                   0.081928\n",
      "Sex_Male                            0.072051\n",
      "BMI                                 0.052843\n",
      "AgeCategory_65-69                   0.043239\n",
      "Asthma_Yes                          0.040402\n",
      "Race_White                          0.039896\n",
      "GenHealth_Good                      0.037626\n",
      "MentalHealth                        0.027226\n",
      "Diabetic_No, borderline diabetes    0.017032\n",
      "AgeCategory_60-64                   0.015977\n",
      "SleepTime                           0.007824\n",
      "Race_Other                         -0.004813\n",
      "Race_Black                         -0.010345\n",
      "AgeCategory_55-59                  -0.012535\n",
      "Diabetic_Yes (during pregnancy)    -0.013452\n",
      "Race_Asian                         -0.029800\n",
      "AgeCategory_50-54                  -0.032431\n",
      "AlcoholDrinking_Yes                -0.032734\n",
      "Race_Hispanic                      -0.035139\n",
      "AgeCategory_45-49                  -0.049699\n",
      "AgeCategory_40-44                  -0.058973\n",
      "AgeCategory_25-29                  -0.065159\n",
      "AgeCategory_30-34                  -0.065968\n",
      "AgeCategory_35-39                  -0.067269\n",
      "PhysicalActivity_Yes               -0.100227\n",
      "GenHealth_Very good                -0.101481\n",
      "Name: HeartDisease_Yes, dtype: float64\n"
     ]
    }
   ],
   "source": [
    "corr_matrix = pd.concat([X_train, y_train], axis=1).corr()\n",
    "print(corr_matrix.HeartDisease_Yes.sort_values(ascending=False))"
   ]
  },
  {
   "cell_type": "code",
   "execution_count": 7,
   "metadata": {},
   "outputs": [],
   "source": [
    "from sklearn.preprocessing import StandardScaler\n",
    "\n",
    "std_scaler = StandardScaler()\n",
    "X_train = std_scaler.fit_transform(X_train)\n",
    "X_test = std_scaler.transform(X_test)"
   ]
  },
  {
   "cell_type": "markdown",
   "metadata": {},
   "source": [
    "Now let's fit the training set on various models."
   ]
  },
  {
   "cell_type": "code",
   "execution_count": 17,
   "metadata": {},
   "outputs": [],
   "source": [
    "from sklearn.model_selection import cross_validate\n",
    "\n",
    "def cross_validate_same_data_diff_model(models, X, y, cv=3, scoring=['accuracy', 'precision', 'recall', 'f1', 'roc_auc']):\n",
    "    scores_lst = []\n",
    "    for model in models:\n",
    "        scores = cross_validate(model, X, y, cv=cv, scoring=scoring, return_train_score=True)\n",
    "        scores_lst.append({k: round(v.mean(), 2) for k, v in scores.items()})\n",
    "        print(f'Finished cross-validation for {model.__class__.__name__}')\n",
    "    return pd.DataFrame(scores_lst, index=[model.__class__.__name__ for model in models])"
   ]
  },
  {
   "cell_type": "code",
   "execution_count": 20,
   "metadata": {},
   "outputs": [
    {
     "name": "stdout",
     "output_type": "stream",
     "text": [
      "Finished cross-validation for LogisticRegression\n"
     ]
    },
    {
     "name": "stderr",
     "output_type": "stream",
     "text": [
      "C:\\Users\\danie\\AppData\\Local\\Programs\\Python\\Python39\\lib\\site-packages\\sklearn\\svm\\_base.py:1206: ConvergenceWarning: Liblinear failed to converge, increase the number of iterations.\n",
      "  warnings.warn(\n",
      "C:\\Users\\danie\\AppData\\Local\\Programs\\Python\\Python39\\lib\\site-packages\\sklearn\\svm\\_base.py:1206: ConvergenceWarning: Liblinear failed to converge, increase the number of iterations.\n",
      "  warnings.warn(\n",
      "C:\\Users\\danie\\AppData\\Local\\Programs\\Python\\Python39\\lib\\site-packages\\sklearn\\svm\\_base.py:1206: ConvergenceWarning: Liblinear failed to converge, increase the number of iterations.\n",
      "  warnings.warn(\n"
     ]
    },
    {
     "name": "stdout",
     "output_type": "stream",
     "text": [
      "Finished cross-validation for LinearSVC\n",
      "Finished cross-validation for DecisionTreeClassifier\n",
      "Finished cross-validation for RandomForestClassifier\n",
      "Finished cross-validation for AdaBoostClassifier\n",
      "Finished cross-validation for GradientBoostingClassifier\n",
      "Finished cross-validation for XGBClassifier\n",
      "                            fit_time  score_time  test_accuracy  \\\n",
      "LogisticRegression              1.96        0.12           0.92   \n",
      "LinearSVC                      74.72        0.14           0.92   \n",
      "DecisionTreeClassifier          2.68        0.21           0.86   \n",
      "RandomForestClassifier         27.37        4.96           0.91   \n",
      "AdaBoostClassifier             10.80        1.90           0.92   \n",
      "GradientBoostingClassifier     45.05        0.38           0.92   \n",
      "XGBClassifier                   8.65        0.34           0.92   \n",
      "\n",
      "                            train_accuracy  test_precision  train_precision  \\\n",
      "LogisticRegression                    0.92            0.55             0.55   \n",
      "LinearSVC                             0.92            0.60             0.61   \n",
      "DecisionTreeClassifier                1.00            0.23             1.00   \n",
      "RandomForestClassifier                1.00            0.35             1.00   \n",
      "AdaBoostClassifier                    0.92            0.53             0.53   \n",
      "GradientBoostingClassifier            0.92            0.56             0.57   \n",
      "XGBClassifier                         0.92            0.51             0.75   \n",
      "\n",
      "                            test_recall  train_recall  test_f1  train_f1  \\\n",
      "LogisticRegression                 0.11          0.11     0.18      0.18   \n",
      "LinearSVC                          0.04          0.04     0.08      0.08   \n",
      "DecisionTreeClassifier             0.25          0.97     0.24      0.99   \n",
      "RandomForestClassifier             0.12          0.97     0.18      0.99   \n",
      "AdaBoostClassifier                 0.12          0.12     0.20      0.20   \n",
      "GradientBoostingClassifier         0.10          0.10     0.16      0.17   \n",
      "XGBClassifier                      0.10          0.16     0.17      0.27   \n",
      "\n",
      "                            test_roc_auc  train_roc_auc  \n",
      "LogisticRegression                  0.84           0.84  \n",
      "LinearSVC                           0.84           0.84  \n",
      "DecisionTreeClassifier              0.59           1.00  \n",
      "RandomForestClassifier              0.79           1.00  \n",
      "AdaBoostClassifier                  0.84           0.84  \n",
      "GradientBoostingClassifier          0.84           0.84  \n",
      "XGBClassifier                       0.84           0.88  \n"
     ]
    }
   ],
   "source": [
    "from sklearn.linear_model import LogisticRegression\n",
    "from sklearn.svm import LinearSVC\n",
    "from sklearn.tree import DecisionTreeClassifier\n",
    "from sklearn.ensemble import RandomForestClassifier\n",
    "from sklearn.ensemble import AdaBoostClassifier, GradientBoostingClassifier\n",
    "import xgboost as xgb\n",
    "\n",
    "models = [\n",
    "    LogisticRegression(random_state=42),\n",
    "    LinearSVC(random_state=42),\n",
    "    DecisionTreeClassifier(random_state=42),\n",
    "    RandomForestClassifier(random_state=42),\n",
    "    AdaBoostClassifier(random_state=42),\n",
    "    GradientBoostingClassifier(random_state=42),\n",
    "    xgb.XGBClassifier(random_state=42),\n",
    "]\n",
    "\n",
    "score_table = cross_validate_same_data_diff_model(models, X_train, y_train)\n",
    "print(score_table)"
   ]
  },
  {
   "cell_type": "markdown",
   "metadata": {},
   "source": [
    "* Logistic Regression has very low precision and recall for predicting \"YES\" values, which are the target of interest.\n",
    "* Similarly, Linear SVM mis-classifies almost all the \"YES\" values. Perhaps the data is not linearly separable.\n",
    "* SVM will likely take really long to train. So it is trained separately below using a subset of the training set.\n",
    "* Decision tree, random forest, and gradient boosting all perform similarly poor."
   ]
  },
  {
   "cell_type": "code",
   "execution_count": 22,
   "metadata": {},
   "outputs": [
    {
     "name": "stdout",
     "output_type": "stream",
     "text": [
      "Finished cross-validation for SVC\n",
      "                            fit_time  score_time  test_accuracy  \\\n",
      "LogisticRegression              1.96        0.12           0.92   \n",
      "LinearSVC                      74.72        0.14           0.92   \n",
      "DecisionTreeClassifier          2.68        0.21           0.86   \n",
      "RandomForestClassifier         27.37        4.96           0.91   \n",
      "AdaBoostClassifier             10.80        1.90           0.92   \n",
      "GradientBoostingClassifier     45.05        0.38           0.92   \n",
      "XGBClassifier                   8.65        0.34           0.92   \n",
      "SVC                            17.70       20.77           0.92   \n",
      "\n",
      "                            train_accuracy  test_precision  train_precision  \\\n",
      "LogisticRegression                    0.92            0.55             0.55   \n",
      "LinearSVC                             0.92            0.60             0.61   \n",
      "DecisionTreeClassifier                1.00            0.23             1.00   \n",
      "RandomForestClassifier                1.00            0.35             1.00   \n",
      "AdaBoostClassifier                    0.92            0.53             0.53   \n",
      "GradientBoostingClassifier            0.92            0.56             0.57   \n",
      "XGBClassifier                         0.92            0.51             0.75   \n",
      "SVC                                   0.92            0.58             0.96   \n",
      "\n",
      "                            test_recall  train_recall  test_f1  train_f1  \\\n",
      "LogisticRegression                 0.11          0.11     0.18      0.18   \n",
      "LinearSVC                          0.04          0.04     0.08      0.08   \n",
      "DecisionTreeClassifier             0.25          0.97     0.24      0.99   \n",
      "RandomForestClassifier             0.12          0.97     0.18      0.99   \n",
      "AdaBoostClassifier                 0.12          0.12     0.20      0.20   \n",
      "GradientBoostingClassifier         0.10          0.10     0.16      0.17   \n",
      "XGBClassifier                      0.10          0.16     0.17      0.27   \n",
      "SVC                                0.04          0.11     0.07      0.20   \n",
      "\n",
      "                            test_roc_auc  train_roc_auc  \n",
      "LogisticRegression                  0.84           0.84  \n",
      "LinearSVC                           0.84           0.84  \n",
      "DecisionTreeClassifier              0.59           1.00  \n",
      "RandomForestClassifier              0.79           1.00  \n",
      "AdaBoostClassifier                  0.84           0.84  \n",
      "GradientBoostingClassifier          0.84           0.84  \n",
      "XGBClassifier                       0.84           0.88  \n",
      "SVC                                 0.69           0.92  \n"
     ]
    }
   ],
   "source": [
    "from sklearn.svm import SVC\n",
    "\n",
    "# since only support vectors matter to SVM and we have too many samples, \n",
    "# let's use 10% of training data just to see the performance.\n",
    "\n",
    "X_train_10pct = X_train[:int(X_train.shape[0] * 0.1)]\n",
    "y_train_10pct = y_train[:int(y_train.shape[0] * 0.1)]\n",
    "svm_svc = SVC(degree=3)\n",
    "score_table = pd.concat([score_table, cross_validate_same_data_diff_model([svm_svc], X_train_10pct, y_train_10pct)])\n",
    "print(score_table)"
   ]
  },
  {
   "cell_type": "markdown",
   "metadata": {},
   "source": [
    "The column that I am interested in the most is \"test_recall\". And even the highest recall (DecisionTreeClassifier) is only 0.25\n",
    "Unfortunately, the polynomial kernel SVM model, like the others, is still not looking good for predicting \"YES\" values.\n",
    "From the initial analysis, we can see that some preprocessing steps are required else most models will perform poorly.\n",
    "The analysis of this exploration is summarized in the beginning of the 2nd exploration."
   ]
  },
  {
   "cell_type": "code",
   "execution_count": 30,
   "metadata": {},
   "outputs": [],
   "source": [
    "# save all the models and results\n",
    "dill.dump_session('exploration_1.db')"
   ]
  }
 ],
 "metadata": {
  "interpreter": {
   "hash": "9518128f597d7b00dc14729602cfd87fb7b2cf75925976bcb0d0e328a830a12b"
  },
  "kernelspec": {
   "display_name": "Python 3.9.10 64-bit",
   "language": "python",
   "name": "python3"
  },
  "language_info": {
   "codemirror_mode": {
    "name": "ipython",
    "version": 3
   },
   "file_extension": ".py",
   "mimetype": "text/x-python",
   "name": "python",
   "nbconvert_exporter": "python",
   "pygments_lexer": "ipython3",
   "version": "3.9.10"
  },
  "orig_nbformat": 4
 },
 "nbformat": 4,
 "nbformat_minor": 2
}
